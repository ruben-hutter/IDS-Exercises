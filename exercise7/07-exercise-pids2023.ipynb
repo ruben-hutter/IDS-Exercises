{
 "cells": [
  {
   "cell_type": "code",
   "execution_count": 97,
   "id": "3e4ceb4b",
   "metadata": {},
   "outputs": [
    {
     "name": "stdout",
     "output_type": "stream",
     "text": [
      "Requirement already satisfied: nose in /home/ruben/anaconda3/envs/data_science/lib/python3.11/site-packages (1.3.7)\n",
      "Requirement already satisfied: otter-grader in /home/ruben/anaconda3/envs/data_science/lib/python3.11/site-packages (4.3.1)\n",
      "Requirement already satisfied: dill in /home/ruben/anaconda3/envs/data_science/lib/python3.11/site-packages (from otter-grader) (0.3.6)\n",
      "Requirement already satisfied: jinja2 in /home/ruben/anaconda3/envs/data_science/lib/python3.11/site-packages (from otter-grader) (3.1.2)\n",
      "Requirement already satisfied: nbformat in /home/ruben/anaconda3/envs/data_science/lib/python3.11/site-packages (from otter-grader) (5.8.0)\n",
      "Requirement already satisfied: pandas in /home/ruben/anaconda3/envs/data_science/lib/python3.11/site-packages (from otter-grader) (1.5.3)\n",
      "Requirement already satisfied: PyYAML in /home/ruben/anaconda3/envs/data_science/lib/python3.11/site-packages (from otter-grader) (6.0)\n",
      "Requirement already satisfied: python-on-whales in /home/ruben/anaconda3/envs/data_science/lib/python3.11/site-packages (from otter-grader) (0.60.0)\n",
      "Requirement already satisfied: requests in /home/ruben/anaconda3/envs/data_science/lib/python3.11/site-packages (from otter-grader) (2.28.1)\n",
      "Requirement already satisfied: wrapt in /home/ruben/anaconda3/envs/data_science/lib/python3.11/site-packages (from otter-grader) (1.15.0)\n",
      "Requirement already satisfied: jupytext in /home/ruben/anaconda3/envs/data_science/lib/python3.11/site-packages (from otter-grader) (1.14.5)\n",
      "Requirement already satisfied: click in /home/ruben/anaconda3/envs/data_science/lib/python3.11/site-packages (from otter-grader) (8.1.3)\n",
      "Requirement already satisfied: fica>=0.2.0 in /home/ruben/anaconda3/envs/data_science/lib/python3.11/site-packages (from otter-grader) (0.2.2)\n",
      "Requirement already satisfied: ipython in /home/ruben/anaconda3/envs/data_science/lib/python3.11/site-packages (from otter-grader) (8.12.0)\n",
      "Requirement already satisfied: google-api-python-client in /home/ruben/anaconda3/envs/data_science/lib/python3.11/site-packages (from otter-grader) (2.83.0)\n",
      "Requirement already satisfied: google-auth-oauthlib in /home/ruben/anaconda3/envs/data_science/lib/python3.11/site-packages (from otter-grader) (1.0.0)\n",
      "Requirement already satisfied: six in /home/ruben/anaconda3/envs/data_science/lib/python3.11/site-packages (from otter-grader) (1.16.0)\n",
      "Requirement already satisfied: docutils in /home/ruben/anaconda3/envs/data_science/lib/python3.11/site-packages (from fica>=0.2.0->otter-grader) (0.19)\n",
      "Requirement already satisfied: sphinx in /home/ruben/anaconda3/envs/data_science/lib/python3.11/site-packages (from fica>=0.2.0->otter-grader) (6.1.3)\n",
      "Requirement already satisfied: httplib2<1dev,>=0.15.0 in /home/ruben/anaconda3/envs/data_science/lib/python3.11/site-packages (from google-api-python-client->otter-grader) (0.22.0)\n",
      "Requirement already satisfied: google-auth<3.0.0dev,>=1.19.0 in /home/ruben/anaconda3/envs/data_science/lib/python3.11/site-packages (from google-api-python-client->otter-grader) (2.17.1)\n",
      "Requirement already satisfied: google-auth-httplib2>=0.1.0 in /home/ruben/anaconda3/envs/data_science/lib/python3.11/site-packages (from google-api-python-client->otter-grader) (0.1.0)\n",
      "Requirement already satisfied: google-api-core!=2.0.*,!=2.1.*,!=2.2.*,!=2.3.0,<3.0.0dev,>=1.31.5 in /home/ruben/anaconda3/envs/data_science/lib/python3.11/site-packages (from google-api-python-client->otter-grader) (2.11.0)\n",
      "Requirement already satisfied: uritemplate<5,>=3.0.1 in /home/ruben/anaconda3/envs/data_science/lib/python3.11/site-packages (from google-api-python-client->otter-grader) (4.1.1)\n",
      "Requirement already satisfied: requests-oauthlib>=0.7.0 in /home/ruben/anaconda3/envs/data_science/lib/python3.11/site-packages (from google-auth-oauthlib->otter-grader) (1.3.1)\n",
      "Requirement already satisfied: backcall in /home/ruben/anaconda3/envs/data_science/lib/python3.11/site-packages (from ipython->otter-grader) (0.2.0)\n",
      "Requirement already satisfied: decorator in /home/ruben/anaconda3/envs/data_science/lib/python3.11/site-packages (from ipython->otter-grader) (5.1.1)\n",
      "Requirement already satisfied: jedi>=0.16 in /home/ruben/anaconda3/envs/data_science/lib/python3.11/site-packages (from ipython->otter-grader) (0.18.2)\n",
      "Requirement already satisfied: matplotlib-inline in /home/ruben/anaconda3/envs/data_science/lib/python3.11/site-packages (from ipython->otter-grader) (0.1.6)\n",
      "Requirement already satisfied: pickleshare in /home/ruben/anaconda3/envs/data_science/lib/python3.11/site-packages (from ipython->otter-grader) (0.7.5)\n",
      "Requirement already satisfied: prompt-toolkit!=3.0.37,<3.1.0,>=3.0.30 in /home/ruben/anaconda3/envs/data_science/lib/python3.11/site-packages (from ipython->otter-grader) (3.0.38)\n",
      "Requirement already satisfied: pygments>=2.4.0 in /home/ruben/anaconda3/envs/data_science/lib/python3.11/site-packages (from ipython->otter-grader) (2.14.0)\n",
      "Requirement already satisfied: stack-data in /home/ruben/anaconda3/envs/data_science/lib/python3.11/site-packages (from ipython->otter-grader) (0.6.2)\n",
      "Requirement already satisfied: traitlets>=5 in /home/ruben/anaconda3/envs/data_science/lib/python3.11/site-packages (from ipython->otter-grader) (5.9.0)\n",
      "Requirement already satisfied: pexpect>4.3 in /home/ruben/anaconda3/envs/data_science/lib/python3.11/site-packages (from ipython->otter-grader) (4.8.0)\n",
      "Requirement already satisfied: MarkupSafe>=2.0 in /home/ruben/anaconda3/envs/data_science/lib/python3.11/site-packages (from jinja2->otter-grader) (2.1.2)\n",
      "Requirement already satisfied: toml in /home/ruben/anaconda3/envs/data_science/lib/python3.11/site-packages (from jupytext->otter-grader) (0.10.2)\n",
      "Requirement already satisfied: markdown-it-py<3.0.0,>=1.0.0 in /home/ruben/anaconda3/envs/data_science/lib/python3.11/site-packages (from jupytext->otter-grader) (2.2.0)\n",
      "Requirement already satisfied: mdit-py-plugins in /home/ruben/anaconda3/envs/data_science/lib/python3.11/site-packages (from jupytext->otter-grader) (0.3.5)\n",
      "Requirement already satisfied: fastjsonschema in /home/ruben/anaconda3/envs/data_science/lib/python3.11/site-packages (from nbformat->otter-grader) (2.16.3)\n",
      "Requirement already satisfied: jsonschema>=2.6 in /home/ruben/anaconda3/envs/data_science/lib/python3.11/site-packages (from nbformat->otter-grader) (4.17.3)\n",
      "Requirement already satisfied: jupyter-core in /home/ruben/anaconda3/envs/data_science/lib/python3.11/site-packages (from nbformat->otter-grader) (5.3.0)\n",
      "Requirement already satisfied: python-dateutil>=2.8.1 in /home/ruben/anaconda3/envs/data_science/lib/python3.11/site-packages (from pandas->otter-grader) (2.8.2)\n",
      "Requirement already satisfied: pytz>=2020.1 in /home/ruben/anaconda3/envs/data_science/lib/python3.11/site-packages (from pandas->otter-grader) (2022.7)\n",
      "Requirement already satisfied: numpy>=1.21.0 in /home/ruben/anaconda3/envs/data_science/lib/python3.11/site-packages (from pandas->otter-grader) (1.23.5)\n",
      "Requirement already satisfied: pydantic>=1.5 in /home/ruben/anaconda3/envs/data_science/lib/python3.11/site-packages (from python-on-whales->otter-grader) (1.10.7)\n",
      "Requirement already satisfied: tqdm in /home/ruben/anaconda3/envs/data_science/lib/python3.11/site-packages (from python-on-whales->otter-grader) (4.65.0)\n",
      "Requirement already satisfied: typer>=0.4.1 in /home/ruben/anaconda3/envs/data_science/lib/python3.11/site-packages (from python-on-whales->otter-grader) (0.7.0)\n",
      "Requirement already satisfied: typing-extensions in /home/ruben/anaconda3/envs/data_science/lib/python3.11/site-packages (from python-on-whales->otter-grader) (4.5.0)\n",
      "Requirement already satisfied: charset-normalizer<3,>=2 in /home/ruben/anaconda3/envs/data_science/lib/python3.11/site-packages (from requests->otter-grader) (2.0.4)\n",
      "Requirement already satisfied: idna<4,>=2.5 in /home/ruben/anaconda3/envs/data_science/lib/python3.11/site-packages (from requests->otter-grader) (3.4)\n",
      "Requirement already satisfied: urllib3<1.27,>=1.21.1 in /home/ruben/anaconda3/envs/data_science/lib/python3.11/site-packages (from requests->otter-grader) (1.26.15)\n",
      "Requirement already satisfied: certifi>=2017.4.17 in /home/ruben/anaconda3/envs/data_science/lib/python3.11/site-packages (from requests->otter-grader) (2022.12.7)\n",
      "Requirement already satisfied: googleapis-common-protos<2.0dev,>=1.56.2 in /home/ruben/anaconda3/envs/data_science/lib/python3.11/site-packages (from google-api-core!=2.0.*,!=2.1.*,!=2.2.*,!=2.3.0,<3.0.0dev,>=1.31.5->google-api-python-client->otter-grader) (1.59.0)\n",
      "Requirement already satisfied: protobuf!=3.20.0,!=3.20.1,!=4.21.0,!=4.21.1,!=4.21.2,!=4.21.3,!=4.21.4,!=4.21.5,<5.0.0dev,>=3.19.5 in /home/ruben/anaconda3/envs/data_science/lib/python3.11/site-packages (from google-api-core!=2.0.*,!=2.1.*,!=2.2.*,!=2.3.0,<3.0.0dev,>=1.31.5->google-api-python-client->otter-grader) (4.22.1)\n",
      "Requirement already satisfied: cachetools<6.0,>=2.0.0 in /home/ruben/anaconda3/envs/data_science/lib/python3.11/site-packages (from google-auth<3.0.0dev,>=1.19.0->google-api-python-client->otter-grader) (5.3.0)\n",
      "Requirement already satisfied: pyasn1-modules>=0.2.1 in /home/ruben/anaconda3/envs/data_science/lib/python3.11/site-packages (from google-auth<3.0.0dev,>=1.19.0->google-api-python-client->otter-grader) (0.2.8)\n",
      "Requirement already satisfied: rsa<5,>=3.1.4 in /home/ruben/anaconda3/envs/data_science/lib/python3.11/site-packages (from google-auth<3.0.0dev,>=1.19.0->google-api-python-client->otter-grader) (4.9)\n",
      "Requirement already satisfied: pyparsing!=3.0.0,!=3.0.1,!=3.0.2,!=3.0.3,<4,>=2.4.2 in /home/ruben/anaconda3/envs/data_science/lib/python3.11/site-packages (from httplib2<1dev,>=0.15.0->google-api-python-client->otter-grader) (3.0.9)\n",
      "Requirement already satisfied: parso<0.9.0,>=0.8.0 in /home/ruben/anaconda3/envs/data_science/lib/python3.11/site-packages (from jedi>=0.16->ipython->otter-grader) (0.8.3)\n",
      "Requirement already satisfied: attrs>=17.4.0 in /home/ruben/anaconda3/envs/data_science/lib/python3.11/site-packages (from jsonschema>=2.6->nbformat->otter-grader) (22.2.0)\n",
      "Requirement already satisfied: pyrsistent!=0.17.0,!=0.17.1,!=0.17.2,>=0.14.0 in /home/ruben/anaconda3/envs/data_science/lib/python3.11/site-packages (from jsonschema>=2.6->nbformat->otter-grader) (0.19.3)\n",
      "Requirement already satisfied: mdurl~=0.1 in /home/ruben/anaconda3/envs/data_science/lib/python3.11/site-packages (from markdown-it-py<3.0.0,>=1.0.0->jupytext->otter-grader) (0.1.2)\n",
      "Requirement already satisfied: ptyprocess>=0.5 in /home/ruben/anaconda3/envs/data_science/lib/python3.11/site-packages (from pexpect>4.3->ipython->otter-grader) (0.7.0)\n",
      "Requirement already satisfied: wcwidth in /home/ruben/anaconda3/envs/data_science/lib/python3.11/site-packages (from prompt-toolkit!=3.0.37,<3.1.0,>=3.0.30->ipython->otter-grader) (0.2.6)\n",
      "Requirement already satisfied: oauthlib>=3.0.0 in /home/ruben/anaconda3/envs/data_science/lib/python3.11/site-packages (from requests-oauthlib>=0.7.0->google-auth-oauthlib->otter-grader) (3.2.2)\n",
      "Requirement already satisfied: platformdirs>=2.5 in /home/ruben/anaconda3/envs/data_science/lib/python3.11/site-packages (from jupyter-core->nbformat->otter-grader) (3.2.0)\n",
      "Requirement already satisfied: sphinxcontrib-applehelp in /home/ruben/anaconda3/envs/data_science/lib/python3.11/site-packages (from sphinx->fica>=0.2.0->otter-grader) (1.0.4)\n",
      "Requirement already satisfied: sphinxcontrib-devhelp in /home/ruben/anaconda3/envs/data_science/lib/python3.11/site-packages (from sphinx->fica>=0.2.0->otter-grader) (1.0.2)\n",
      "Requirement already satisfied: sphinxcontrib-jsmath in /home/ruben/anaconda3/envs/data_science/lib/python3.11/site-packages (from sphinx->fica>=0.2.0->otter-grader) (1.0.1)\n",
      "Requirement already satisfied: sphinxcontrib-htmlhelp>=2.0.0 in /home/ruben/anaconda3/envs/data_science/lib/python3.11/site-packages (from sphinx->fica>=0.2.0->otter-grader) (2.0.1)\n",
      "Requirement already satisfied: sphinxcontrib-serializinghtml>=1.1.5 in /home/ruben/anaconda3/envs/data_science/lib/python3.11/site-packages (from sphinx->fica>=0.2.0->otter-grader) (1.1.5)\n",
      "Requirement already satisfied: sphinxcontrib-qthelp in /home/ruben/anaconda3/envs/data_science/lib/python3.11/site-packages (from sphinx->fica>=0.2.0->otter-grader) (1.0.3)\n",
      "Requirement already satisfied: snowballstemmer>=2.0 in /home/ruben/anaconda3/envs/data_science/lib/python3.11/site-packages (from sphinx->fica>=0.2.0->otter-grader) (2.2.0)\n",
      "Requirement already satisfied: babel>=2.9 in /home/ruben/anaconda3/envs/data_science/lib/python3.11/site-packages (from sphinx->fica>=0.2.0->otter-grader) (2.12.1)\n",
      "Requirement already satisfied: alabaster<0.8,>=0.7 in /home/ruben/anaconda3/envs/data_science/lib/python3.11/site-packages (from sphinx->fica>=0.2.0->otter-grader) (0.7.13)\n",
      "Requirement already satisfied: imagesize>=1.3 in /home/ruben/anaconda3/envs/data_science/lib/python3.11/site-packages (from sphinx->fica>=0.2.0->otter-grader) (1.4.1)\n",
      "Requirement already satisfied: packaging>=21.0 in /home/ruben/anaconda3/envs/data_science/lib/python3.11/site-packages (from sphinx->fica>=0.2.0->otter-grader) (23.0)\n",
      "Requirement already satisfied: executing>=1.2.0 in /home/ruben/anaconda3/envs/data_science/lib/python3.11/site-packages (from stack-data->ipython->otter-grader) (1.2.0)\n",
      "Requirement already satisfied: asttokens>=2.1.0 in /home/ruben/anaconda3/envs/data_science/lib/python3.11/site-packages (from stack-data->ipython->otter-grader) (2.2.1)\n",
      "Requirement already satisfied: pure-eval in /home/ruben/anaconda3/envs/data_science/lib/python3.11/site-packages (from stack-data->ipython->otter-grader) (0.2.2)\n",
      "Requirement already satisfied: pyasn1<0.5.0,>=0.4.6 in /home/ruben/anaconda3/envs/data_science/lib/python3.11/site-packages (from pyasn1-modules>=0.2.1->google-auth<3.0.0dev,>=1.19.0->google-api-python-client->otter-grader) (0.4.8)\n",
      "Requirement already satisfied: seaborn in /home/ruben/anaconda3/envs/data_science/lib/python3.11/site-packages (0.12.2)\n",
      "Requirement already satisfied: numpy!=1.24.0,>=1.17 in /home/ruben/anaconda3/envs/data_science/lib/python3.11/site-packages (from seaborn) (1.23.5)\n",
      "Requirement already satisfied: pandas>=0.25 in /home/ruben/anaconda3/envs/data_science/lib/python3.11/site-packages (from seaborn) (1.5.3)\n",
      "Requirement already satisfied: matplotlib!=3.6.1,>=3.1 in /home/ruben/anaconda3/envs/data_science/lib/python3.11/site-packages (from seaborn) (3.7.1)\n",
      "Requirement already satisfied: contourpy>=1.0.1 in /home/ruben/anaconda3/envs/data_science/lib/python3.11/site-packages (from matplotlib!=3.6.1,>=3.1->seaborn) (1.0.5)\n",
      "Requirement already satisfied: cycler>=0.10 in /home/ruben/anaconda3/envs/data_science/lib/python3.11/site-packages (from matplotlib!=3.6.1,>=3.1->seaborn) (0.11.0)\n",
      "Requirement already satisfied: fonttools>=4.22.0 in /home/ruben/anaconda3/envs/data_science/lib/python3.11/site-packages (from matplotlib!=3.6.1,>=3.1->seaborn) (4.25.0)\n",
      "Requirement already satisfied: kiwisolver>=1.0.1 in /home/ruben/anaconda3/envs/data_science/lib/python3.11/site-packages (from matplotlib!=3.6.1,>=3.1->seaborn) (1.4.4)\n",
      "Requirement already satisfied: packaging>=20.0 in /home/ruben/anaconda3/envs/data_science/lib/python3.11/site-packages (from matplotlib!=3.6.1,>=3.1->seaborn) (23.0)\n",
      "Requirement already satisfied: pillow>=6.2.0 in /home/ruben/anaconda3/envs/data_science/lib/python3.11/site-packages (from matplotlib!=3.6.1,>=3.1->seaborn) (9.4.0)\n",
      "Requirement already satisfied: pyparsing>=2.3.1 in /home/ruben/anaconda3/envs/data_science/lib/python3.11/site-packages (from matplotlib!=3.6.1,>=3.1->seaborn) (3.0.9)\n",
      "Requirement already satisfied: python-dateutil>=2.7 in /home/ruben/anaconda3/envs/data_science/lib/python3.11/site-packages (from matplotlib!=3.6.1,>=3.1->seaborn) (2.8.2)\n",
      "Requirement already satisfied: pytz>=2020.1 in /home/ruben/anaconda3/envs/data_science/lib/python3.11/site-packages (from pandas>=0.25->seaborn) (2022.7)\n",
      "Requirement already satisfied: six>=1.5 in /home/ruben/anaconda3/envs/data_science/lib/python3.11/site-packages (from python-dateutil>=2.7->matplotlib!=3.6.1,>=3.1->seaborn) (1.16.0)\n"
     ]
    }
   ],
   "source": [
    "import sys\n",
    "!{sys.executable} -m pip install nose\n",
    "!{sys.executable} -m pip install otter-grader\n",
    "!{sys.executable} -m pip install seaborn"
   ]
  },
  {
   "cell_type": "markdown",
   "id": "a1f4e336",
   "metadata": {},
   "source": [
    "# Exercise sheet 7\n",
    "**Hello everyone!**\n",
    "\n",
    "**Points: 15 (+2 bonus)**\n",
    "\n",
    "Topics of this exercise sheet are:\n",
    "* Probabilities\n",
    "* Law of large numbers\n",
    "* Central limit theorem\n",
    "\n",
    "Please let us know if you have questions or problems! <br>\n",
    "Contact us during the exercise session, on [ADAM](https://adam.unibas.ch/goto_adam_crs_1266890.html), [Piazza](https://piazza.com/unibas.ch/spring2023/63982), or [via email](https://sada.dmi.unibas.ch/en/teaching/pids23).\n",
    "\n",
    "Your notebook will be automatically graded using gradescope. To get graded, you need to upload the file *07-exercise-pids2023.ipynb* to gradescope. If you are using JupyterHub, make sure you have saved the current notebook, then you can download this file by following: *File*->*Download* and save the file on you computer.\n",
    "\n",
    "The sheet is released before the exercise session on Tuesday. You have until the next exercise session on Tuesday to submit this sheet. Most of the questions of the exercise sheet can be handle during the session.\n",
    "\n",
    "**Handout date**: 18.04.2023 <br>\n",
    "**Submission date**: 25.04.2023 before 16:00 <br>\n",
    "\n",
    "\n",
    "### Please name the variables as suggested! Be careful with the type! Otherwise the grading system will fail you!"
   ]
  },
  {
   "cell_type": "code",
   "execution_count": 98,
   "id": "657e1ec6",
   "metadata": {},
   "outputs": [],
   "source": [
    "import numpy as np\n",
    "import matplotlib.pyplot as plt\n",
    "from nose.tools import assert_is_instance, assert_equal, assert_almost_equal, assert_true\n",
    "from scipy.stats import bernoulli"
   ]
  },
  {
   "cell_type": "code",
   "execution_count": 99,
   "id": "b796e44f",
   "metadata": {},
   "outputs": [],
   "source": [
    "import otter\n",
    "grader = otter.Notebook()"
   ]
  },
  {
   "cell_type": "markdown",
   "id": "d43f1e5e",
   "metadata": {},
   "source": [
    "## 1) Central limit theorem (10 points)\n",
    "The central limit theorem is a key results of practical importance for data scientists. In this first part, we will work around this result to better understand it."
   ]
  },
  {
   "cell_type": "markdown",
   "id": "4e16d0d9",
   "metadata": {},
   "source": [
    "\n",
    "Let's start with the simplest statistical example, the toss of a coin. We simulate the toss using the generation of a Bernoulli random variable in the library scipy. We display the empirical distribution (histogram) of the generated samples."
   ]
  },
  {
   "cell_type": "code",
   "execution_count": 100,
   "id": "0d25ed80",
   "metadata": {},
   "outputs": [
    {
     "data": {
      "text/plain": [
       "(array([40.,  0.,  0.,  0.,  0.,  0.,  0.,  0.,  0., 60.]),\n",
       " array([0. , 0.1, 0.2, 0.3, 0.4, 0.5, 0.6, 0.7, 0.8, 0.9, 1. ]),\n",
       " <BarContainer object of 10 artists>)"
      ]
     },
     "execution_count": 100,
     "metadata": {},
     "output_type": "execute_result"
    },
    {
     "data": {
      "image/png": "[encoded data removed]",
      "text/plain": [
       "<Figure size 640x480 with 1 Axes>"
      ]
     },
     "metadata": {},
     "output_type": "display_data"
    }
   ],
   "source": [
    "toss_coin = bernoulli.rvs(p=0.5, size=100) \n",
    "plt.hist(toss_coin)   "
   ]
  },
  {
   "cell_type": "markdown",
   "id": "d3974401",
   "metadata": {},
   "source": [
    "### 1a (2 points)\n",
    "Reproduce this experiment $N=1000$ times. Store the result in an array *toss_coin_all* of size (1000,100)."
   ]
  },
  {
   "cell_type": "code",
   "execution_count": 101,
   "id": "c836c252",
   "metadata": {
    "nbgrader": {
     "grade": false,
     "grade_id": "cell-9faaf668e859520f",
     "locked": false,
     "schema_version": 3,
     "solution": true,
     "task": false
    }
   },
   "outputs": [],
   "source": [
    "N=1000\n",
    "toss_coin_all = np.array([bernoulli.rvs(p=0.5, size=100) for _ in range(N)])"
   ]
  },
  {
   "cell_type": "code",
   "execution_count": 102,
   "id": "47330f7a",
   "metadata": {
    "deletable": false,
    "editable": false
   },
   "outputs": [
    {
     "data": {
      "text/html": [
       "<p><strong><pre style='display: inline;'>Question 1a</pre></strong> passed! 🎉</p>"
      ],
      "text/plain": [
       "Question 1a results: All test cases passed!"
      ]
     },
     "execution_count": 102,
     "metadata": {},
     "output_type": "execute_result"
    }
   ],
   "source": [
    "grader.check(\"Question 1a\")"
   ]
  },
  {
   "cell_type": "markdown",
   "id": "2ded77d8",
   "metadata": {},
   "source": [
    "### 1b (1 point)\n",
    "For each of the $N=1000$ experiment, compute the sum of the obtained values. Store the result in an array named *toss_sum*."
   ]
  },
  {
   "cell_type": "code",
   "execution_count": 103,
   "id": "f894cea9",
   "metadata": {
    "nbgrader": {
     "grade": false,
     "grade_id": "cell-43a0a0442ecf9f4c",
     "locked": false,
     "schema_version": 3,
     "solution": true,
     "task": false
    }
   },
   "outputs": [],
   "source": [
    "toss_sum = np.array([np.sum(i) for i in toss_coin_all])"
   ]
  },
  {
   "cell_type": "code",
   "execution_count": 104,
   "id": "3cea7a29",
   "metadata": {
    "deletable": false,
    "editable": false
   },
   "outputs": [
    {
     "data": {
      "text/html": [
       "<p><strong><pre style='display: inline;'>Question 1b</pre></strong> passed! ✨</p>"
      ],
      "text/plain": [
       "Question 1b results: All test cases passed!"
      ]
     },
     "execution_count": 104,
     "metadata": {},
     "output_type": "execute_result"
    }
   ],
   "source": [
    "grader.check(\"Question 1b\")"
   ]
  },
  {
   "cell_type": "markdown",
   "id": "2ef73f0c",
   "metadata": {},
   "source": [
    "### 1c (2 points) \n",
    "Then, display the histogram of this result. Does it look like an empirical Gaussian distribution?"
   ]
  },
  {
   "cell_type": "markdown",
   "id": "2c4bce2a",
   "metadata": {
    "deletable": false,
    "editable": false
   },
   "source": [
    "<!-- BEGIN QUESTION -->\n",
    "\n",
    "<!--\n",
    "BEGIN QUESTION\n",
    "name: Question 1c        # (required) the path to a requirements.txt file\n",
    "manual: true     # whether this is a manually-graded question\n",
    "points: 2      # how many points this question is worth; defaults to 1 internally\n",
    "check_cell: false  # whether to include a check cell after this question (for autograded questions only)\n",
    "-->"
   ]
  },
  {
   "cell_type": "code",
   "execution_count": 105,
   "id": "c156ca79",
   "metadata": {},
   "outputs": [
    {
     "data": {
      "text/plain": [
       "(array([0.00366667, 0.0022    , 0.0088    , 0.01686667, 0.0198    ,\n",
       "        0.05573333, 0.03373333, 0.05353333, 0.08653333, 0.06306667,\n",
       "        0.06746667, 0.09606667, 0.066     , 0.06526667, 0.022     ,\n",
       "        0.0264    , 0.0264    , 0.00586667, 0.0066    , 0.00513333,\n",
       "        0.00073333, 0.00146667]),\n",
       " array([36.        , 37.36363636, 38.72727273, 40.09090909, 41.45454545,\n",
       "        42.81818182, 44.18181818, 45.54545455, 46.90909091, 48.27272727,\n",
       "        49.63636364, 51.        , 52.36363636, 53.72727273, 55.09090909,\n",
       "        56.45454545, 57.81818182, 59.18181818, 60.54545455, 61.90909091,\n",
       "        63.27272727, 64.63636364, 66.        ]),\n",
       " [<matplotlib.patches.Polygon at 0x7faa8144c610>])"
      ]
     },
     "execution_count": 105,
     "metadata": {},
     "output_type": "execute_result"
    },
    {
     "data": {
      "image/png": "[encoded data removed]",
      "text/plain": [
       "<Figure size 640x480 with 1 Axes>"
      ]
     },
     "metadata": {},
     "output_type": "display_data"
    }
   ],
   "source": [
    "fig, ax = plt.subplots(1, 1)\n",
    "ax.hist(toss_sum, density=True, bins='auto', histtype='stepfilled', alpha=0.2)"
   ]
  },
  {
   "cell_type": "markdown",
   "id": "5f3eb2f1",
   "metadata": {},
   "source": [
    "<!-- END QUESTION -->\n",
    "\n",
    "\n",
    "\n",
    "### 1d (2 point)\n",
    "Now we want to fit a Gaussian distribution to the samples in the previsous part. In particualr, we want to fit a Gaussian distribution to the following random variable:\n",
    "\n",
    "$$\n",
    " S_N = \\sum_{i = 1}^N X_i\n",
    "$$\n",
    "As mentioned in the lecture, the probablity distribution of $S_N$ tends to a Gaussian distribution as N goes to infinity:\n",
    "$$\n",
    " S_N \\to \\mathcal{N}(N \\mu, N \\sigma^2)\n",
    "$$\n",
    "Now, display the probability density function (pdf) of the Gaussian random variable where the number of samples $N = 100$ and the mean and standard deviation of the Bernouli distribution $\\mu = 0.5$, $\\sigma = 0.5$. Please use the variable \"x\" defined below as the x-axis of your plot. Please use the scipy library and the example in this webpage: https://docs.scipy.org/doc/scipy/reference/generated/scipy.stats.norm.html."
   ]
  },
  {
   "cell_type": "markdown",
   "id": "c3dd1fbb",
   "metadata": {
    "deletable": false,
    "editable": false
   },
   "source": [
    "<!-- BEGIN QUESTION -->\n",
    "\n",
    "<!--\n",
    "BEGIN QUESTION\n",
    "name: Question 1d        # (required) the path to a requirements.txt file\n",
    "manual: true     # whether this is a manually-graded question\n",
    "points: 2      # how many points this question is worth; defaults to 1 internally\n",
    "check_cell: false  # whether to include a check cell after this question (for autograded questions only)\n",
    "-->"
   ]
  },
  {
   "cell_type": "code",
   "execution_count": 106,
   "id": "c7559022",
   "metadata": {
    "nbgrader": {
     "grade": false,
     "grade_id": "cell-78fc29e914b773a4",
     "locked": false,
     "schema_version": 3,
     "solution": true,
     "task": false
    }
   },
   "outputs": [
    {
     "data": {
      "text/plain": [
       "<matplotlib.legend.Legend at 0x7faa814eb250>"
      ]
     },
     "execution_count": 106,
     "metadata": {},
     "output_type": "execute_result"
    },
    {
     "data": {
      "image/png": "[encoded data removed]",
      "text/plain": [
       "<Figure size 640x480 with 1 Axes>"
      ]
     },
     "metadata": {},
     "output_type": "display_data"
    }
   ],
   "source": [
    "from scipy.stats import norm\n",
    "\n",
    "N = 100\n",
    "mu = 0.5\n",
    "sigma = 0.5\n",
    "x = np.linspace(norm.ppf(0.01, N * mu, np.sqrt(N) * sigma),\n",
    "                norm.ppf(0.99, N * mu, np.sqrt(N) * sigma),\n",
    "                100)\n",
    "\n",
    "fig, ax = plt.subplots(1, 1)\n",
    "ax.plot(x, norm.pdf(x, N * mu, np.sqrt(N) * sigma), 'r-', label='norm pdf')\n",
    "ax.set_xlim([x[0], x[-1]])\n",
    "ax.legend(loc='best', frameon=False)"
   ]
  },
  {
   "cell_type": "markdown",
   "id": "8b37455f",
   "metadata": {},
   "source": [
    "<!-- END QUESTION -->\n",
    "\n",
    "\n",
    "\n",
    "### 1e (3 points)\n",
    "Display the empirical distribution of the sum of tossed coins and the pdf of the Gaussian random variable on the same plot. Please use the variable \"x\" defined below as the x-axis of your plot."
   ]
  },
  {
   "cell_type": "code",
   "execution_count": 107,
   "id": "25f287c9",
   "metadata": {
    "nbgrader": {
     "grade": false,
     "grade_id": "cell-ff2129147845b03d",
     "locked": false,
     "schema_version": 3,
     "solution": true,
     "task": false
    }
   },
   "outputs": [
    {
     "data": {
      "text/plain": [
       "<matplotlib.legend.Legend at 0x7faa8133da50>"
      ]
     },
     "execution_count": 107,
     "metadata": {},
     "output_type": "execute_result"
    },
    {
     "data": {
      "image/png": "[encoded data removed]",
      "text/plain": [
       "<Figure size 640x480 with 1 Axes>"
      ]
     },
     "metadata": {},
     "output_type": "display_data"
    }
   ],
   "source": [
    "x = np.linspace(norm.ppf(0.01, N * mu, np.sqrt(N) * sigma),\n",
    "                norm.ppf(0.99, N * mu, np.sqrt(N) * sigma),\n",
    "                100)\n",
    "\n",
    "fig, ax = plt.subplots(1, 1)\n",
    "ax.hist(toss_sum, density=True, bins='auto', histtype='stepfilled', alpha=0.2)\n",
    "ax.plot(x, norm.pdf(x, N * mu, np.sqrt(N) * sigma), 'r-', label='norm pdf')\n",
    "ax.set_xlim([x[0], x[-1]])\n",
    "ax.legend(loc='best', frameon=False)"
   ]
  },
  {
   "cell_type": "markdown",
   "id": "0bc6a6c4",
   "metadata": {},
   "source": [
    "<!-- END QUESTION -->\n",
    "\n",
    "\n",
    "\n",
    "What happen if $N$ is now larger than 1000? Try with different N! (no need to write a nice answer here, just change the value one or two times to see what is happening).\n",
    "***And don't forget to set it back to N=1000.***"
   ]
  },
  {
   "attachments": {},
   "cell_type": "markdown",
   "id": "96972d46",
   "metadata": {},
   "source": [
    "The histogram takes a shape more like a Gaussian as the parameter N becomes larger, thus precisely the central limit theorem."
   ]
  },
  {
   "cell_type": "markdown",
   "id": "2baf7165",
   "metadata": {},
   "source": [
    "## 2) Law of large numbers (LLN) (5 points)\n",
    "The LLN is also a key tool used by all data scientists. This principle is the basis of what is called Monte Carlo simulation. <br>\n",
    "In this paragraph, we will use this result to estimate the mean of a Poisson random variable."
   ]
  },
  {
   "cell_type": "markdown",
   "id": "469f5cfd",
   "metadata": {},
   "source": [
    "### 2a (1 point)\n",
    "Using the scipy library, display the probability mass function of the Poisson distribution for $\\lambda=5$. Please use the variable \"x\" defined below as the x-axis of your plot. Please use the scipy library and the example in this webpage: https://docs.scipy.org/doc/scipy/reference/generated/scipy.stats.poisson.html."
   ]
  },
  {
   "cell_type": "markdown",
   "id": "38a2abf9",
   "metadata": {
    "deletable": false,
    "editable": false
   },
   "source": [
    "<!-- BEGIN QUESTION -->\n",
    "\n",
    "<!--\n",
    "BEGIN QUESTION\n",
    "name: Question 2a        # (required) the path to a requirements.txt file\n",
    "manual: true     # whether this is a manually-graded question\n",
    "points: 1      # how many points this question is worth; defaults to 1 internally\n",
    "check_cell: false  # whether to include a check cell after this question (for autograded questions only)\n",
    "-->"
   ]
  },
  {
   "cell_type": "code",
   "execution_count": 108,
   "id": "33aab761",
   "metadata": {
    "nbgrader": {
     "grade": false,
     "grade_id": "cell-5187511bc27d80b6",
     "locked": false,
     "schema_version": 3,
     "solution": true,
     "task": false
    }
   },
   "outputs": [
    {
     "data": {
      "text/plain": [
       "Ellipsis"
      ]
     },
     "execution_count": 108,
     "metadata": {},
     "output_type": "execute_result"
    }
   ],
   "source": [
    "from scipy.stats import poisson\n",
    "lam = 5\n",
    "x = np.arange(poisson.ppf(0.0001, lam),\n",
    "              poisson.ppf(0.9999, lam))\n",
    "\n",
    "..."
   ]
  },
  {
   "cell_type": "markdown",
   "id": "be820436",
   "metadata": {},
   "source": [
    "<!-- END QUESTION -->\n",
    "\n",
    "\n",
    "\n",
    "### 2b (2 points)\n",
    "Generate $N=10000$ independent samples from the given poisson distribution ($\\lambda = 5$) and store them in the variable \"data\". Calculate the empirical mean when using the first $i = 11,12,13,...,10000$ samples from the \"data\" variable. You can use \"np.cumsum\" function in numpy which calculates the cumulative mean. Please plot the the calculated empirical means and compare them with the true mean of the given poisson distribution (expected value) $\\lambda = 5$."
   ]
  },
  {
   "cell_type": "markdown",
   "id": "de7b515e",
   "metadata": {
    "deletable": false,
    "editable": false
   },
   "source": [
    "<!-- BEGIN QUESTION -->\n",
    "\n",
    "<!--\n",
    "BEGIN QUESTION\n",
    "name: Question 2b        # (required) the path to a requirements.txt file\n",
    "manual: true     # whether this is a manually-graded question\n",
    "points: 2      # how many points this question is worth; defaults to 1 internally\n",
    "check_cell: false  # whether to include a check cell after this question (for autograded questions only)\n",
    "-->"
   ]
  },
  {
   "cell_type": "code",
   "execution_count": 109,
   "id": "d5f15236",
   "metadata": {
    "nbgrader": {
     "grade": false,
     "grade_id": "cell-786d4f2af8ee5398",
     "locked": false,
     "schema_version": 3,
     "solution": true,
     "task": false
    }
   },
   "outputs": [],
   "source": [
    "N = 10000\n",
    "..."
   ]
  },
  {
   "cell_type": "markdown",
   "id": "aaf31ffe",
   "metadata": {},
   "source": [
    "<!-- END QUESTION -->\n",
    "\n",
    "\n",
    "\n",
    "### 2c (2 points)\n",
    "It is rather hard to see if the empirical mean is tending to the true one. Plot the absolute error between the empirical and the true mean ($y$-axis) against the number of samples used ($x$-axis). Use a log scale (for the error)."
   ]
  },
  {
   "cell_type": "markdown",
   "id": "c62513e0",
   "metadata": {
    "deletable": false,
    "editable": false
   },
   "source": [
    "<!-- BEGIN QUESTION -->\n",
    "\n",
    "<!--\n",
    "BEGIN QUESTION\n",
    "name: Question 2c        # (required) the path to a requirements.txt file\n",
    "manual: true     # whether this is a manually-graded question\n",
    "points: 2      # how many points this question is worth; defaults to 1 internally\n",
    "check_cell: false  # whether to include a check cell after this question (for autograded questions only)\n",
    "-->"
   ]
  },
  {
   "cell_type": "code",
   "execution_count": 110,
   "id": "435f3e14",
   "metadata": {
    "nbgrader": {
     "grade": false,
     "grade_id": "cell-7942b6a67e959773",
     "locked": false,
     "schema_version": 3,
     "solution": true,
     "task": false
    }
   },
   "outputs": [
    {
     "data": {
      "text/plain": [
       "Ellipsis"
      ]
     },
     "execution_count": 110,
     "metadata": {},
     "output_type": "execute_result"
    }
   ],
   "source": [
    "..."
   ]
  },
  {
   "cell_type": "markdown",
   "id": "4250d34c",
   "metadata": {},
   "source": [
    "<!-- END QUESTION -->\n",
    "\n",
    "\n",
    "\n",
    "## 3) (Bonus) Monte Carlo simulation (2 point)"
   ]
  },
  {
   "cell_type": "markdown",
   "id": "e73f7d4f",
   "metadata": {},
   "source": [
    "Did you notice that the previous plots change every time you run again the cells?\n",
    "This is because the average mean that we compute is still a random estimation. For some realization it may be close to the true mean, for other it may be far. <br>\n",
    "To get a clear conclusion, we might want to know what is happening in average, what is the average behaviour of this estimator. <br>\n",
    "<br>\n",
    "To do so, we will do a Monte Carlo simulation, i.e. reproduce the previous experiment several times and compute the average error.<br>\n"
   ]
  },
  {
   "cell_type": "markdown",
   "id": "a8fc3759",
   "metadata": {},
   "source": [
    "### 3a (2 point) (Optional):\n",
    "Compute and store the absolute error between the average means (using $1,2,3,... 10000$ samples) and the true mean. Reproduce this experiment $M=100$ times, and display the average error. <br>\n",
    "Hint: for a better display, you can display ony error for $100, 101, ... 10000$ samples."
   ]
  },
  {
   "cell_type": "markdown",
   "id": "276a881d",
   "metadata": {
    "deletable": false,
    "editable": false
   },
   "source": [
    "<!-- BEGIN QUESTION -->\n",
    "\n",
    "<!--\n",
    "BEGIN QUESTION\n",
    "name: Question 3a        # (required) the path to a requirements.txt file\n",
    "manual: true     # whether this is a manually-graded question\n",
    "points: 2      # how many points this question is worth; defaults to 1 internally\n",
    "check_cell: false  # whether to include a check cell after this question (for autograded questions only)\n",
    "-->"
   ]
  },
  {
   "cell_type": "code",
   "execution_count": 111,
   "id": "7fe2af6c",
   "metadata": {
    "nbgrader": {
     "grade": false,
     "grade_id": "cell-45781b77bc7ed15b",
     "locked": false,
     "schema_version": 3,
     "solution": true,
     "task": false
    }
   },
   "outputs": [
    {
     "ename": "AttributeError",
     "evalue": "'ellipsis' object has no attribute 'mean'",
     "output_type": "error",
     "traceback": [
      "\u001b[0;31m---------------------------------------------------------------------------\u001b[0m",
      "\u001b[0;31mAttributeError\u001b[0m                            Traceback (most recent call last)",
      "Cell \u001b[0;32mIn[111], line 6\u001b[0m\n\u001b[1;32m      4\u001b[0m \u001b[39m.\u001b[39m\u001b[39m.\u001b[39m\u001b[39m.\u001b[39m\n\u001b[1;32m      5\u001b[0m start \u001b[39m=\u001b[39m \u001b[39m100\u001b[39m\n\u001b[0;32m----> 6\u001b[0m plt\u001b[39m.\u001b[39mplot(err_abs\u001b[39m.\u001b[39;49mmean(\u001b[39m0\u001b[39m)[start:])\n",
      "\u001b[0;31mAttributeError\u001b[0m: 'ellipsis' object has no attribute 'mean'"
     ]
    }
   ],
   "source": [
    "M = 100\n",
    "err_abs = np.zeros((M,N))\n",
    "err_abs = ...\n",
    "...\n",
    "start = 100\n",
    "plt.plot(err_abs.mean(0)[start:])"
   ]
  },
  {
   "cell_type": "markdown",
   "id": "d4483ebb",
   "metadata": {},
   "source": [
    "<!-- END QUESTION -->\n",
    "\n",
    "\n",
    "\n",
    "Notice that the plot is not changing much (as in the begining of the LLN paragraph) every time you run the code. This is (maybe) your first Monte Carlo simulation!"
   ]
  },
  {
   "cell_type": "markdown",
   "id": "45e76d7f",
   "metadata": {},
   "source": [
    "We saw in this notebook that by reproducing a large number of time the same experiment, we are able to estimate information about the observation, such as the distribution of the mean of some quantities. However, in many practical situations, it is impossible to have acces to a very large amount of data. In the following of the course you will see that we can construct confidence interval from the observations. This tool will be key to known either or not we can trust the result obtained with a limited amount of data."
   ]
  },
  {
   "cell_type": "markdown",
   "id": "b94add8e",
   "metadata": {
    "deletable": false,
    "editable": false
   },
   "source": [
    "---\n",
    "\n",
    "To double-check your work, the cell below will rerun all of the autograder tests."
   ]
  },
  {
   "cell_type": "code",
   "execution_count": null,
   "id": "da831855",
   "metadata": {
    "deletable": false,
    "editable": false
   },
   "outputs": [],
   "source": [
    "grader.check_all()"
   ]
  }
 ],
 "metadata": {
  "celltoolbar": "Create Assignment",
  "kernelspec": {
   "display_name": "Python 3",
   "language": "python",
   "name": "python3"
  },
  "language_info": {
   "codemirror_mode": {
    "name": "ipython",
    "version": 3
   },
   "file_extension": ".py",
   "mimetype": "text/x-python",
   "name": "python",
   "nbconvert_exporter": "python",
   "pygments_lexer": "ipython3",
   "version": "3.11.2"
  },
  "vscode": {
   "interpreter": {
    "hash": "07cb0c0be5d5c09ece9af089e9de2ad5458cdd62d0537c1d9b85ed67c101dd7b"
   }
  }
 },
 "nbformat": 4,
 "nbformat_minor": 5
}
