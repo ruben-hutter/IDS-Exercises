{
 "cells": [
  {
   "cell_type": "markdown",
   "id": "6e35c8eb",
   "metadata": {},
   "source": [
    "# Exercise sheet 10\n",
    "**Hello everyone!**\n",
    "\n",
    "**Points: 15**\n",
    "\n",
    "Please let us know if you have questions or problems! <br>\n",
    "Contact us during the exercise session, on [Piazza](https://piazza.com/class/leibdr4lk8n3w4), or [via email](https://sada.dmi.unibas.ch/en/teaching/pids23).\n",
    "\n",
    "Please submit this exercise sheet on **GRADESCOPE**.\n",
    "Naming conventions:\n",
    "* Name of notebook: \"10-exercise-pids2023.ipynb\"\n",
    "\n",
    "Your notebook will be automatically graded using gradescope. To get graded, you need to upload the file *10-exercise-pids2023.ipynb* to gradescope. If you are using JupyterHub, make sure you have saved the current notebook, then you can download this file by following: *File*->*Download* and save the file on you computer.\n",
    "\n",
    "The sheet is released before the exercise session on Tuesday. You have until the next exercise session on Tuesday to submit this sheet. Most of the questions of the exercise sheet can be handle during the session.\n",
    "\n",
    "**Handout date**: 08.05.2023 <br>\n",
    "**Submission date**: 16.05.2023 <br>\n",
    "\n",
    "### Please name the variables as suggested! Be careful with the type! Otherwise the grading system will fail you!"
   ]
  },
  {
   "cell_type": "code",
   "execution_count": 1,
   "id": "e1bce01c",
   "metadata": {},
   "outputs": [],
   "source": [
    "import pandas as pd\n",
    "import seaborn as sns\n",
    "import matplotlib.pyplot as plt\n",
    "import numpy as np\n",
    "from scipy import stats\n",
    "from scipy.stats import norm\n",
    "from nose.tools import assert_is_instance, assert_equal, assert_almost_equal, assert_true"
   ]
  },
  {
   "cell_type": "markdown",
   "id": "7592ad18",
   "metadata": {},
   "source": [
    "<p><a href=\"https://commons.wikimedia.org/wiki/File:Basel_-_M%C3%BCnsterpfalz3.jpg#/media/Datei:Basel_-_Münsterpfalz3.jpg\"><img src=\"https://upload.wikimedia.org/wikipedia/commons/1/18/Basel_-_M%C3%BCnsterpfalz3.jpg\" alt=\"Basler Münster mit Pfalz und der Mittleren Rheinbrücke\" height=\"486\" width=\"1280\"></a></p>"
   ]
  },
  {
   "cell_type": "markdown",
   "id": "e0e7361b",
   "metadata": {},
   "source": [
    "# Basel's neighborhoods\n",
    "We are working with a dataset containing information about Basel and its neighborhoods. You can find it here: https://opendata.swiss/de/dataset/kennzahlen-zu-den-basler-wohnvierteln-und-landgemeinden. It's also uploaded as a csv to this folder."
   ]
  },
  {
   "cell_type": "code",
   "execution_count": 2,
   "id": "7c1610bb",
   "metadata": {},
   "outputs": [
    {
     "data": {
      "text/html": [
       "<div>\n",
       "<style scoped>\n",
       "    .dataframe tbody tr th:only-of-type {\n",
       "        vertical-align: middle;\n",
       "    }\n",
       "\n",
       "    .dataframe tbody tr th {\n",
       "        vertical-align: top;\n",
       "    }\n",
       "\n",
       "    .dataframe thead th {\n",
       "        text-align: right;\n",
       "    }\n",
       "</style>\n",
       "<table border=\"1\" class=\"dataframe\">\n",
       "  <thead>\n",
       "    <tr style=\"text-align: right;\">\n",
       "      <th></th>\n",
       "      <th>publikationsjahr</th>\n",
       "      <th>wohnviertel_id</th>\n",
       "      <th>wohnviertel_name</th>\n",
       "      <th>anteil_sozialhilfeempfaenger</th>\n",
       "      <th>anteil_auslaender</th>\n",
       "      <th>anteil_personen_ohne_religionszugehoerigkeit</th>\n",
       "      <th>anteil_personen_in_einpersonenhaushalten</th>\n",
       "      <th>gymnasialquote</th>\n",
       "      <th>altersquotient</th>\n",
       "      <th>anteil_sesshafte</th>\n",
       "      <th>...</th>\n",
       "      <th>baujahr_der_wohngebaeude</th>\n",
       "      <th>anteil_einfamilienhaeuser</th>\n",
       "      <th>anteil_gruenflaechen</th>\n",
       "      <th>flaeche_pro_wohnung</th>\n",
       "      <th>wohnflaeche_pro_person</th>\n",
       "      <th>vermoegenssteuer_pro_veranlagung</th>\n",
       "      <th>einkommenssteuer_pro_veranlagung</th>\n",
       "      <th>erwerbstaetigenquote</th>\n",
       "      <th>arbeitsplaetze_pro_einwohner</th>\n",
       "      <th>arbeitslosenquote</th>\n",
       "    </tr>\n",
       "  </thead>\n",
       "  <tbody>\n",
       "    <tr>\n",
       "      <th>0</th>\n",
       "      <td>2015</td>\n",
       "      <td>1</td>\n",
       "      <td>Altstadt Grossbasel</td>\n",
       "      <td>0.017115</td>\n",
       "      <td>0.251426</td>\n",
       "      <td>0.517930</td>\n",
       "      <td>0.324463</td>\n",
       "      <td>0.777778</td>\n",
       "      <td>0.297921</td>\n",
       "      <td>0.328851</td>\n",
       "      <td>...</td>\n",
       "      <td>1825.400406</td>\n",
       "      <td>0.101626</td>\n",
       "      <td>0.066693</td>\n",
       "      <td>90.808059</td>\n",
       "      <td>55.739958</td>\n",
       "      <td>4297.479726</td>\n",
       "      <td>15795.731129</td>\n",
       "      <td>0.824263</td>\n",
       "      <td>4.354447</td>\n",
       "      <td>0.019072</td>\n",
       "    </tr>\n",
       "    <tr>\n",
       "      <th>1</th>\n",
       "      <td>2015</td>\n",
       "      <td>2</td>\n",
       "      <td>Vorstädte</td>\n",
       "      <td>0.031635</td>\n",
       "      <td>0.353328</td>\n",
       "      <td>0.532251</td>\n",
       "      <td>0.345813</td>\n",
       "      <td>0.636364</td>\n",
       "      <td>0.374726</td>\n",
       "      <td>0.279170</td>\n",
       "      <td>...</td>\n",
       "      <td>1899.097967</td>\n",
       "      <td>0.075786</td>\n",
       "      <td>0.194198</td>\n",
       "      <td>81.803421</td>\n",
       "      <td>51.200218</td>\n",
       "      <td>4902.317140</td>\n",
       "      <td>14894.945946</td>\n",
       "      <td>0.779869</td>\n",
       "      <td>4.530718</td>\n",
       "      <td>0.023471</td>\n",
       "    </tr>\n",
       "    <tr>\n",
       "      <th>2</th>\n",
       "      <td>2015</td>\n",
       "      <td>7</td>\n",
       "      <td>Bruderholz</td>\n",
       "      <td>0.017662</td>\n",
       "      <td>0.229827</td>\n",
       "      <td>0.458660</td>\n",
       "      <td>0.166817</td>\n",
       "      <td>0.608108</td>\n",
       "      <td>0.442465</td>\n",
       "      <td>0.427310</td>\n",
       "      <td>...</td>\n",
       "      <td>1948.410577</td>\n",
       "      <td>0.734615</td>\n",
       "      <td>0.713769</td>\n",
       "      <td>109.383218</td>\n",
       "      <td>50.067809</td>\n",
       "      <td>8585.686671</td>\n",
       "      <td>18103.101406</td>\n",
       "      <td>0.752834</td>\n",
       "      <td>0.130144</td>\n",
       "      <td>0.023127</td>\n",
       "    </tr>\n",
       "    <tr>\n",
       "      <th>3</th>\n",
       "      <td>2015</td>\n",
       "      <td>8</td>\n",
       "      <td>Bachletten</td>\n",
       "      <td>0.022092</td>\n",
       "      <td>0.210320</td>\n",
       "      <td>0.455482</td>\n",
       "      <td>0.224974</td>\n",
       "      <td>0.609137</td>\n",
       "      <td>0.374629</td>\n",
       "      <td>0.421825</td>\n",
       "      <td>...</td>\n",
       "      <td>1934.025590</td>\n",
       "      <td>0.561775</td>\n",
       "      <td>0.408619</td>\n",
       "      <td>93.179580</td>\n",
       "      <td>47.396467</td>\n",
       "      <td>1632.650810</td>\n",
       "      <td>11363.577884</td>\n",
       "      <td>0.790006</td>\n",
       "      <td>0.190061</td>\n",
       "      <td>0.023636</td>\n",
       "    </tr>\n",
       "    <tr>\n",
       "      <th>4</th>\n",
       "      <td>2015</td>\n",
       "      <td>10</td>\n",
       "      <td>Iselin</td>\n",
       "      <td>0.089462</td>\n",
       "      <td>0.360277</td>\n",
       "      <td>0.445545</td>\n",
       "      <td>0.284152</td>\n",
       "      <td>0.262357</td>\n",
       "      <td>0.260469</td>\n",
       "      <td>0.331530</td>\n",
       "      <td>...</td>\n",
       "      <td>1937.165632</td>\n",
       "      <td>0.167702</td>\n",
       "      <td>0.375125</td>\n",
       "      <td>68.638626</td>\n",
       "      <td>37.648552</td>\n",
       "      <td>425.867934</td>\n",
       "      <td>6405.308048</td>\n",
       "      <td>0.701177</td>\n",
       "      <td>0.155020</td>\n",
       "      <td>0.042679</td>\n",
       "    </tr>\n",
       "  </tbody>\n",
       "</table>\n",
       "<p>5 rows × 21 columns</p>\n",
       "</div>"
      ],
      "text/plain": [
       "   publikationsjahr  wohnviertel_id     wohnviertel_name  \\\n",
       "0              2015               1  Altstadt Grossbasel   \n",
       "1              2015               2            Vorstädte   \n",
       "2              2015               7           Bruderholz   \n",
       "3              2015               8           Bachletten   \n",
       "4              2015              10               Iselin   \n",
       "\n",
       "   anteil_sozialhilfeempfaenger  anteil_auslaender  \\\n",
       "0                      0.017115           0.251426   \n",
       "1                      0.031635           0.353328   \n",
       "2                      0.017662           0.229827   \n",
       "3                      0.022092           0.210320   \n",
       "4                      0.089462           0.360277   \n",
       "\n",
       "   anteil_personen_ohne_religionszugehoerigkeit  \\\n",
       "0                                      0.517930   \n",
       "1                                      0.532251   \n",
       "2                                      0.458660   \n",
       "3                                      0.455482   \n",
       "4                                      0.445545   \n",
       "\n",
       "   anteil_personen_in_einpersonenhaushalten  gymnasialquote  altersquotient  \\\n",
       "0                                  0.324463        0.777778        0.297921   \n",
       "1                                  0.345813        0.636364        0.374726   \n",
       "2                                  0.166817        0.608108        0.442465   \n",
       "3                                  0.224974        0.609137        0.374629   \n",
       "4                                  0.284152        0.262357        0.260469   \n",
       "\n",
       "   anteil_sesshafte  ...  baujahr_der_wohngebaeude  anteil_einfamilienhaeuser  \\\n",
       "0          0.328851  ...               1825.400406                   0.101626   \n",
       "1          0.279170  ...               1899.097967                   0.075786   \n",
       "2          0.427310  ...               1948.410577                   0.734615   \n",
       "3          0.421825  ...               1934.025590                   0.561775   \n",
       "4          0.331530  ...               1937.165632                   0.167702   \n",
       "\n",
       "   anteil_gruenflaechen  flaeche_pro_wohnung  wohnflaeche_pro_person  \\\n",
       "0              0.066693            90.808059               55.739958   \n",
       "1              0.194198            81.803421               51.200218   \n",
       "2              0.713769           109.383218               50.067809   \n",
       "3              0.408619            93.179580               47.396467   \n",
       "4              0.375125            68.638626               37.648552   \n",
       "\n",
       "   vermoegenssteuer_pro_veranlagung  einkommenssteuer_pro_veranlagung  \\\n",
       "0                       4297.479726                      15795.731129   \n",
       "1                       4902.317140                      14894.945946   \n",
       "2                       8585.686671                      18103.101406   \n",
       "3                       1632.650810                      11363.577884   \n",
       "4                        425.867934                       6405.308048   \n",
       "\n",
       "   erwerbstaetigenquote  arbeitsplaetze_pro_einwohner  arbeitslosenquote  \n",
       "0              0.824263                      4.354447           0.019072  \n",
       "1              0.779869                      4.530718           0.023471  \n",
       "2              0.752834                      0.130144           0.023127  \n",
       "3              0.790006                      0.190061           0.023636  \n",
       "4              0.701177                      0.155020           0.042679  \n",
       "\n",
       "[5 rows x 21 columns]"
      ]
     },
     "execution_count": 2,
     "metadata": {},
     "output_type": "execute_result"
    }
   ],
   "source": [
    "bs = pd.read_csv(\"basel_neighborhoods.csv\", sep=\";\")\n",
    "bs.head()"
   ]
  },
  {
   "cell_type": "markdown",
   "id": "efa8f9b6",
   "metadata": {},
   "source": [
    "## Question 1) P value (10 points)\n",
    "Let's see if there's an answer to the following question: Did the amount of green spaces in Basel's neighborhoods increase *significantly* between 2015 and 2021? <br>\n",
    "\n",
    "The column that measures the amount of green spaces (parks and such) is called \"*anteil_gruenflaechen*\"."
   ]
  },
  {
   "cell_type": "markdown",
   "id": "dfda1795",
   "metadata": {},
   "source": [
    "### 1a) Observed difference (1 point)\n",
    "What is the observed difference between the mean of the amount of green spaces in 2015 and in 2021? <br>\n",
    "Assign the mean of the amount of green spaces for the years 2015 and 2021 to the variables mean_2015 and mean_2021 respectively.\n",
    "\n",
    "(Hint: You can average over all neighborhoods)"
   ]
  },
  {
   "cell_type": "code",
   "execution_count": 3,
   "id": "4b687412",
   "metadata": {
    "nbgrader": {
     "grade": false,
     "grade_id": "cell-c1d5d57296720457",
     "locked": false,
     "schema_version": 3,
     "solution": true,
     "task": false
    }
   },
   "outputs": [],
   "source": [
    "mean_2015 = ...\n",
    "mean_2021 = ...\n",
    "\n",
    "print(mean_2021 - mean_2015)"
   ]
  },
  {
   "cell_type": "code",
   "execution_count": null,
   "id": "678e4397",
   "metadata": {
    "deletable": false,
    "editable": false
   },
   "outputs": [],
   "source": [
    "grader.check(\"Question 1a\")"
   ]
  },
  {
   "cell_type": "markdown",
   "id": "f7ca1ff5",
   "metadata": {},
   "source": [
    "### 1b) Artificial variables (3 points)\n",
    "Let's make a new dataframe called \"*neighborhoods*\" containing the neighborhoods of Basel in a column called \"*wohnviertel_name*\". Additionally, it should have a column called \"increase_green_space\" that has \n",
    "* the number 1 if the amount of green space increased between 2015 and 2021 for this neighborhood\n",
    "* the number 0 otherwise"
   ]
  },
  {
   "cell_type": "code",
   "execution_count": 13,
   "id": "ba0e61f1",
   "metadata": {
    "nbgrader": {
     "grade": false,
     "grade_id": "cell-ce997035c2a68011",
     "locked": false,
     "schema_version": 3,
     "solution": true,
     "task": false
    }
   },
   "outputs": [],
   "source": [
    "...\n",
    "\n",
    "...\n",
    "neighborhoods.head()"
   ]
  },
  {
   "cell_type": "code",
   "execution_count": null,
   "id": "f70c0fca",
   "metadata": {
    "deletable": false,
    "editable": false
   },
   "outputs": [],
   "source": [
    "grader.check(\"Question 1b\")"
   ]
  },
  {
   "cell_type": "markdown",
   "id": "5cef5dae",
   "metadata": {},
   "source": [
    "### 1c) Amount of neighborhoods with an increase in green spaces (2 points)"
   ]
  },
  {
   "cell_type": "markdown",
   "id": "77303e92",
   "metadata": {},
   "source": [
    "We want to verify if there was an increase or decrease in green spaces. For this we work under the null hypothesis:\n",
    "$$ \\mathbb{P}(\\text{green spaces increase}) -0.5 = 0. $$\n",
    "\n",
    "\n",
    "What is the percentage of neighborhoods that had an increase in green spaces from 2015 to 2021? Save this decimal number (float) in the variable called \"*increase_2021*\". This value will let us calculate the difference to our null hypothesis value since it is our $ \\mathbb{P}(\\text{green spaces increase})$. Assigne the difference of increase_2021 to our null hypothesis value (0.5) to the variable called \"*difference_null_hypothesis*\" (float)."
   ]
  },
  {
   "cell_type": "code",
   "execution_count": 16,
   "id": "c75aea36",
   "metadata": {
    "nbgrader": {
     "grade": false,
     "grade_id": "cell-707efa52cfcacb2c",
     "locked": false,
     "schema_version": 3,
     "solution": true,
     "task": false
    }
   },
   "outputs": [],
   "source": [
    "increase_2021 = ...\n",
    "difference_null_hypothesis = ...\n",
    "print(increase_2021, difference_null_hypothesis)"
   ]
  },
  {
   "cell_type": "code",
   "execution_count": null,
   "id": "83eb5e62",
   "metadata": {
    "deletable": false,
    "editable": false
   },
   "outputs": [],
   "source": [
    "grader.check(\"Question 1c\")"
   ]
  },
  {
   "cell_type": "markdown",
   "id": "b0b5a213",
   "metadata": {},
   "source": [
    "### 1d) Calculate the p value (3 points)\n",
    "What is the p value for there being a significant difference in the amount of green space between 2015 and 2021? <br>\n",
    "In other words: What is the p value for $P(|mean2021 - 0.5| > \\text{observed_difference}) $?\n",
    "\n",
    "Assign the p-vlaue to the variable called \"*p_value*\".\n",
    "\n",
    "Hint: Have a look at the slides from lecture 8 to find an example."
   ]
  },
  {
   "cell_type": "code",
   "execution_count": 25,
   "id": "90d1eacd",
   "metadata": {
    "nbgrader": {
     "grade": false,
     "grade_id": "cell-07f7fc5a4f401a11",
     "locked": false,
     "schema_version": 3,
     "solution": true,
     "task": false
    }
   },
   "outputs": [],
   "source": [
    "...\n",
    "p_value = ...\n",
    "p_value"
   ]
  },
  {
   "cell_type": "code",
   "execution_count": null,
   "id": "615d3df6",
   "metadata": {
    "deletable": false,
    "editable": false
   },
   "outputs": [],
   "source": [
    "grader.check(\"Question 1d\")"
   ]
  },
  {
   "cell_type": "markdown",
   "id": "c7b00f4a",
   "metadata": {},
   "source": [
    "### 1e) Do we reject or fail to reject the null hypothesis based on our p value? (1 points)\n",
    "Here our significance value is 0.05.\n",
    "\n",
    "Please write your answer like this:\n",
    "* If we reject the null hypothesis: null_hypothesis = \"reject\"\n",
    "* If we can not reject the null hypothesis: null_hypothesis = \"fail to reject\"\n",
    "\n",
    "(Hint: Read the question carefully and google it if you're not sure what it means:https://statisticsbyjim.com/hypothesis-testing/failing-reject-null-hypothesis/)"
   ]
  },
  {
   "cell_type": "markdown",
   "id": "16af24f2",
   "metadata": {
    "deletable": false,
    "editable": false
   },
   "source": [
    "<!-- BEGIN QUESTION -->\n",
    "\n",
    "<!--\n",
    "BEGIN QUESTION\n",
    "name: Question 1e      # (required) the path to a requirements.txt file\n",
    "manual: true     # whether this is a manually-graded question\n",
    "points: 1      # how many points this question is worth; defaults to 1 internally\n",
    "check_cell: false  # whether to include a check cell after this question (for autograded questions only)\n",
    "-->"
   ]
  },
  {
   "cell_type": "code",
   "execution_count": 1,
   "id": "903f15a4",
   "metadata": {
    "nbgrader": {
     "grade": false,
     "grade_id": "cell-e09f38db783d9e60",
     "locked": false,
     "schema_version": 3,
     "solution": true,
     "task": false
    }
   },
   "outputs": [],
   "source": [
    "null_hypothesis = \"...\""
   ]
  },
  {
   "cell_type": "markdown",
   "id": "568bd0bb",
   "metadata": {},
   "source": [
    "<!-- END QUESTION -->\n",
    "\n",
    "\n",
    "\n",
    "## Question 2) Regression (5 points)\n",
    "### 2a) Plot correlation (2 points)\n",
    "Make a plot that shows you how income tax (*einkommenssteuer_pro_veranlagung*) and apartment size (*flaeche_pro_wohnung*) are correlated in the year 2021 i.e: make a scatter plot for the year 2021 with *einkommenssteuer_pro_veranlagung* on the *x*-axis and  *flaeche_pro_wohnung* on the *y*-axis."
   ]
  },
  {
   "cell_type": "markdown",
   "id": "b7572550",
   "metadata": {
    "deletable": false,
    "editable": false
   },
   "source": [
    "<!-- BEGIN QUESTION -->\n",
    "\n",
    "<!--\n",
    "BEGIN QUESTION\n",
    "name: Question 2a      # (required) the path to a requirements.txt file\n",
    "manual: true     # whether this is a manually-graded question\n",
    "points: 2     # how many points this question is worth; defaults to 1 internally\n",
    "check_cell: false  # whether to include a check cell after this question (for autograded questions only)\n",
    "-->"
   ]
  },
  {
   "cell_type": "code",
   "execution_count": 29,
   "id": "d59b5ae1",
   "metadata": {
    "nbgrader": {
     "grade": true,
     "grade_id": "cell-30fc240c2ed71fb4",
     "locked": false,
     "points": 0,
     "schema_version": 3,
     "solution": true,
     "task": false
    }
   },
   "outputs": [],
   "source": [
    "..."
   ]
  },
  {
   "cell_type": "markdown",
   "id": "570e537a",
   "metadata": {},
   "source": [
    "<!-- END QUESTION -->\n",
    "\n",
    "\n",
    "\n",
    "### 2b) Correlation coefficient (1 point)\n",
    "What is the correlation coefficient between income tax and apartments size in Basel for 2021? Assign this number (float) to the variable called \"*corr_coeff*\"."
   ]
  },
  {
   "cell_type": "code",
   "execution_count": 30,
   "id": "0d7826ad",
   "metadata": {
    "nbgrader": {
     "grade": false,
     "grade_id": "cell-5a5ef833de831dee",
     "locked": false,
     "schema_version": 3,
     "solution": true,
     "task": false
    }
   },
   "outputs": [],
   "source": [
    "corr_coeff = ...\n",
    "corr_coeff"
   ]
  },
  {
   "cell_type": "code",
   "execution_count": null,
   "id": "a3988694",
   "metadata": {
    "deletable": false,
    "editable": false
   },
   "outputs": [],
   "source": [
    "grader.check(\"Question 2b\")"
   ]
  },
  {
   "cell_type": "markdown",
   "id": "3933daa3",
   "metadata": {},
   "source": [
    "### 2c) Plot another correlation (1 point)\n",
    "Make a plot that shows you how living space per person (*wohnflaeche_pro_person*) and apartment size (*flaeche_pro_wohnung*) are correlated (a scatter plot) for the year 2021."
   ]
  },
  {
   "cell_type": "markdown",
   "id": "c7e39fb0",
   "metadata": {
    "deletable": false,
    "editable": false
   },
   "source": [
    "<!-- BEGIN QUESTION -->\n",
    "\n",
    "<!--\n",
    "BEGIN QUESTION\n",
    "name: Question 2c      # (required) the path to a requirements.txt file\n",
    "manual: true     # whether this is a manually-graded question\n",
    "points: 1    # how many points this question is worth; defaults to 1 internally\n",
    "check_cell: false  # whether to include a check cell after this question (for autograded questions only)\n",
    "-->"
   ]
  },
  {
   "cell_type": "code",
   "execution_count": null,
   "id": "4f1fc7d1",
   "metadata": {
    "nbgrader": {
     "grade": true,
     "grade_id": "cell-c1967853363f5c89",
     "locked": false,
     "points": 0,
     "schema_version": 3,
     "solution": true,
     "task": false
    }
   },
   "outputs": [],
   "source": [
    "..."
   ]
  },
  {
   "cell_type": "markdown",
   "id": "58b3c7b3",
   "metadata": {},
   "source": [
    "<!-- END QUESTION -->\n",
    "\n",
    "\n",
    "\n",
    "What do you notice on this plot, what kind of correlation do you observe? What could be problematic about this correlation?\n",
    "Write your answer in the cell below as a comment (use #)."
   ]
  },
  {
   "cell_type": "code",
   "execution_count": null,
   "id": "d7341fdf",
   "metadata": {
    "nbgrader": {
     "grade": true,
     "grade_id": "cell-bbd1af1856fa03f5",
     "locked": false,
     "points": 0,
     "schema_version": 3,
     "solution": true,
     "task": false
    }
   },
   "outputs": [],
   "source": [
    "..."
   ]
  },
  {
   "cell_type": "markdown",
   "id": "5f6a7362",
   "metadata": {},
   "source": [
    "### 2d) Expectations (1 points)\n",
    "What is the expected value $\\hat E$ (mean) for the amount of living space for a random person (*wohnflaeche_pro_person*) living in Basel in 2021?\n",
    "\n",
    "Assign this value (float) to the variable called \"*living_space*\"."
   ]
  },
  {
   "cell_type": "code",
   "execution_count": null,
   "id": "24ae159e",
   "metadata": {
    "nbgrader": {
     "grade": false,
     "grade_id": "cell-540ceba74e68d292",
     "locked": false,
     "schema_version": 3,
     "solution": true,
     "task": false
    }
   },
   "outputs": [],
   "source": [
    "living_space = ..."
   ]
  },
  {
   "cell_type": "code",
   "execution_count": null,
   "id": "cea212ad",
   "metadata": {
    "deletable": false,
    "editable": false
   },
   "outputs": [],
   "source": [
    "grader.check(\"Question 2d\")"
   ]
  },
  {
   "cell_type": "markdown",
   "id": "657c6a21",
   "metadata": {
    "deletable": false,
    "editable": false
   },
   "source": [
    "---\n",
    "\n",
    "To double-check your work, the cell below will rerun all of the autograder tests."
   ]
  },
  {
   "cell_type": "code",
   "execution_count": null,
   "id": "4b1358b6",
   "metadata": {
    "deletable": false,
    "editable": false
   },
   "outputs": [],
   "source": [
    "grader.check_all()"
   ]
  }
 ],
 "metadata": {
  "celltoolbar": "Create Assignment",
  "kernelspec": {
   "display_name": "Python 3 (ipykernel)",
   "language": "python",
   "name": "python3"
  },
  "language_info": {
   "codemirror_mode": {
    "name": "ipython",
    "version": 3
   },
   "file_extension": ".py",
   "mimetype": "text/x-python",
   "name": "python",
   "nbconvert_exporter": "python",
   "pygments_lexer": "ipython3",
   "version": "3.11.2"
  }
 },
 "nbformat": 4,
 "nbformat_minor": 5
}
