{
 "cells": [
  {
   "cell_type": "code",
   "execution_count": 32,
   "id": "e4e5871c",
   "metadata": {
    "deletable": false,
    "editable": false
   },
   "outputs": [],
   "source": [
    "# Initialize Otter\n",
    "import otter\n",
    "grader = otter.Notebook(\"02-exercise-pids2023.ipynb\")"
   ]
  },
  {
   "cell_type": "code",
   "execution_count": 33,
   "id": "876e413c",
   "metadata": {},
   "outputs": [],
   "source": [
    "import numpy as np\n",
    "from pandas import DataFrame as df\n",
    "from nose.tools import assert_is_instance, assert_equal, assert_almost_equal, assert_true\n",
    "import otter\n",
    "grader = otter.Notebook()"
   ]
  },
  {
   "cell_type": "markdown",
   "id": "9b0fe286",
   "metadata": {},
   "source": [
    "# Exercise sheet 2\n",
    "**Hello everyone!**\n",
    "\n",
    "This is the first graded exercise sheet. <br>\n",
    "**Points: 15 **\n",
    "\n",
    "Topics of this exercise sheet are:\n",
    "* Work with Jupyter\n",
    "* See autograding\n",
    "* Lecture 2: Tidy data, pandas\n",
    "\n",
    "Please let us know if you have questions or problems! <br>\n",
    "Contact us during the exercise session, on [ADAM](https://adam.unibas.ch/goto_adam_crs_1266890.html), [Piazza](https://piazza.com/unibas.ch/spring2023/63982), or [via email](https://sada.dmi.unibas.ch/en/teaching/pids23).\n",
    "\n",
    "Your notebook will be automatically graded using gradescope. Before the exercise session, you should have received an email saying that you were registered to a course in gradescope. If this is not the case, please contact us.\n",
    "\n",
    "The sheet is released before the exercise session on Tuesday. You have until the next exercise session on Tuesday to submit this sheet. Most of the questions of the exercise sheet can be handle during the session.\n",
    "\n",
    "**Handout date**: 2023/03/7 <br>\n",
    "**Submission date**: 2023/03/14 (before 4pm)<br>\n",
    "**Discussion date**: 2023/03/14"
   ]
  },
  {
   "cell_type": "markdown",
   "id": "ff9a0ea9",
   "metadata": {},
   "source": [
    "## 1 - Tidy data (9 points)\n",
    "\n",
    "### A (2 points)\n",
    "We will use data published by the [World Bank](https://data.worldbank.org/indicator/SP.POP.TOTL) about population in countries."
   ]
  },
  {
   "cell_type": "code",
   "execution_count": 34,
   "id": "f90b39d4",
   "metadata": {},
   "outputs": [
    {
     "data": {
      "text/html": [
       "<div>\n",
       "<style scoped>\n",
       "    .dataframe tbody tr th:only-of-type {\n",
       "        vertical-align: middle;\n",
       "    }\n",
       "\n",
       "    .dataframe tbody tr th {\n",
       "        vertical-align: top;\n",
       "    }\n",
       "\n",
       "    .dataframe thead th {\n",
       "        text-align: right;\n",
       "    }\n",
       "</style>\n",
       "<table border=\"1\" class=\"dataframe\">\n",
       "  <thead>\n",
       "    <tr style=\"text-align: right;\">\n",
       "      <th></th>\n",
       "      <th>Country Name</th>\n",
       "      <th>Country Code</th>\n",
       "      <th>Indicator Name</th>\n",
       "      <th>Indicator Code</th>\n",
       "      <th>1960</th>\n",
       "      <th>1961</th>\n",
       "      <th>1962</th>\n",
       "      <th>1963</th>\n",
       "      <th>1964</th>\n",
       "      <th>1965</th>\n",
       "      <th>...</th>\n",
       "      <th>2011</th>\n",
       "      <th>2012</th>\n",
       "      <th>2013</th>\n",
       "      <th>2014</th>\n",
       "      <th>2015</th>\n",
       "      <th>2016</th>\n",
       "      <th>2017</th>\n",
       "      <th>2018</th>\n",
       "      <th>2019</th>\n",
       "      <th>2020</th>\n",
       "    </tr>\n",
       "  </thead>\n",
       "  <tbody>\n",
       "    <tr>\n",
       "      <th>0</th>\n",
       "      <td>Aruba</td>\n",
       "      <td>ABW</td>\n",
       "      <td>Population, total</td>\n",
       "      <td>SP.POP.TOTL</td>\n",
       "      <td>54208.0</td>\n",
       "      <td>55434.0</td>\n",
       "      <td>56234.0</td>\n",
       "      <td>56699.0</td>\n",
       "      <td>57029.0</td>\n",
       "      <td>57357.0</td>\n",
       "      <td>...</td>\n",
       "      <td>102050.0</td>\n",
       "      <td>102565.0</td>\n",
       "      <td>103165.0</td>\n",
       "      <td>103776.0</td>\n",
       "      <td>104339.0</td>\n",
       "      <td>104865.0</td>\n",
       "      <td>105361.0</td>\n",
       "      <td>105846.0</td>\n",
       "      <td>106310.0</td>\n",
       "      <td>106766.0</td>\n",
       "    </tr>\n",
       "    <tr>\n",
       "      <th>1</th>\n",
       "      <td>Africa Eastern and Southern</td>\n",
       "      <td>AFE</td>\n",
       "      <td>Population, total</td>\n",
       "      <td>SP.POP.TOTL</td>\n",
       "      <td>130836765.0</td>\n",
       "      <td>134159786.0</td>\n",
       "      <td>137614644.0</td>\n",
       "      <td>141202036.0</td>\n",
       "      <td>144920186.0</td>\n",
       "      <td>148769974.0</td>\n",
       "      <td>...</td>\n",
       "      <td>532760424.0</td>\n",
       "      <td>547482863.0</td>\n",
       "      <td>562601578.0</td>\n",
       "      <td>578075373.0</td>\n",
       "      <td>593871847.0</td>\n",
       "      <td>609978946.0</td>\n",
       "      <td>626392880.0</td>\n",
       "      <td>643090131.0</td>\n",
       "      <td>660046272.0</td>\n",
       "      <td>677243299.0</td>\n",
       "    </tr>\n",
       "    <tr>\n",
       "      <th>2</th>\n",
       "      <td>Afghanistan</td>\n",
       "      <td>AFG</td>\n",
       "      <td>Population, total</td>\n",
       "      <td>SP.POP.TOTL</td>\n",
       "      <td>8996967.0</td>\n",
       "      <td>9169406.0</td>\n",
       "      <td>9351442.0</td>\n",
       "      <td>9543200.0</td>\n",
       "      <td>9744772.0</td>\n",
       "      <td>9956318.0</td>\n",
       "      <td>...</td>\n",
       "      <td>30117411.0</td>\n",
       "      <td>31161378.0</td>\n",
       "      <td>32269592.0</td>\n",
       "      <td>33370804.0</td>\n",
       "      <td>34413603.0</td>\n",
       "      <td>35383028.0</td>\n",
       "      <td>36296111.0</td>\n",
       "      <td>37171922.0</td>\n",
       "      <td>38041757.0</td>\n",
       "      <td>38928341.0</td>\n",
       "    </tr>\n",
       "    <tr>\n",
       "      <th>3</th>\n",
       "      <td>Africa Western and Central</td>\n",
       "      <td>AFW</td>\n",
       "      <td>Population, total</td>\n",
       "      <td>SP.POP.TOTL</td>\n",
       "      <td>96396419.0</td>\n",
       "      <td>98407221.0</td>\n",
       "      <td>100506960.0</td>\n",
       "      <td>102691339.0</td>\n",
       "      <td>104953470.0</td>\n",
       "      <td>107289875.0</td>\n",
       "      <td>...</td>\n",
       "      <td>360285439.0</td>\n",
       "      <td>370243017.0</td>\n",
       "      <td>380437896.0</td>\n",
       "      <td>390882979.0</td>\n",
       "      <td>401586651.0</td>\n",
       "      <td>412551299.0</td>\n",
       "      <td>423769930.0</td>\n",
       "      <td>435229381.0</td>\n",
       "      <td>446911598.0</td>\n",
       "      <td>458803476.0</td>\n",
       "    </tr>\n",
       "    <tr>\n",
       "      <th>4</th>\n",
       "      <td>Angola</td>\n",
       "      <td>AGO</td>\n",
       "      <td>Population, total</td>\n",
       "      <td>SP.POP.TOTL</td>\n",
       "      <td>5454938.0</td>\n",
       "      <td>5531451.0</td>\n",
       "      <td>5608499.0</td>\n",
       "      <td>5679409.0</td>\n",
       "      <td>5734995.0</td>\n",
       "      <td>5770573.0</td>\n",
       "      <td>...</td>\n",
       "      <td>24220660.0</td>\n",
       "      <td>25107925.0</td>\n",
       "      <td>26015786.0</td>\n",
       "      <td>26941773.0</td>\n",
       "      <td>27884380.0</td>\n",
       "      <td>28842482.0</td>\n",
       "      <td>29816769.0</td>\n",
       "      <td>30809787.0</td>\n",
       "      <td>31825299.0</td>\n",
       "      <td>32866268.0</td>\n",
       "    </tr>\n",
       "  </tbody>\n",
       "</table>\n",
       "<p>5 rows × 65 columns</p>\n",
       "</div>"
      ],
      "text/plain": [
       "                  Country Name Country Code     Indicator Name Indicator Code  \\\n",
       "0                        Aruba          ABW  Population, total    SP.POP.TOTL   \n",
       "1  Africa Eastern and Southern          AFE  Population, total    SP.POP.TOTL   \n",
       "2                  Afghanistan          AFG  Population, total    SP.POP.TOTL   \n",
       "3   Africa Western and Central          AFW  Population, total    SP.POP.TOTL   \n",
       "4                       Angola          AGO  Population, total    SP.POP.TOTL   \n",
       "\n",
       "          1960         1961         1962         1963         1964  \\\n",
       "0      54208.0      55434.0      56234.0      56699.0      57029.0   \n",
       "1  130836765.0  134159786.0  137614644.0  141202036.0  144920186.0   \n",
       "2    8996967.0    9169406.0    9351442.0    9543200.0    9744772.0   \n",
       "3   96396419.0   98407221.0  100506960.0  102691339.0  104953470.0   \n",
       "4    5454938.0    5531451.0    5608499.0    5679409.0    5734995.0   \n",
       "\n",
       "          1965  ...         2011         2012         2013         2014  \\\n",
       "0      57357.0  ...     102050.0     102565.0     103165.0     103776.0   \n",
       "1  148769974.0  ...  532760424.0  547482863.0  562601578.0  578075373.0   \n",
       "2    9956318.0  ...   30117411.0   31161378.0   32269592.0   33370804.0   \n",
       "3  107289875.0  ...  360285439.0  370243017.0  380437896.0  390882979.0   \n",
       "4    5770573.0  ...   24220660.0   25107925.0   26015786.0   26941773.0   \n",
       "\n",
       "          2015         2016         2017         2018         2019  \\\n",
       "0     104339.0     104865.0     105361.0     105846.0     106310.0   \n",
       "1  593871847.0  609978946.0  626392880.0  643090131.0  660046272.0   \n",
       "2   34413603.0   35383028.0   36296111.0   37171922.0   38041757.0   \n",
       "3  401586651.0  412551299.0  423769930.0  435229381.0  446911598.0   \n",
       "4   27884380.0   28842482.0   29816769.0   30809787.0   31825299.0   \n",
       "\n",
       "          2020  \n",
       "0     106766.0  \n",
       "1  677243299.0  \n",
       "2   38928341.0  \n",
       "3  458803476.0  \n",
       "4   32866268.0  \n",
       "\n",
       "[5 rows x 65 columns]"
      ]
     },
     "execution_count": 34,
     "metadata": {},
     "output_type": "execute_result"
    }
   ],
   "source": [
    "import pandas as pd\n",
    "\n",
    "population = pd.read_csv(\"population_data.csv\", skiprows=3).dropna(how='all', axis=1)\n",
    "population.head()"
   ]
  },
  {
   "cell_type": "markdown",
   "id": "6837b280",
   "metadata": {},
   "source": [
    "**Question 1**:\n",
    "Manipulate the dataframe \"population\" to be tidy. Currently, column headers are values, not variable names.\n",
    "\n",
    "* Make a new dataframe \"population_melted\" that contains the same data as \"population\", but\n",
    "    * it has a new column \"Year\" containing the year of the observation\n",
    "    * it has a new column \"Population\" containing the number of inhabitants of the country in this year\n",
    "    * otherwise, it has exactly the same columns and data as \"population\"\n",
    "*Hint*: you can use 'pd.melt'."
   ]
  },
  {
   "cell_type": "code",
   "execution_count": 35,
   "id": "11ae136a",
   "metadata": {},
   "outputs": [
    {
     "data": {
      "text/html": [
       "<div>\n",
       "<style scoped>\n",
       "    .dataframe tbody tr th:only-of-type {\n",
       "        vertical-align: middle;\n",
       "    }\n",
       "\n",
       "    .dataframe tbody tr th {\n",
       "        vertical-align: top;\n",
       "    }\n",
       "\n",
       "    .dataframe thead th {\n",
       "        text-align: right;\n",
       "    }\n",
       "</style>\n",
       "<table border=\"1\" class=\"dataframe\">\n",
       "  <thead>\n",
       "    <tr style=\"text-align: right;\">\n",
       "      <th></th>\n",
       "      <th>Country Name</th>\n",
       "      <th>Country Code</th>\n",
       "      <th>Indicator Name</th>\n",
       "      <th>Indicator Code</th>\n",
       "      <th>Year</th>\n",
       "      <th>Population</th>\n",
       "    </tr>\n",
       "  </thead>\n",
       "  <tbody>\n",
       "    <tr>\n",
       "      <th>0</th>\n",
       "      <td>Aruba</td>\n",
       "      <td>ABW</td>\n",
       "      <td>Population, total</td>\n",
       "      <td>SP.POP.TOTL</td>\n",
       "      <td>1960</td>\n",
       "      <td>54208.0</td>\n",
       "    </tr>\n",
       "    <tr>\n",
       "      <th>1</th>\n",
       "      <td>Africa Eastern and Southern</td>\n",
       "      <td>AFE</td>\n",
       "      <td>Population, total</td>\n",
       "      <td>SP.POP.TOTL</td>\n",
       "      <td>1960</td>\n",
       "      <td>130836765.0</td>\n",
       "    </tr>\n",
       "    <tr>\n",
       "      <th>2</th>\n",
       "      <td>Afghanistan</td>\n",
       "      <td>AFG</td>\n",
       "      <td>Population, total</td>\n",
       "      <td>SP.POP.TOTL</td>\n",
       "      <td>1960</td>\n",
       "      <td>8996967.0</td>\n",
       "    </tr>\n",
       "    <tr>\n",
       "      <th>3</th>\n",
       "      <td>Africa Western and Central</td>\n",
       "      <td>AFW</td>\n",
       "      <td>Population, total</td>\n",
       "      <td>SP.POP.TOTL</td>\n",
       "      <td>1960</td>\n",
       "      <td>96396419.0</td>\n",
       "    </tr>\n",
       "    <tr>\n",
       "      <th>4</th>\n",
       "      <td>Angola</td>\n",
       "      <td>AGO</td>\n",
       "      <td>Population, total</td>\n",
       "      <td>SP.POP.TOTL</td>\n",
       "      <td>1960</td>\n",
       "      <td>5454938.0</td>\n",
       "    </tr>\n",
       "    <tr>\n",
       "      <th>...</th>\n",
       "      <td>...</td>\n",
       "      <td>...</td>\n",
       "      <td>...</td>\n",
       "      <td>...</td>\n",
       "      <td>...</td>\n",
       "      <td>...</td>\n",
       "    </tr>\n",
       "    <tr>\n",
       "      <th>16221</th>\n",
       "      <td>Kosovo</td>\n",
       "      <td>XKX</td>\n",
       "      <td>Population, total</td>\n",
       "      <td>SP.POP.TOTL</td>\n",
       "      <td>2020</td>\n",
       "      <td>1775378.0</td>\n",
       "    </tr>\n",
       "    <tr>\n",
       "      <th>16222</th>\n",
       "      <td>Yemen, Rep.</td>\n",
       "      <td>YEM</td>\n",
       "      <td>Population, total</td>\n",
       "      <td>SP.POP.TOTL</td>\n",
       "      <td>2020</td>\n",
       "      <td>29825968.0</td>\n",
       "    </tr>\n",
       "    <tr>\n",
       "      <th>16223</th>\n",
       "      <td>South Africa</td>\n",
       "      <td>ZAF</td>\n",
       "      <td>Population, total</td>\n",
       "      <td>SP.POP.TOTL</td>\n",
       "      <td>2020</td>\n",
       "      <td>59308690.0</td>\n",
       "    </tr>\n",
       "    <tr>\n",
       "      <th>16224</th>\n",
       "      <td>Zambia</td>\n",
       "      <td>ZMB</td>\n",
       "      <td>Population, total</td>\n",
       "      <td>SP.POP.TOTL</td>\n",
       "      <td>2020</td>\n",
       "      <td>18383956.0</td>\n",
       "    </tr>\n",
       "    <tr>\n",
       "      <th>16225</th>\n",
       "      <td>Zimbabwe</td>\n",
       "      <td>ZWE</td>\n",
       "      <td>Population, total</td>\n",
       "      <td>SP.POP.TOTL</td>\n",
       "      <td>2020</td>\n",
       "      <td>14862927.0</td>\n",
       "    </tr>\n",
       "  </tbody>\n",
       "</table>\n",
       "<p>16226 rows × 6 columns</p>\n",
       "</div>"
      ],
      "text/plain": [
       "                      Country Name Country Code     Indicator Name  \\\n",
       "0                            Aruba          ABW  Population, total   \n",
       "1      Africa Eastern and Southern          AFE  Population, total   \n",
       "2                      Afghanistan          AFG  Population, total   \n",
       "3       Africa Western and Central          AFW  Population, total   \n",
       "4                           Angola          AGO  Population, total   \n",
       "...                            ...          ...                ...   \n",
       "16221                       Kosovo          XKX  Population, total   \n",
       "16222                  Yemen, Rep.          YEM  Population, total   \n",
       "16223                 South Africa          ZAF  Population, total   \n",
       "16224                       Zambia          ZMB  Population, total   \n",
       "16225                     Zimbabwe          ZWE  Population, total   \n",
       "\n",
       "      Indicator Code  Year   Population  \n",
       "0        SP.POP.TOTL  1960      54208.0  \n",
       "1        SP.POP.TOTL  1960  130836765.0  \n",
       "2        SP.POP.TOTL  1960    8996967.0  \n",
       "3        SP.POP.TOTL  1960   96396419.0  \n",
       "4        SP.POP.TOTL  1960    5454938.0  \n",
       "...              ...   ...          ...  \n",
       "16221    SP.POP.TOTL  2020    1775378.0  \n",
       "16222    SP.POP.TOTL  2020   29825968.0  \n",
       "16223    SP.POP.TOTL  2020   59308690.0  \n",
       "16224    SP.POP.TOTL  2020   18383956.0  \n",
       "16225    SP.POP.TOTL  2020   14862927.0  \n",
       "\n",
       "[16226 rows x 6 columns]"
      ]
     },
     "execution_count": 35,
     "metadata": {},
     "output_type": "execute_result"
    }
   ],
   "source": [
    "col_names = list(population.columns)\n",
    "population_melted = pd.melt(frame=population,\n",
    "                            id_vars=col_names[:4],\n",
    "                            var_name=\"Year\",\n",
    "                            value_name=\"Population\")\n",
    "population_melted"
   ]
  },
  {
   "cell_type": "code",
   "execution_count": 36,
   "id": "de51688c",
   "metadata": {
    "deletable": false,
    "editable": false
   },
   "outputs": [
    {
     "data": {
      "text/html": [
       "<p><strong><pre style='display: inline;'>Question 1</pre></strong> passed! 🍀</p>"
      ],
      "text/plain": [
       "Question 1 results: All test cases passed!"
      ]
     },
     "execution_count": 36,
     "metadata": {},
     "output_type": "execute_result"
    }
   ],
   "source": [
    "grader.check(\"Question 1\")"
   ]
  },
  {
   "cell_type": "markdown",
   "id": "fe8c6c63",
   "metadata": {},
   "source": [
    "**Question 2**: Sort the dataframe population_melted by \"Country Name\" and \"Year\""
   ]
  },
  {
   "cell_type": "code",
   "execution_count": 37,
   "id": "c96ab372",
   "metadata": {},
   "outputs": [
    {
     "data": {
      "text/html": [
       "<div>\n",
       "<style scoped>\n",
       "    .dataframe tbody tr th:only-of-type {\n",
       "        vertical-align: middle;\n",
       "    }\n",
       "\n",
       "    .dataframe tbody tr th {\n",
       "        vertical-align: top;\n",
       "    }\n",
       "\n",
       "    .dataframe thead th {\n",
       "        text-align: right;\n",
       "    }\n",
       "</style>\n",
       "<table border=\"1\" class=\"dataframe\">\n",
       "  <thead>\n",
       "    <tr style=\"text-align: right;\">\n",
       "      <th></th>\n",
       "      <th>Country Name</th>\n",
       "      <th>Country Code</th>\n",
       "      <th>Indicator Name</th>\n",
       "      <th>Indicator Code</th>\n",
       "      <th>Year</th>\n",
       "      <th>Population</th>\n",
       "    </tr>\n",
       "  </thead>\n",
       "  <tbody>\n",
       "    <tr>\n",
       "      <th>2</th>\n",
       "      <td>Afghanistan</td>\n",
       "      <td>AFG</td>\n",
       "      <td>Population, total</td>\n",
       "      <td>SP.POP.TOTL</td>\n",
       "      <td>1960</td>\n",
       "      <td>8996967.0</td>\n",
       "    </tr>\n",
       "    <tr>\n",
       "      <th>268</th>\n",
       "      <td>Afghanistan</td>\n",
       "      <td>AFG</td>\n",
       "      <td>Population, total</td>\n",
       "      <td>SP.POP.TOTL</td>\n",
       "      <td>1961</td>\n",
       "      <td>9169406.0</td>\n",
       "    </tr>\n",
       "    <tr>\n",
       "      <th>534</th>\n",
       "      <td>Afghanistan</td>\n",
       "      <td>AFG</td>\n",
       "      <td>Population, total</td>\n",
       "      <td>SP.POP.TOTL</td>\n",
       "      <td>1962</td>\n",
       "      <td>9351442.0</td>\n",
       "    </tr>\n",
       "    <tr>\n",
       "      <th>800</th>\n",
       "      <td>Afghanistan</td>\n",
       "      <td>AFG</td>\n",
       "      <td>Population, total</td>\n",
       "      <td>SP.POP.TOTL</td>\n",
       "      <td>1963</td>\n",
       "      <td>9543200.0</td>\n",
       "    </tr>\n",
       "    <tr>\n",
       "      <th>1066</th>\n",
       "      <td>Afghanistan</td>\n",
       "      <td>AFG</td>\n",
       "      <td>Population, total</td>\n",
       "      <td>SP.POP.TOTL</td>\n",
       "      <td>1964</td>\n",
       "      <td>9744772.0</td>\n",
       "    </tr>\n",
       "    <tr>\n",
       "      <th>...</th>\n",
       "      <td>...</td>\n",
       "      <td>...</td>\n",
       "      <td>...</td>\n",
       "      <td>...</td>\n",
       "      <td>...</td>\n",
       "      <td>...</td>\n",
       "    </tr>\n",
       "    <tr>\n",
       "      <th>15161</th>\n",
       "      <td>Zimbabwe</td>\n",
       "      <td>ZWE</td>\n",
       "      <td>Population, total</td>\n",
       "      <td>SP.POP.TOTL</td>\n",
       "      <td>2016</td>\n",
       "      <td>14030338.0</td>\n",
       "    </tr>\n",
       "    <tr>\n",
       "      <th>15427</th>\n",
       "      <td>Zimbabwe</td>\n",
       "      <td>ZWE</td>\n",
       "      <td>Population, total</td>\n",
       "      <td>SP.POP.TOTL</td>\n",
       "      <td>2017</td>\n",
       "      <td>14236599.0</td>\n",
       "    </tr>\n",
       "    <tr>\n",
       "      <th>15693</th>\n",
       "      <td>Zimbabwe</td>\n",
       "      <td>ZWE</td>\n",
       "      <td>Population, total</td>\n",
       "      <td>SP.POP.TOTL</td>\n",
       "      <td>2018</td>\n",
       "      <td>14438812.0</td>\n",
       "    </tr>\n",
       "    <tr>\n",
       "      <th>15959</th>\n",
       "      <td>Zimbabwe</td>\n",
       "      <td>ZWE</td>\n",
       "      <td>Population, total</td>\n",
       "      <td>SP.POP.TOTL</td>\n",
       "      <td>2019</td>\n",
       "      <td>14645473.0</td>\n",
       "    </tr>\n",
       "    <tr>\n",
       "      <th>16225</th>\n",
       "      <td>Zimbabwe</td>\n",
       "      <td>ZWE</td>\n",
       "      <td>Population, total</td>\n",
       "      <td>SP.POP.TOTL</td>\n",
       "      <td>2020</td>\n",
       "      <td>14862927.0</td>\n",
       "    </tr>\n",
       "  </tbody>\n",
       "</table>\n",
       "<p>16226 rows × 6 columns</p>\n",
       "</div>"
      ],
      "text/plain": [
       "      Country Name Country Code     Indicator Name Indicator Code  Year  \\\n",
       "2      Afghanistan          AFG  Population, total    SP.POP.TOTL  1960   \n",
       "268    Afghanistan          AFG  Population, total    SP.POP.TOTL  1961   \n",
       "534    Afghanistan          AFG  Population, total    SP.POP.TOTL  1962   \n",
       "800    Afghanistan          AFG  Population, total    SP.POP.TOTL  1963   \n",
       "1066   Afghanistan          AFG  Population, total    SP.POP.TOTL  1964   \n",
       "...            ...          ...                ...            ...   ...   \n",
       "15161     Zimbabwe          ZWE  Population, total    SP.POP.TOTL  2016   \n",
       "15427     Zimbabwe          ZWE  Population, total    SP.POP.TOTL  2017   \n",
       "15693     Zimbabwe          ZWE  Population, total    SP.POP.TOTL  2018   \n",
       "15959     Zimbabwe          ZWE  Population, total    SP.POP.TOTL  2019   \n",
       "16225     Zimbabwe          ZWE  Population, total    SP.POP.TOTL  2020   \n",
       "\n",
       "       Population  \n",
       "2       8996967.0  \n",
       "268     9169406.0  \n",
       "534     9351442.0  \n",
       "800     9543200.0  \n",
       "1066    9744772.0  \n",
       "...           ...  \n",
       "15161  14030338.0  \n",
       "15427  14236599.0  \n",
       "15693  14438812.0  \n",
       "15959  14645473.0  \n",
       "16225  14862927.0  \n",
       "\n",
       "[16226 rows x 6 columns]"
      ]
     },
     "execution_count": 37,
     "metadata": {},
     "output_type": "execute_result"
    }
   ],
   "source": [
    "population_melted_sort = population_melted.sort_values(by=[\"Country Name\", \"Year\"])\n",
    "population_melted_sort"
   ]
  },
  {
   "cell_type": "markdown",
   "id": "b463f0c6",
   "metadata": {},
   "source": [
    "### B (3 points)\n",
    "We will use data about the average height in countries around the world. It comes from [Kaggle](https://www.kaggle.com/majyhain/height-of-male-and-female-by-country-2022)."
   ]
  },
  {
   "cell_type": "code",
   "execution_count": 38,
   "id": "1ac76155",
   "metadata": {},
   "outputs": [
    {
     "data": {
      "text/html": [
       "<div>\n",
       "<style scoped>\n",
       "    .dataframe tbody tr th:only-of-type {\n",
       "        vertical-align: middle;\n",
       "    }\n",
       "\n",
       "    .dataframe tbody tr th {\n",
       "        vertical-align: top;\n",
       "    }\n",
       "\n",
       "    .dataframe thead th {\n",
       "        text-align: right;\n",
       "    }\n",
       "</style>\n",
       "<table border=\"1\" class=\"dataframe\">\n",
       "  <thead>\n",
       "    <tr style=\"text-align: right;\">\n",
       "      <th></th>\n",
       "      <th>Rank</th>\n",
       "      <th>Country Name</th>\n",
       "      <th>Male Height in Cm</th>\n",
       "      <th>Female Height in Cm</th>\n",
       "      <th>Male Height in Ft</th>\n",
       "      <th>Female Height in Ft</th>\n",
       "    </tr>\n",
       "  </thead>\n",
       "  <tbody>\n",
       "    <tr>\n",
       "      <th>0</th>\n",
       "      <td>1</td>\n",
       "      <td>Netherlands</td>\n",
       "      <td>183.78</td>\n",
       "      <td>170.36</td>\n",
       "      <td>6.03</td>\n",
       "      <td>5.59</td>\n",
       "    </tr>\n",
       "    <tr>\n",
       "      <th>1</th>\n",
       "      <td>2</td>\n",
       "      <td>Montenegro</td>\n",
       "      <td>183.30</td>\n",
       "      <td>169.96</td>\n",
       "      <td>6.01</td>\n",
       "      <td>5.58</td>\n",
       "    </tr>\n",
       "    <tr>\n",
       "      <th>2</th>\n",
       "      <td>3</td>\n",
       "      <td>Estonia</td>\n",
       "      <td>182.79</td>\n",
       "      <td>168.66</td>\n",
       "      <td>6.00</td>\n",
       "      <td>5.53</td>\n",
       "    </tr>\n",
       "    <tr>\n",
       "      <th>3</th>\n",
       "      <td>4</td>\n",
       "      <td>Bosnia and Herzegovina</td>\n",
       "      <td>182.47</td>\n",
       "      <td>167.47</td>\n",
       "      <td>5.99</td>\n",
       "      <td>5.49</td>\n",
       "    </tr>\n",
       "    <tr>\n",
       "      <th>4</th>\n",
       "      <td>5</td>\n",
       "      <td>Iceland</td>\n",
       "      <td>182.10</td>\n",
       "      <td>168.91</td>\n",
       "      <td>5.97</td>\n",
       "      <td>5.54</td>\n",
       "    </tr>\n",
       "    <tr>\n",
       "      <th>...</th>\n",
       "      <td>...</td>\n",
       "      <td>...</td>\n",
       "      <td>...</td>\n",
       "      <td>...</td>\n",
       "      <td>...</td>\n",
       "      <td>...</td>\n",
       "    </tr>\n",
       "    <tr>\n",
       "      <th>193</th>\n",
       "      <td>194</td>\n",
       "      <td>Guatemala</td>\n",
       "      <td>164.36</td>\n",
       "      <td>150.91</td>\n",
       "      <td>5.39</td>\n",
       "      <td>4.95</td>\n",
       "    </tr>\n",
       "    <tr>\n",
       "      <th>194</th>\n",
       "      <td>195</td>\n",
       "      <td>Mozambique</td>\n",
       "      <td>164.30</td>\n",
       "      <td>155.42</td>\n",
       "      <td>5.39</td>\n",
       "      <td>5.10</td>\n",
       "    </tr>\n",
       "    <tr>\n",
       "      <th>195</th>\n",
       "      <td>196</td>\n",
       "      <td>Papua New Guinea</td>\n",
       "      <td>163.10</td>\n",
       "      <td>156.89</td>\n",
       "      <td>5.35</td>\n",
       "      <td>5.15</td>\n",
       "    </tr>\n",
       "    <tr>\n",
       "      <th>196</th>\n",
       "      <td>197</td>\n",
       "      <td>Solomon Islands</td>\n",
       "      <td>163.07</td>\n",
       "      <td>156.79</td>\n",
       "      <td>5.35</td>\n",
       "      <td>5.14</td>\n",
       "    </tr>\n",
       "    <tr>\n",
       "      <th>197</th>\n",
       "      <td>198</td>\n",
       "      <td>Laos</td>\n",
       "      <td>162.78</td>\n",
       "      <td>153.10</td>\n",
       "      <td>5.34</td>\n",
       "      <td>5.02</td>\n",
       "    </tr>\n",
       "  </tbody>\n",
       "</table>\n",
       "<p>198 rows × 6 columns</p>\n",
       "</div>"
      ],
      "text/plain": [
       "     Rank            Country Name  Male Height in Cm  Female Height in Cm  \\\n",
       "0       1             Netherlands             183.78               170.36   \n",
       "1       2              Montenegro             183.30               169.96   \n",
       "2       3                 Estonia             182.79               168.66   \n",
       "3       4  Bosnia and Herzegovina             182.47               167.47   \n",
       "4       5                 Iceland             182.10               168.91   \n",
       "..    ...                     ...                ...                  ...   \n",
       "193   194               Guatemala             164.36               150.91   \n",
       "194   195              Mozambique             164.30               155.42   \n",
       "195   196        Papua New Guinea             163.10               156.89   \n",
       "196   197         Solomon Islands             163.07               156.79   \n",
       "197   198                    Laos             162.78               153.10   \n",
       "\n",
       "     Male Height in Ft  Female Height in Ft  \n",
       "0                 6.03                 5.59  \n",
       "1                 6.01                 5.58  \n",
       "2                 6.00                 5.53  \n",
       "3                 5.99                 5.49  \n",
       "4                 5.97                 5.54  \n",
       "..                 ...                  ...  \n",
       "193               5.39                 4.95  \n",
       "194               5.39                 5.10  \n",
       "195               5.35                 5.15  \n",
       "196               5.35                 5.14  \n",
       "197               5.34                 5.02  \n",
       "\n",
       "[198 rows x 6 columns]"
      ]
     },
     "execution_count": 38,
     "metadata": {},
     "output_type": "execute_result"
    }
   ],
   "source": [
    "height = pd.read_csv(\"height_2022.csv\")\n",
    "height.head(-1)"
   ]
  },
  {
   "cell_type": "markdown",
   "id": "47ada30b",
   "metadata": {},
   "source": [
    "**Question 3**: Make a new dataframe \"height_tidy\" where you removed the columns \"Male Height in Ft\", \"Female Height in Ft\""
   ]
  },
  {
   "cell_type": "code",
   "execution_count": 39,
   "id": "56ff1fe9",
   "metadata": {},
   "outputs": [
    {
     "data": {
      "text/html": [
       "<div>\n",
       "<style scoped>\n",
       "    .dataframe tbody tr th:only-of-type {\n",
       "        vertical-align: middle;\n",
       "    }\n",
       "\n",
       "    .dataframe tbody tr th {\n",
       "        vertical-align: top;\n",
       "    }\n",
       "\n",
       "    .dataframe thead th {\n",
       "        text-align: right;\n",
       "    }\n",
       "</style>\n",
       "<table border=\"1\" class=\"dataframe\">\n",
       "  <thead>\n",
       "    <tr style=\"text-align: right;\">\n",
       "      <th></th>\n",
       "      <th>Rank</th>\n",
       "      <th>Country Name</th>\n",
       "      <th>Male Height in Cm</th>\n",
       "      <th>Female Height in Cm</th>\n",
       "    </tr>\n",
       "  </thead>\n",
       "  <tbody>\n",
       "    <tr>\n",
       "      <th>0</th>\n",
       "      <td>1</td>\n",
       "      <td>Netherlands</td>\n",
       "      <td>183.78</td>\n",
       "      <td>170.36</td>\n",
       "    </tr>\n",
       "    <tr>\n",
       "      <th>1</th>\n",
       "      <td>2</td>\n",
       "      <td>Montenegro</td>\n",
       "      <td>183.30</td>\n",
       "      <td>169.96</td>\n",
       "    </tr>\n",
       "    <tr>\n",
       "      <th>2</th>\n",
       "      <td>3</td>\n",
       "      <td>Estonia</td>\n",
       "      <td>182.79</td>\n",
       "      <td>168.66</td>\n",
       "    </tr>\n",
       "    <tr>\n",
       "      <th>3</th>\n",
       "      <td>4</td>\n",
       "      <td>Bosnia and Herzegovina</td>\n",
       "      <td>182.47</td>\n",
       "      <td>167.47</td>\n",
       "    </tr>\n",
       "    <tr>\n",
       "      <th>4</th>\n",
       "      <td>5</td>\n",
       "      <td>Iceland</td>\n",
       "      <td>182.10</td>\n",
       "      <td>168.91</td>\n",
       "    </tr>\n",
       "    <tr>\n",
       "      <th>...</th>\n",
       "      <td>...</td>\n",
       "      <td>...</td>\n",
       "      <td>...</td>\n",
       "      <td>...</td>\n",
       "    </tr>\n",
       "    <tr>\n",
       "      <th>194</th>\n",
       "      <td>195</td>\n",
       "      <td>Mozambique</td>\n",
       "      <td>164.30</td>\n",
       "      <td>155.42</td>\n",
       "    </tr>\n",
       "    <tr>\n",
       "      <th>195</th>\n",
       "      <td>196</td>\n",
       "      <td>Papua New Guinea</td>\n",
       "      <td>163.10</td>\n",
       "      <td>156.89</td>\n",
       "    </tr>\n",
       "    <tr>\n",
       "      <th>196</th>\n",
       "      <td>197</td>\n",
       "      <td>Solomon Islands</td>\n",
       "      <td>163.07</td>\n",
       "      <td>156.79</td>\n",
       "    </tr>\n",
       "    <tr>\n",
       "      <th>197</th>\n",
       "      <td>198</td>\n",
       "      <td>Laos</td>\n",
       "      <td>162.78</td>\n",
       "      <td>153.10</td>\n",
       "    </tr>\n",
       "    <tr>\n",
       "      <th>198</th>\n",
       "      <td>199</td>\n",
       "      <td>Timor-Leste</td>\n",
       "      <td>160.13</td>\n",
       "      <td>152.71</td>\n",
       "    </tr>\n",
       "  </tbody>\n",
       "</table>\n",
       "<p>199 rows × 4 columns</p>\n",
       "</div>"
      ],
      "text/plain": [
       "     Rank            Country Name  Male Height in Cm  Female Height in Cm\n",
       "0       1             Netherlands             183.78               170.36\n",
       "1       2              Montenegro             183.30               169.96\n",
       "2       3                 Estonia             182.79               168.66\n",
       "3       4  Bosnia and Herzegovina             182.47               167.47\n",
       "4       5                 Iceland             182.10               168.91\n",
       "..    ...                     ...                ...                  ...\n",
       "194   195              Mozambique             164.30               155.42\n",
       "195   196        Papua New Guinea             163.10               156.89\n",
       "196   197         Solomon Islands             163.07               156.79\n",
       "197   198                    Laos             162.78               153.10\n",
       "198   199             Timor-Leste             160.13               152.71\n",
       "\n",
       "[199 rows x 4 columns]"
      ]
     },
     "execution_count": 39,
     "metadata": {},
     "output_type": "execute_result"
    }
   ],
   "source": [
    "height_tidy = height.drop(columns=[\"Male Height in Ft\", \"Female Height in Ft\"])\n",
    "height_tidy"
   ]
  },
  {
   "cell_type": "code",
   "execution_count": 40,
   "id": "7e3767a0",
   "metadata": {
    "deletable": false,
    "editable": false
   },
   "outputs": [
    {
     "data": {
      "text/html": [
       "<p><strong><pre style='display: inline;'>Question 3</pre></strong> passed! 🙌</p>"
      ],
      "text/plain": [
       "Question 3 results: All test cases passed!"
      ]
     },
     "execution_count": 40,
     "metadata": {},
     "output_type": "execute_result"
    }
   ],
   "source": [
    "grader.check(\"Question 3\")"
   ]
  },
  {
   "cell_type": "code",
   "execution_count": 41,
   "id": "0274d1eb",
   "metadata": {},
   "outputs": [
    {
     "data": {
      "text/html": [
       "<div>\n",
       "<style scoped>\n",
       "    .dataframe tbody tr th:only-of-type {\n",
       "        vertical-align: middle;\n",
       "    }\n",
       "\n",
       "    .dataframe tbody tr th {\n",
       "        vertical-align: top;\n",
       "    }\n",
       "\n",
       "    .dataframe thead th {\n",
       "        text-align: right;\n",
       "    }\n",
       "</style>\n",
       "<table border=\"1\" class=\"dataframe\">\n",
       "  <thead>\n",
       "    <tr style=\"text-align: right;\">\n",
       "      <th></th>\n",
       "      <th>Rank</th>\n",
       "      <th>Country Name</th>\n",
       "      <th>Male Height in Cm</th>\n",
       "      <th>Female Height in Cm</th>\n",
       "    </tr>\n",
       "  </thead>\n",
       "  <tbody>\n",
       "    <tr>\n",
       "      <th>0</th>\n",
       "      <td>1</td>\n",
       "      <td>Netherlands</td>\n",
       "      <td>183.78</td>\n",
       "      <td>170.36</td>\n",
       "    </tr>\n",
       "    <tr>\n",
       "      <th>1</th>\n",
       "      <td>2</td>\n",
       "      <td>Montenegro</td>\n",
       "      <td>183.30</td>\n",
       "      <td>169.96</td>\n",
       "    </tr>\n",
       "    <tr>\n",
       "      <th>2</th>\n",
       "      <td>3</td>\n",
       "      <td>Estonia</td>\n",
       "      <td>182.79</td>\n",
       "      <td>168.66</td>\n",
       "    </tr>\n",
       "    <tr>\n",
       "      <th>3</th>\n",
       "      <td>4</td>\n",
       "      <td>Bosnia and Herzegovina</td>\n",
       "      <td>182.47</td>\n",
       "      <td>167.47</td>\n",
       "    </tr>\n",
       "    <tr>\n",
       "      <th>4</th>\n",
       "      <td>5</td>\n",
       "      <td>Iceland</td>\n",
       "      <td>182.10</td>\n",
       "      <td>168.91</td>\n",
       "    </tr>\n",
       "  </tbody>\n",
       "</table>\n",
       "</div>"
      ],
      "text/plain": [
       "   Rank            Country Name  Male Height in Cm  Female Height in Cm\n",
       "0     1             Netherlands             183.78               170.36\n",
       "1     2              Montenegro             183.30               169.96\n",
       "2     3                 Estonia             182.79               168.66\n",
       "3     4  Bosnia and Herzegovina             182.47               167.47\n",
       "4     5                 Iceland             182.10               168.91"
      ]
     },
     "execution_count": 41,
     "metadata": {},
     "output_type": "execute_result"
    }
   ],
   "source": [
    "height_tidy.head()"
   ]
  },
  {
   "cell_type": "markdown",
   "id": "07382104",
   "metadata": {},
   "source": [
    "**Question 4**: Manipulate the dataframe \"height_tidy\" to be tidy. Currently, multiple variables are stored in one column.\n",
    "\n",
    "* Make a new dataframe \"height_melt\" that contains the same data as \"height_tidy\", but\n",
    "    * it has a new column \"Sex\" containing a single character \"M\" or \"F\" for \"male\"/\"female\"\n",
    "    * it has a new column \"Height in Cm\" containing data about the height in cm"
   ]
  },
  {
   "cell_type": "code",
   "execution_count": 42,
   "id": "d6a9c86a",
   "metadata": {
    "nbgrader": {
     "grade": false,
     "grade_id": "cell-b774d9d556851043",
     "locked": false,
     "schema_version": 3,
     "solution": true,
     "task": false
    }
   },
   "outputs": [
    {
     "data": {
      "text/html": [
       "<div>\n",
       "<style scoped>\n",
       "    .dataframe tbody tr th:only-of-type {\n",
       "        vertical-align: middle;\n",
       "    }\n",
       "\n",
       "    .dataframe tbody tr th {\n",
       "        vertical-align: top;\n",
       "    }\n",
       "\n",
       "    .dataframe thead th {\n",
       "        text-align: right;\n",
       "    }\n",
       "</style>\n",
       "<table border=\"1\" class=\"dataframe\">\n",
       "  <thead>\n",
       "    <tr style=\"text-align: right;\">\n",
       "      <th></th>\n",
       "      <th>Rank</th>\n",
       "      <th>Country Name</th>\n",
       "      <th>Sex</th>\n",
       "      <th>Height in Cm</th>\n",
       "    </tr>\n",
       "  </thead>\n",
       "  <tbody>\n",
       "    <tr>\n",
       "      <th>0</th>\n",
       "      <td>1</td>\n",
       "      <td>Netherlands</td>\n",
       "      <td>M</td>\n",
       "      <td>183.78</td>\n",
       "    </tr>\n",
       "    <tr>\n",
       "      <th>1</th>\n",
       "      <td>2</td>\n",
       "      <td>Montenegro</td>\n",
       "      <td>M</td>\n",
       "      <td>183.30</td>\n",
       "    </tr>\n",
       "    <tr>\n",
       "      <th>2</th>\n",
       "      <td>3</td>\n",
       "      <td>Estonia</td>\n",
       "      <td>M</td>\n",
       "      <td>182.79</td>\n",
       "    </tr>\n",
       "    <tr>\n",
       "      <th>3</th>\n",
       "      <td>4</td>\n",
       "      <td>Bosnia and Herzegovina</td>\n",
       "      <td>M</td>\n",
       "      <td>182.47</td>\n",
       "    </tr>\n",
       "    <tr>\n",
       "      <th>4</th>\n",
       "      <td>5</td>\n",
       "      <td>Iceland</td>\n",
       "      <td>M</td>\n",
       "      <td>182.10</td>\n",
       "    </tr>\n",
       "  </tbody>\n",
       "</table>\n",
       "</div>"
      ],
      "text/plain": [
       "   Rank            Country Name Sex  Height in Cm\n",
       "0     1             Netherlands   M        183.78\n",
       "1     2              Montenegro   M        183.30\n",
       "2     3                 Estonia   M        182.79\n",
       "3     4  Bosnia and Herzegovina   M        182.47\n",
       "4     5                 Iceland   M        182.10"
      ]
     },
     "execution_count": 42,
     "metadata": {},
     "output_type": "execute_result"
    }
   ],
   "source": [
    "height_melt = pd.melt(frame=height_tidy,\n",
    "                      id_vars=[\"Rank\", \"Country Name\"],\n",
    "                      var_name=\"Sex\",\n",
    "                      value_name=\"Height in Cm\")\n",
    "\n",
    "# shrink the data on gender to one letter\n",
    "height_melt[\"Sex\"] = height_melt[\"Sex\"].str[0]\n",
    "\n",
    "# show that it works\n",
    "height_melt.head(5)"
   ]
  },
  {
   "cell_type": "code",
   "execution_count": 43,
   "id": "ad467d4f",
   "metadata": {
    "deletable": false,
    "editable": false
   },
   "outputs": [
    {
     "data": {
      "text/html": [
       "<p><strong><pre style='display: inline;'>Question 4</pre></strong> passed! ✨</p>"
      ],
      "text/plain": [
       "Question 4 results: All test cases passed!"
      ]
     },
     "execution_count": 43,
     "metadata": {},
     "output_type": "execute_result"
    }
   ],
   "source": [
    "grader.check(\"Question 4\")"
   ]
  },
  {
   "cell_type": "markdown",
   "id": "159b4c05",
   "metadata": {},
   "source": [
    "### C (4 points)\n",
    "We will work with data about billboards in the 2000s (as in the lecture)."
   ]
  },
  {
   "cell_type": "code",
   "execution_count": 44,
   "id": "144ecae8",
   "metadata": {},
   "outputs": [
    {
     "data": {
      "text/html": [
       "<div>\n",
       "<style scoped>\n",
       "    .dataframe tbody tr th:only-of-type {\n",
       "        vertical-align: middle;\n",
       "    }\n",
       "\n",
       "    .dataframe tbody tr th {\n",
       "        vertical-align: top;\n",
       "    }\n",
       "\n",
       "    .dataframe thead th {\n",
       "        text-align: right;\n",
       "    }\n",
       "</style>\n",
       "<table border=\"1\" class=\"dataframe\">\n",
       "  <thead>\n",
       "    <tr style=\"text-align: right;\">\n",
       "      <th></th>\n",
       "      <th>year</th>\n",
       "      <th>artist.inverted</th>\n",
       "      <th>track</th>\n",
       "      <th>time</th>\n",
       "      <th>genre</th>\n",
       "      <th>date</th>\n",
       "      <th>date.peaked</th>\n",
       "      <th>week</th>\n",
       "      <th>rank</th>\n",
       "    </tr>\n",
       "  </thead>\n",
       "  <tbody>\n",
       "    <tr>\n",
       "      <th>0</th>\n",
       "      <td>2000</td>\n",
       "      <td>Nelly</td>\n",
       "      <td>(Hot S**t) Country Grammar</td>\n",
       "      <td>4:17</td>\n",
       "      <td>Rap</td>\n",
       "      <td>2000-04-29</td>\n",
       "      <td>2000-09-16</td>\n",
       "      <td>1</td>\n",
       "      <td>100.0</td>\n",
       "    </tr>\n",
       "    <tr>\n",
       "      <th>1</th>\n",
       "      <td>2000</td>\n",
       "      <td>Nelly</td>\n",
       "      <td>(Hot S**t) Country Grammar</td>\n",
       "      <td>4:17</td>\n",
       "      <td>Rap</td>\n",
       "      <td>2000-05-06</td>\n",
       "      <td>2000-09-16</td>\n",
       "      <td>2</td>\n",
       "      <td>99.0</td>\n",
       "    </tr>\n",
       "    <tr>\n",
       "      <th>2</th>\n",
       "      <td>2000</td>\n",
       "      <td>Nelly</td>\n",
       "      <td>(Hot S**t) Country Grammar</td>\n",
       "      <td>4:17</td>\n",
       "      <td>Rap</td>\n",
       "      <td>2000-05-13</td>\n",
       "      <td>2000-09-16</td>\n",
       "      <td>3</td>\n",
       "      <td>96.0</td>\n",
       "    </tr>\n",
       "    <tr>\n",
       "      <th>3</th>\n",
       "      <td>2000</td>\n",
       "      <td>Nelly</td>\n",
       "      <td>(Hot S**t) Country Grammar</td>\n",
       "      <td>4:17</td>\n",
       "      <td>Rap</td>\n",
       "      <td>2000-05-20</td>\n",
       "      <td>2000-09-16</td>\n",
       "      <td>4</td>\n",
       "      <td>76.0</td>\n",
       "    </tr>\n",
       "    <tr>\n",
       "      <th>4</th>\n",
       "      <td>2000</td>\n",
       "      <td>Nelly</td>\n",
       "      <td>(Hot S**t) Country Grammar</td>\n",
       "      <td>4:17</td>\n",
       "      <td>Rap</td>\n",
       "      <td>2000-05-27</td>\n",
       "      <td>2000-09-16</td>\n",
       "      <td>5</td>\n",
       "      <td>55.0</td>\n",
       "    </tr>\n",
       "  </tbody>\n",
       "</table>\n",
       "</div>"
      ],
      "text/plain": [
       "   year artist.inverted                       track  time genre        date  \\\n",
       "0  2000           Nelly  (Hot S**t) Country Grammar  4:17   Rap  2000-04-29   \n",
       "1  2000           Nelly  (Hot S**t) Country Grammar  4:17   Rap  2000-05-06   \n",
       "2  2000           Nelly  (Hot S**t) Country Grammar  4:17   Rap  2000-05-13   \n",
       "3  2000           Nelly  (Hot S**t) Country Grammar  4:17   Rap  2000-05-20   \n",
       "4  2000           Nelly  (Hot S**t) Country Grammar  4:17   Rap  2000-05-27   \n",
       "\n",
       "  date.peaked  week   rank  \n",
       "0  2000-09-16     1  100.0  \n",
       "1  2000-09-16     2   99.0  \n",
       "2  2000-09-16     3   96.0  \n",
       "3  2000-09-16     4   76.0  \n",
       "4  2000-09-16     5   55.0  "
      ]
     },
     "execution_count": 44,
     "metadata": {},
     "output_type": "execute_result"
    }
   ],
   "source": [
    "billboard = pd.read_csv(\"billboard_intermediate.csv\")\n",
    "billboard.head()"
   ]
  },
  {
   "cell_type": "markdown",
   "id": "1e956b47",
   "metadata": {},
   "source": [
    "**Question 5:**: Manipulate the dataframe \"billboard\" into two dataframes that each store one observational unit.\n",
    "\n",
    "* Make a new dataframe \"billboard_songs\" that contains information about the songs\n",
    "    * It should contain these columns from the \"billboard\" dataframe: \"artist.inverted\", \"track\", \"time\", \"genre\"\n",
    "* Make a new dataframe \"billboard_charts\" that contains information about the chart performance of the songs\n",
    "    * It should contain these columns from the \"billboard\" dataframe: \"date\", \"date.peaked\", \"week\", \"rank\"\n",
    "* Additionally, both dataframes should contain a column named \"track_id\" that gives each track a unique ID and links the information in the two dataframes.\n",
    "\n",
    "(Hint: Pandas has a function [.groupby().ngroup()](https://stackoverflow.com/questions/39665374/how-to-make-a-group-id-using-pandas) that could help you with the track id)"
   ]
  },
  {
   "cell_type": "code",
   "execution_count": 45,
   "id": "8565e2f0",
   "metadata": {
    "nbgrader": {
     "grade": false,
     "grade_id": "cell-262fb79928ed7861",
     "locked": false,
     "schema_version": 3,
     "solution": true,
     "task": false
    }
   },
   "outputs": [
    {
     "data": {
      "text/html": [
       "<div>\n",
       "<style scoped>\n",
       "    .dataframe tbody tr th:only-of-type {\n",
       "        vertical-align: middle;\n",
       "    }\n",
       "\n",
       "    .dataframe tbody tr th {\n",
       "        vertical-align: top;\n",
       "    }\n",
       "\n",
       "    .dataframe thead th {\n",
       "        text-align: right;\n",
       "    }\n",
       "</style>\n",
       "<table border=\"1\" class=\"dataframe\">\n",
       "  <thead>\n",
       "    <tr style=\"text-align: right;\">\n",
       "      <th></th>\n",
       "      <th>date</th>\n",
       "      <th>date.peaked</th>\n",
       "      <th>week</th>\n",
       "      <th>rank</th>\n",
       "      <th>track_id</th>\n",
       "    </tr>\n",
       "  </thead>\n",
       "  <tbody>\n",
       "    <tr>\n",
       "      <th>0</th>\n",
       "      <td>2000-04-29</td>\n",
       "      <td>2000-09-16</td>\n",
       "      <td>1</td>\n",
       "      <td>100.0</td>\n",
       "      <td>0</td>\n",
       "    </tr>\n",
       "    <tr>\n",
       "      <th>1</th>\n",
       "      <td>2000-05-06</td>\n",
       "      <td>2000-09-16</td>\n",
       "      <td>2</td>\n",
       "      <td>99.0</td>\n",
       "      <td>0</td>\n",
       "    </tr>\n",
       "    <tr>\n",
       "      <th>2</th>\n",
       "      <td>2000-05-13</td>\n",
       "      <td>2000-09-16</td>\n",
       "      <td>3</td>\n",
       "      <td>96.0</td>\n",
       "      <td>0</td>\n",
       "    </tr>\n",
       "    <tr>\n",
       "      <th>3</th>\n",
       "      <td>2000-05-20</td>\n",
       "      <td>2000-09-16</td>\n",
       "      <td>4</td>\n",
       "      <td>76.0</td>\n",
       "      <td>0</td>\n",
       "    </tr>\n",
       "    <tr>\n",
       "      <th>4</th>\n",
       "      <td>2000-05-27</td>\n",
       "      <td>2000-09-16</td>\n",
       "      <td>5</td>\n",
       "      <td>55.0</td>\n",
       "      <td>0</td>\n",
       "    </tr>\n",
       "  </tbody>\n",
       "</table>\n",
       "</div>"
      ],
      "text/plain": [
       "         date date.peaked  week   rank  track_id\n",
       "0  2000-04-29  2000-09-16     1  100.0         0\n",
       "1  2000-05-06  2000-09-16     2   99.0         0\n",
       "2  2000-05-13  2000-09-16     3   96.0         0\n",
       "3  2000-05-20  2000-09-16     4   76.0         0\n",
       "4  2000-05-27  2000-09-16     5   55.0         0"
      ]
     },
     "execution_count": 45,
     "metadata": {},
     "output_type": "execute_result"
    }
   ],
   "source": [
    "billboard[\"track_id\"] = billboard.groupby([\"track\"]).ngroup()\n",
    "\n",
    "billboard_songs = billboard.iloc[:, 1:5].join(billboard[\"track_id\"])\n",
    "billboard_songs.head()\n",
    "\n",
    "billboard_charts = billboard.iloc[:, 5:]\n",
    "billboard_charts.head()"
   ]
  },
  {
   "cell_type": "code",
   "execution_count": 46,
   "id": "603aa7f8",
   "metadata": {
    "deletable": false,
    "editable": false
   },
   "outputs": [
    {
     "data": {
      "text/html": [
       "<p><strong><pre style='display: inline;'>Question 5</pre></strong> passed! 🙌</p>"
      ],
      "text/plain": [
       "Question 5 results: All test cases passed!"
      ]
     },
     "execution_count": 46,
     "metadata": {},
     "output_type": "execute_result"
    }
   ],
   "source": [
    "grader.check(\"Question 5\")"
   ]
  },
  {
   "cell_type": "markdown",
   "id": "4e1b7078",
   "metadata": {},
   "source": [
    "## 2 - EDA (6 points)"
   ]
  },
  {
   "cell_type": "markdown",
   "id": "097b6cf7",
   "metadata": {},
   "source": [
    "### A (2 points)\n",
    "Let's answer one more question about billboard hits in the 2000s. Use the billboard, billboard_songs or billboard_charts dataframes."
   ]
  },
  {
   "cell_type": "markdown",
   "id": "d564c37e",
   "metadata": {},
   "source": [
    "**Question 6**: What was the number one hit (rank = 1) on 2000/07/29? This question may seem random (and it is), but this is the 2000s! This is the day on which Jennifer Aniston married Brad Pitt. Did they play this song? Who knows.\n",
    "\n",
    "* Define one variable\n",
    "    * \"name_song\": Name of the song that was at rank 1 on the given date"
   ]
  },
  {
   "cell_type": "code",
   "execution_count": 47,
   "id": "99016627",
   "metadata": {
    "nbgrader": {
     "grade": false,
     "grade_id": "cell-75a4834772643fcd",
     "locked": false,
     "schema_version": 3,
     "solution": true,
     "task": false
    }
   },
   "outputs": [
    {
     "data": {
      "text/plain": [
       "10728    It's Gonna Be Me\n",
       "Name: track, dtype: object"
      ]
     },
     "execution_count": 47,
     "metadata": {},
     "output_type": "execute_result"
    }
   ],
   "source": [
    "'''\n",
    "correct_date = billboard_charts[billboard_charts[\"date\"] == \"2000-07-29\"]\n",
    "correct_rank = correct_date[correct_date[\"rank\"] == 1]\n",
    "name_song = billboard_songs.iloc[correct_rank.index][\"track\"]\n",
    "name_song\n",
    "'''\n",
    "name_song = billboard.loc[(billboard_charts[\"date\"] == \"2000-07-29\") &\n",
    "                          (billboard_charts[\"rank\"] == 1)][\"track\"]\n",
    "name_song"
   ]
  },
  {
   "cell_type": "markdown",
   "id": "baca4399",
   "metadata": {},
   "source": [
    "### 2b (4 points)\n",
    "Let's answer some questions about average heights. Use the height, height_tidy or height_melt dataframes."
   ]
  },
  {
   "cell_type": "markdown",
   "id": "bde0356f",
   "metadata": {},
   "source": [
    "**Question 7**: What's the country with the tallest men?\n",
    "\n",
    "* Define two variables\n",
    "    * \"country_tallest_men\": Name of the country of tallest men as a string\n",
    "    * \"height_tallest_men\": Average height of men in this country in cm\n",
    "\n",
    "(Hint: Pandas function max() can help here!)"
   ]
  },
  {
   "cell_type": "code",
   "execution_count": 48,
   "id": "b6af8a0a",
   "metadata": {
    "nbgrader": {
     "grade": false,
     "grade_id": "cell-4283fe78120f5a5d",
     "locked": false,
     "schema_version": 3,
     "solution": true,
     "task": false
    }
   },
   "outputs": [
    {
     "data": {
      "text/plain": [
       "183.78"
      ]
     },
     "execution_count": 48,
     "metadata": {},
     "output_type": "execute_result"
    }
   ],
   "source": [
    "height_men = height_melt[height_melt[\"Sex\"] == \"M\"]\n",
    "\n",
    "country_tallest_men = height_men.iloc[height_men[\"Height in Cm\"].idxmax(), 1]\n",
    "country_tallest_men\n",
    "height_tallest_men = height_men[\"Height in Cm\"].max()\n",
    "height_tallest_men"
   ]
  },
  {
   "cell_type": "markdown",
   "id": "db5894a9",
   "metadata": {},
   "source": [
    "**Question8**: In which country is the difference of average heights between men and women largest?\n",
    "\n",
    "* Define two variables\n",
    "    * \"country_largest_difference\": Name of the country where the average height difference between men and women is largest\n",
    "    * \"largest_difference\": Difference of average heights of men and women in this country in cm"
   ]
  },
  {
   "cell_type": "code",
   "execution_count": 49,
   "id": "c280a5a4",
   "metadata": {
    "nbgrader": {
     "grade": false,
     "grade_id": "cell-4e575ca703ccbd4e",
     "locked": false,
     "schema_version": 3,
     "solution": true,
     "task": false
    }
   },
   "outputs": [],
   "source": [
    "country_largest_difference = (height_tidy[\"Male Height in Cm\"] -\n",
    "                              height_tidy[\"Female Height in Cm\"]).idxmax()\n",
    "largest_difference = (height_tidy[\"Male Height in Cm\"] -\n",
    "                      height_tidy[\"Female Height in Cm\"]).max()"
   ]
  },
  {
   "cell_type": "markdown",
   "id": "b62f9590",
   "metadata": {},
   "source": [
    "**Question 9**: What's (Pearson's) correlation value of average male and average female height?\n",
    "\n",
    "* Define a new variable \"corr_avg_heights\" that contains the correlation value of average male and female heights\n",
    "\n",
    "(Hint: Use Panda's function corr().)"
   ]
  },
  {
   "cell_type": "code",
   "execution_count": 50,
   "id": "1b4d27b8",
   "metadata": {
    "nbgrader": {
     "grade": false,
     "grade_id": "cell-b5438d2320f5d36d",
     "locked": false,
     "schema_version": 3,
     "solution": true,
     "task": false
    }
   },
   "outputs": [
    {
     "data": {
      "text/plain": [
       "0.9287870871294992"
      ]
     },
     "execution_count": 50,
     "metadata": {},
     "output_type": "execute_result"
    }
   ],
   "source": [
    "corr_avg_heights = height_tidy[[\"Male Height in Cm\", \"Female Height in Cm\"]].corr(method=\"pearson\")\n",
    "corr_avg_heights.iloc[0,1]"
   ]
  },
  {
   "cell_type": "code",
   "execution_count": 51,
   "id": "10167f1b",
   "metadata": {
    "deletable": false,
    "editable": false
   },
   "outputs": [
    {
     "data": {
      "text/html": [
       "<p><strong><pre style='display: inline;'>Question 9</pre></strong> passed! 🌈</p>"
      ],
      "text/plain": [
       "Question 9 results: All test cases passed!"
      ]
     },
     "execution_count": 51,
     "metadata": {},
     "output_type": "execute_result"
    }
   ],
   "source": [
    "grader.check(\"Question 9\")"
   ]
  },
  {
   "cell_type": "markdown",
   "id": "0bcf9745",
   "metadata": {
    "deletable": false,
    "editable": false
   },
   "source": [
    "---\n",
    "\n",
    "To double-check your work, the cell below will rerun all of the autograder tests."
   ]
  },
  {
   "cell_type": "code",
   "execution_count": 52,
   "id": "de9e3543",
   "metadata": {
    "deletable": false,
    "editable": false
   },
   "outputs": [
    {
     "data": {
      "text/plain": [
       "Question 1 results: All test cases passed!\n",
       "\n",
       "Question 2 results: All test cases passed!\n",
       "\n",
       "Question 3 results: All test cases passed!\n",
       "\n",
       "Question 4 results: All test cases passed!\n",
       "\n",
       "Question 5 results: All test cases passed!\n",
       "\n",
       "Question 6 results: All test cases passed!\n",
       "\n",
       "Question 7 results: All test cases passed!\n",
       "\n",
       "Question 8 results: All test cases passed!\n",
       "\n",
       "Question 9 results: All test cases passed!"
      ]
     },
     "execution_count": 52,
     "metadata": {},
     "output_type": "execute_result"
    }
   ],
   "source": [
    "grader.check_all()"
   ]
  },
  {
   "cell_type": "markdown",
   "id": "d2fac99d",
   "metadata": {
    "deletable": false,
    "editable": false
   },
   "source": [
    "## Submission\n",
    "\n",
    "Make sure you have run all cells in your notebook in order before running the cell below, so that all images/graphs appear in the output. The cell below will generate a zip file for you to submit. **Please save before exporting!**"
   ]
  },
  {
   "cell_type": "code",
   "execution_count": 53,
   "id": "bffc1df9",
   "metadata": {
    "deletable": false,
    "editable": false
   },
   "outputs": [
    {
     "ename": "ExportFailedException",
     "evalue": "There was an error generating your LaTeX; showing full error message:\n    Failed to run \"['xelatex', 'notebook.tex', '-quiet']\" command:\n    This is XeTeX, Version 3.141592653-2.6-0.999995 (TeX Live 2023/Arch Linux) (preloaded format=xelatex)\n     restricted \\write18 enabled.\n    entering extended mode\n    (./notebook.tex\n    LaTeX2e <2022-11-01> patch level 1\n    L3 programming layer <2023-02-22>\n    (/usr/share/texmf-dist/tex/latex/base/article.cls\n    Document Class: article 2022/07/02 v1.4n Standard LaTeX document class\n    (/usr/share/texmf-dist/tex/latex/base/size10.clo))\n    (/usr/share/texmf-dist/tex/xelatex/xecjk/xeCJK.sty\n    (/usr/share/texmf-dist/tex/latex/l3kernel/expl3.sty\n    (/usr/share/texmf-dist/tex/latex/l3backend/l3backend-xetex.def))\n\n    ! LaTeX Error: File `ctexhook.sty' not found.\n\n    Type X to quit or <RETURN> to proceed,\n    or enter new name. (Default extension: sty)\n\n    Enter file name: \n    ! Emergency stop.\n    <read *> \n         \n    l.55 \\prg_new_conditional:Npnn\n                                   \\xeCJK_if_package_loaded:n #1 { p , T , F , T...\n\n    No pages of output.\n    Transcript written on notebook.log.\n\n\nIf the error above is related to xeCJK or fandol in LaTeX and you don't require this functionality, try running again with no_xecjk set to True or the --no-xecjk flag.",
     "output_type": "error",
     "traceback": [
      "\u001b[0;31m---------------------------------------------------------------------------\u001b[0m",
      "\u001b[0;31mLatexFailed\u001b[0m                               Traceback (most recent call last)",
      "File \u001b[0;32m~/.local/lib/python3.10/site-packages/otter/export/exporters/via_latex.py:69\u001b[0m, in \u001b[0;36mPDFViaLatexExporter.convert_notebook\u001b[0;34m(cls, nb_path, dest, xecjk, no_xecjk, **kwargs)\u001b[0m\n\u001b[1;32m     67\u001b[0m         output_file\u001b[39m.\u001b[39mwrite(latex_output[\u001b[39m0\u001b[39m])\n\u001b[0;32m---> 69\u001b[0m pdf_output \u001b[39m=\u001b[39m nbconvert\u001b[39m.\u001b[39;49mexport(pdf_exporter, nb)\n\u001b[1;32m     70\u001b[0m \u001b[39mwith\u001b[39;00m \u001b[39mopen\u001b[39m(dest, \u001b[39m\"\u001b[39m\u001b[39mwb\u001b[39m\u001b[39m\"\u001b[39m) \u001b[39mas\u001b[39;00m output_file:\n",
      "File \u001b[0;32m~/.local/lib/python3.10/site-packages/nbconvert/exporters/base.py:90\u001b[0m, in \u001b[0;36mexport\u001b[0;34m(exporter, nb, **kw)\u001b[0m\n\u001b[1;32m     89\u001b[0m \u001b[39mif\u001b[39;00m \u001b[39misinstance\u001b[39m(nb, NotebookNode):\n\u001b[0;32m---> 90\u001b[0m     output, resources \u001b[39m=\u001b[39m exporter_instance\u001b[39m.\u001b[39;49mfrom_notebook_node(nb, resources)\n\u001b[1;32m     91\u001b[0m \u001b[39melif\u001b[39;00m \u001b[39misinstance\u001b[39m(nb, (\u001b[39mstr\u001b[39m,)):\n",
      "File \u001b[0;32m~/.local/lib/python3.10/site-packages/nbconvert/exporters/pdf.py:200\u001b[0m, in \u001b[0;36mPDFExporter.from_notebook_node\u001b[0;34m(self, nb, resources, **kw)\u001b[0m\n\u001b[1;32m    199\u001b[0m \u001b[39mif\u001b[39;00m \u001b[39mnot\u001b[39;00m os\u001b[39m.\u001b[39mpath\u001b[39m.\u001b[39misfile(pdf_file):\n\u001b[0;32m--> 200\u001b[0m     \u001b[39mraise\u001b[39;00m LatexFailed(\u001b[39m\"\u001b[39m\u001b[39m\\n\u001b[39;00m\u001b[39m\"\u001b[39m\u001b[39m.\u001b[39mjoin(\u001b[39mself\u001b[39m\u001b[39m.\u001b[39m_captured_output))\n\u001b[1;32m    201\u001b[0m \u001b[39mself\u001b[39m\u001b[39m.\u001b[39mlog\u001b[39m.\u001b[39minfo(\u001b[39m\"\u001b[39m\u001b[39mPDF successfully created\u001b[39m\u001b[39m\"\u001b[39m)\n",
      "\u001b[0;31mLatexFailed\u001b[0m: PDF creating failed, captured latex output:\nThis is BibTeX, Version 0.99d (TeX Live 2023/Arch Linux)\nThe top-level auxiliary file: notebook.aux\nI found no \\citation commands---while reading file notebook.aux\nI found no \\bibdata command---while reading file notebook.aux\nI found no \\bibstyle command---while reading file notebook.aux\n(There were 3 error messages)\n",
      "\nDuring handling of the above exception, another exception occurred:\n",
      "\u001b[0;31mLatexFailed\u001b[0m                               Traceback (most recent call last)",
      "File \u001b[0;32m~/.local/lib/python3.10/site-packages/otter/export/exporters/via_latex.py:69\u001b[0m, in \u001b[0;36mPDFViaLatexExporter.convert_notebook\u001b[0;34m(cls, nb_path, dest, xecjk, no_xecjk, **kwargs)\u001b[0m\n\u001b[1;32m     67\u001b[0m         output_file\u001b[39m.\u001b[39mwrite(latex_output[\u001b[39m0\u001b[39m])\n\u001b[0;32m---> 69\u001b[0m pdf_output \u001b[39m=\u001b[39m nbconvert\u001b[39m.\u001b[39;49mexport(pdf_exporter, nb)\n\u001b[1;32m     70\u001b[0m \u001b[39mwith\u001b[39;00m \u001b[39mopen\u001b[39m(dest, \u001b[39m\"\u001b[39m\u001b[39mwb\u001b[39m\u001b[39m\"\u001b[39m) \u001b[39mas\u001b[39;00m output_file:\n",
      "File \u001b[0;32m~/.local/lib/python3.10/site-packages/nbconvert/exporters/base.py:90\u001b[0m, in \u001b[0;36mexport\u001b[0;34m(exporter, nb, **kw)\u001b[0m\n\u001b[1;32m     89\u001b[0m \u001b[39mif\u001b[39;00m \u001b[39misinstance\u001b[39m(nb, NotebookNode):\n\u001b[0;32m---> 90\u001b[0m     output, resources \u001b[39m=\u001b[39m exporter_instance\u001b[39m.\u001b[39;49mfrom_notebook_node(nb, resources)\n\u001b[1;32m     91\u001b[0m \u001b[39melif\u001b[39;00m \u001b[39misinstance\u001b[39m(nb, (\u001b[39mstr\u001b[39m,)):\n",
      "File \u001b[0;32m~/.local/lib/python3.10/site-packages/nbconvert/exporters/pdf.py:194\u001b[0m, in \u001b[0;36mPDFExporter.from_notebook_node\u001b[0;34m(self, nb, resources, **kw)\u001b[0m\n\u001b[1;32m    193\u001b[0m \u001b[39mself\u001b[39m\u001b[39m.\u001b[39mlog\u001b[39m.\u001b[39minfo(\u001b[39m\"\u001b[39m\u001b[39mBuilding PDF\u001b[39m\u001b[39m\"\u001b[39m)\n\u001b[0;32m--> 194\u001b[0m \u001b[39mself\u001b[39;49m\u001b[39m.\u001b[39;49mrun_latex(tex_file)\n\u001b[1;32m    195\u001b[0m \u001b[39mif\u001b[39;00m \u001b[39mself\u001b[39m\u001b[39m.\u001b[39mrun_bib(tex_file):\n",
      "File \u001b[0;32m~/.local/lib/python3.10/site-packages/nbconvert/exporters/pdf.py:163\u001b[0m, in \u001b[0;36mPDFExporter.run_latex\u001b[0;34m(self, filename, raise_on_failure)\u001b[0m\n\u001b[1;32m    161\u001b[0m     \u001b[39mself\u001b[39m\u001b[39m.\u001b[39mlog\u001b[39m.\u001b[39mcritical(\u001b[39m\"\u001b[39m\u001b[39m%s\u001b[39;00m\u001b[39m failed: \u001b[39m\u001b[39m%s\u001b[39;00m\u001b[39m\\n\u001b[39;00m\u001b[39m%s\u001b[39;00m\u001b[39m\"\u001b[39m, command[\u001b[39m0\u001b[39m], command, out)\n\u001b[0;32m--> 163\u001b[0m \u001b[39mreturn\u001b[39;00m \u001b[39mself\u001b[39;49m\u001b[39m.\u001b[39;49mrun_command(\n\u001b[1;32m    164\u001b[0m     \u001b[39mself\u001b[39;49m\u001b[39m.\u001b[39;49mlatex_command, filename, \u001b[39mself\u001b[39;49m\u001b[39m.\u001b[39;49mlatex_count, log_error, raise_on_failure\n\u001b[1;32m    165\u001b[0m )\n",
      "File \u001b[0;32m~/.local/lib/python3.10/site-packages/nbconvert/exporters/pdf.py:153\u001b[0m, in \u001b[0;36mPDFExporter.run_command\u001b[0;34m(self, command_list, filename, count, log_function, raise_on_failure)\u001b[0m\n\u001b[1;32m    152\u001b[0m \u001b[39mif\u001b[39;00m raise_on_failure:\n\u001b[0;32m--> 153\u001b[0m     \u001b[39mraise\u001b[39;00m raise_on_failure(\u001b[39mf\u001b[39m\u001b[39m'\u001b[39m\u001b[39mFailed to run \u001b[39m\u001b[39m\"\u001b[39m\u001b[39m{\u001b[39;00mcommand\u001b[39m}\u001b[39;00m\u001b[39m\"\u001b[39m\u001b[39m command:\u001b[39m\u001b[39m\\n\u001b[39;00m\u001b[39m{\u001b[39;00mout_str\u001b[39m}\u001b[39;00m\u001b[39m'\u001b[39m)\n\u001b[1;32m    154\u001b[0m \u001b[39mreturn\u001b[39;00m \u001b[39mFalse\u001b[39;00m  \u001b[39m# failure\u001b[39;00m\n",
      "\u001b[0;31mLatexFailed\u001b[0m: PDF creating failed, captured latex output:\nFailed to run \"['xelatex', 'notebook.tex', '-quiet']\" command:\nThis is XeTeX, Version 3.141592653-2.6-0.999995 (TeX Live 2023/Arch Linux) (preloaded format=xelatex)\n restricted \\write18 enabled.\nentering extended mode\n(./notebook.tex\nLaTeX2e <2022-11-01> patch level 1\nL3 programming layer <2023-02-22>\n(/usr/share/texmf-dist/tex/latex/base/article.cls\nDocument Class: article 2022/07/02 v1.4n Standard LaTeX document class\n(/usr/share/texmf-dist/tex/latex/base/size10.clo))\n(/usr/share/texmf-dist/tex/xelatex/xecjk/xeCJK.sty\n(/usr/share/texmf-dist/tex/latex/l3kernel/expl3.sty\n(/usr/share/texmf-dist/tex/latex/l3backend/l3backend-xetex.def))\n\n! LaTeX Error: File `ctexhook.sty' not found.\n\nType X to quit or <RETURN> to proceed,\nor enter new name. (Default extension: sty)\n\nEnter file name: \n! Emergency stop.\n<read *> \n         \nl.55 \\prg_new_conditional:Npnn\n                               \\xeCJK_if_package_loaded:n #1 { p , T , F , T...\n\nNo pages of output.\nTranscript written on notebook.log.\n",
      "\nDuring handling of the above exception, another exception occurred:\n",
      "\u001b[0;31mExportFailedException\u001b[0m                     Traceback (most recent call last)",
      "Cell \u001b[0;32mIn[53], line 2\u001b[0m\n\u001b[1;32m      1\u001b[0m \u001b[39m# Save your notebook first, then run this cell to export your submission.\u001b[39;00m\n\u001b[0;32m----> 2\u001b[0m grader\u001b[39m.\u001b[39;49mexport()\n",
      "File \u001b[0;32m~/.local/lib/python3.10/site-packages/otter/check/utils.py:156\u001b[0m, in \u001b[0;36mgrading_mode_disabled\u001b[0;34m(wrapped, self, args, kwargs)\u001b[0m\n\u001b[1;32m    154\u001b[0m \u001b[39mif\u001b[39;00m \u001b[39mtype\u001b[39m(\u001b[39mself\u001b[39m)\u001b[39m.\u001b[39m_grading_mode:\n\u001b[1;32m    155\u001b[0m     \u001b[39mreturn\u001b[39;00m\n\u001b[0;32m--> 156\u001b[0m \u001b[39mreturn\u001b[39;00m wrapped(\u001b[39m*\u001b[39;49margs, \u001b[39m*\u001b[39;49m\u001b[39m*\u001b[39;49mkwargs)\n",
      "File \u001b[0;32m~/.local/lib/python3.10/site-packages/otter/check/utils.py:143\u001b[0m, in \u001b[0;36mincompatible_with.<locals>.incompatible\u001b[0;34m(wrapped, self, args, kwargs)\u001b[0m\n\u001b[1;32m    141\u001b[0m     \u001b[39melse\u001b[39;00m:\n\u001b[1;32m    142\u001b[0m         \u001b[39mreturn\u001b[39;00m\n\u001b[0;32m--> 143\u001b[0m \u001b[39mreturn\u001b[39;00m wrapped(\u001b[39m*\u001b[39;49margs, \u001b[39m*\u001b[39;49m\u001b[39m*\u001b[39;49mkwargs)\n",
      "File \u001b[0;32m~/.local/lib/python3.10/site-packages/otter/check/utils.py:193\u001b[0m, in \u001b[0;36mlogs_event.<locals>.event_logger\u001b[0;34m(wrapped, self, args, kwargs)\u001b[0m\n\u001b[1;32m    191\u001b[0m \u001b[39mexcept\u001b[39;00m \u001b[39mException\u001b[39;00m \u001b[39mas\u001b[39;00m e:\n\u001b[1;32m    192\u001b[0m     \u001b[39mself\u001b[39m\u001b[39m.\u001b[39m_log_event(event_type, success\u001b[39m=\u001b[39m\u001b[39mFalse\u001b[39;00m, error\u001b[39m=\u001b[39me)\n\u001b[0;32m--> 193\u001b[0m     \u001b[39mraise\u001b[39;00m e\n\u001b[1;32m    195\u001b[0m \u001b[39melse\u001b[39;00m:\n\u001b[1;32m    196\u001b[0m     \u001b[39mself\u001b[39m\u001b[39m.\u001b[39m_log_event(event_type, results\u001b[39m=\u001b[39mresults, question\u001b[39m=\u001b[39mquestion, shelve_env\u001b[39m=\u001b[39mshelve_env)\n",
      "File \u001b[0;32m~/.local/lib/python3.10/site-packages/otter/check/utils.py:187\u001b[0m, in \u001b[0;36mlogs_event.<locals>.event_logger\u001b[0;34m(wrapped, self, args, kwargs)\u001b[0m\n\u001b[1;32m    184\u001b[0m     question, results, shelve_env \u001b[39m=\u001b[39m wrapped(\u001b[39m*\u001b[39margs, \u001b[39m*\u001b[39m\u001b[39m*\u001b[39mkwargs)\n\u001b[1;32m    186\u001b[0m \u001b[39melse\u001b[39;00m:\n\u001b[0;32m--> 187\u001b[0m     results \u001b[39m=\u001b[39m wrapped(\u001b[39m*\u001b[39;49margs, \u001b[39m*\u001b[39;49m\u001b[39m*\u001b[39;49mkwargs)\n\u001b[1;32m    188\u001b[0m     shelve_env \u001b[39m=\u001b[39m {}\n\u001b[1;32m    189\u001b[0m     question \u001b[39m=\u001b[39m \u001b[39mNone\u001b[39;00m\n",
      "File \u001b[0;32m~/.local/lib/python3.10/site-packages/otter/check/notebook.py:380\u001b[0m, in \u001b[0;36mNotebook.export\u001b[0;34m(self, nb_path, export_path, pdf, filtering, pagebreaks, files, display_link, force_save, run_tests)\u001b[0m\n\u001b[1;32m    377\u001b[0m zf\u001b[39m.\u001b[39mwrite(nb_path)\n\u001b[1;32m    379\u001b[0m \u001b[39mif\u001b[39;00m pdf:\n\u001b[0;32m--> 380\u001b[0m     pdf_path \u001b[39m=\u001b[39m export_notebook(nb_path, filtering\u001b[39m=\u001b[39;49mfiltering, pagebreaks\u001b[39m=\u001b[39;49mpagebreaks)\n\u001b[1;32m    381\u001b[0m     \u001b[39mif\u001b[39;00m os\u001b[39m.\u001b[39mpath\u001b[39m.\u001b[39misfile(pdf_path):\n\u001b[1;32m    382\u001b[0m         zf\u001b[39m.\u001b[39mwrite(pdf_path)\n",
      "File \u001b[0;32m~/.local/lib/python3.10/site-packages/otter/export/__init__.py:42\u001b[0m, in \u001b[0;36mexport_notebook\u001b[0;34m(nb_path, dest, exporter_type, **kwargs)\u001b[0m\n\u001b[1;32m     39\u001b[0m     pdf_name \u001b[39m=\u001b[39m os\u001b[39m.\u001b[39mpath\u001b[39m.\u001b[39msplitext(nb_path)[\u001b[39m0\u001b[39m] \u001b[39m+\u001b[39m \u001b[39m\"\u001b[39m\u001b[39m.pdf\u001b[39m\u001b[39m\"\u001b[39m\n\u001b[1;32m     41\u001b[0m Exporter \u001b[39m=\u001b[39m get_exporter(exporter_type\u001b[39m=\u001b[39mexporter_type)\n\u001b[0;32m---> 42\u001b[0m Exporter\u001b[39m.\u001b[39;49mconvert_notebook(nb_path, pdf_name, \u001b[39m*\u001b[39;49m\u001b[39m*\u001b[39;49mkwargs)\n\u001b[1;32m     44\u001b[0m \u001b[39mreturn\u001b[39;00m pdf_name\n",
      "File \u001b[0;32m~/.local/lib/python3.10/site-packages/otter/export/exporters/via_latex.py:75\u001b[0m, in \u001b[0;36mPDFViaLatexExporter.convert_notebook\u001b[0;34m(cls, nb_path, dest, xecjk, no_xecjk, **kwargs)\u001b[0m\n\u001b[1;32m     73\u001b[0m \u001b[39mexcept\u001b[39;00m nbconvert\u001b[39m.\u001b[39mpdf\u001b[39m.\u001b[39mLatexFailed \u001b[39mas\u001b[39;00m error:\n\u001b[1;32m     74\u001b[0m     \u001b[39mif\u001b[39;00m \u001b[39mnot\u001b[39;00m xecjk \u001b[39mand\u001b[39;00m \u001b[39mnot\u001b[39;00m no_xecjk:\n\u001b[0;32m---> 75\u001b[0m         \u001b[39mcls\u001b[39;49m\u001b[39m.\u001b[39;49mconvert_notebook(nb_path, dest, xecjk\u001b[39m=\u001b[39;49m\u001b[39mTrue\u001b[39;49;00m, \u001b[39m*\u001b[39;49m\u001b[39m*\u001b[39;49mkwargs)\n\u001b[1;32m     77\u001b[0m     \u001b[39melse\u001b[39;00m:\n\u001b[1;32m     78\u001b[0m         message \u001b[39m=\u001b[39m \u001b[39m\"\u001b[39m\u001b[39mThere was an error generating your LaTeX; showing full error message:\u001b[39m\u001b[39m\\n\u001b[39;00m\u001b[39m\"\u001b[39m\n",
      "File \u001b[0;32m~/.local/lib/python3.10/site-packages/otter/export/exporters/via_latex.py:84\u001b[0m, in \u001b[0;36mPDFViaLatexExporter.convert_notebook\u001b[0;34m(cls, nb_path, dest, xecjk, no_xecjk, **kwargs)\u001b[0m\n\u001b[1;32m     80\u001b[0m         \u001b[39mif\u001b[39;00m xecjk:\n\u001b[1;32m     81\u001b[0m             message \u001b[39m+\u001b[39m\u001b[39m=\u001b[39m \u001b[39m\"\u001b[39m\u001b[39m\\n\u001b[39;00m\u001b[39m\\n\u001b[39;00m\u001b[39mIf the error above is related to xeCJK or fandol in LaTeX \u001b[39m\u001b[39m\"\u001b[39m \\\n\u001b[1;32m     82\u001b[0m                 \u001b[39m\"\u001b[39m\u001b[39mand you don\u001b[39m\u001b[39m'\u001b[39m\u001b[39mt require this functionality, try running again with \u001b[39m\u001b[39m\"\u001b[39m \\\n\u001b[1;32m     83\u001b[0m                 \u001b[39m\"\u001b[39m\u001b[39mno_xecjk set to True or the --no-xecjk flag.\u001b[39m\u001b[39m\"\u001b[39m\n\u001b[0;32m---> 84\u001b[0m         \u001b[39mraise\u001b[39;00m ExportFailedException(message)\n\u001b[1;32m     86\u001b[0m \u001b[39mfinally\u001b[39;00m:\n\u001b[1;32m     87\u001b[0m     \u001b[39mif\u001b[39;00m NBCONVERT_6:\n",
      "\u001b[0;31mExportFailedException\u001b[0m: There was an error generating your LaTeX; showing full error message:\n    Failed to run \"['xelatex', 'notebook.tex', '-quiet']\" command:\n    This is XeTeX, Version 3.141592653-2.6-0.999995 (TeX Live 2023/Arch Linux) (preloaded format=xelatex)\n     restricted \\write18 enabled.\n    entering extended mode\n    (./notebook.tex\n    LaTeX2e <2022-11-01> patch level 1\n    L3 programming layer <2023-02-22>\n    (/usr/share/texmf-dist/tex/latex/base/article.cls\n    Document Class: article 2022/07/02 v1.4n Standard LaTeX document class\n    (/usr/share/texmf-dist/tex/latex/base/size10.clo))\n    (/usr/share/texmf-dist/tex/xelatex/xecjk/xeCJK.sty\n    (/usr/share/texmf-dist/tex/latex/l3kernel/expl3.sty\n    (/usr/share/texmf-dist/tex/latex/l3backend/l3backend-xetex.def))\n\n    ! LaTeX Error: File `ctexhook.sty' not found.\n\n    Type X to quit or <RETURN> to proceed,\n    or enter new name. (Default extension: sty)\n\n    Enter file name: \n    ! Emergency stop.\n    <read *> \n         \n    l.55 \\prg_new_conditional:Npnn\n                                   \\xeCJK_if_package_loaded:n #1 { p , T , F , T...\n\n    No pages of output.\n    Transcript written on notebook.log.\n\n\nIf the error above is related to xeCJK or fandol in LaTeX and you don't require this functionality, try running again with no_xecjk set to True or the --no-xecjk flag."
     ]
    }
   ],
   "source": [
    "# Save your notebook first, then run this cell to export your submission.\n",
    "grader.export()"
   ]
  },
  {
   "cell_type": "markdown",
   "id": "d405303f",
   "metadata": {},
   "source": [
    " "
   ]
  }
 ],
 "metadata": {
  "celltoolbar": "Create Assignment",
  "kernelspec": {
   "display_name": "Python 3 (ipykernel)",
   "language": "python",
   "name": "python3"
  },
  "language_info": {
   "codemirror_mode": {
    "name": "ipython",
    "version": 3
   },
   "file_extension": ".py",
   "mimetype": "text/x-python",
   "name": "python",
   "nbconvert_exporter": "python",
   "pygments_lexer": "ipython3",
   "version": "3.10.10"
  }
 },
 "nbformat": 4,
 "nbformat_minor": 5
}
