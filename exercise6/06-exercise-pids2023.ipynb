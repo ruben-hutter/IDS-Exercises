{
 "cells": [
  {
   "cell_type": "code",
   "execution_count": 1,
   "id": "5535ee35",
   "metadata": {},
   "outputs": [
    {
     "name": "stdout",
     "output_type": "stream",
     "text": [
      "Requirement already satisfied: nose in /home/ruben/anaconda3/envs/data_science/lib/python3.11/site-packages (1.3.7)\n",
      "Requirement already satisfied: otter-grader in /home/ruben/anaconda3/envs/data_science/lib/python3.11/site-packages (4.3.1)\n",
      "Requirement already satisfied: dill in /home/ruben/anaconda3/envs/data_science/lib/python3.11/site-packages (from otter-grader) (0.3.6)\n",
      "Requirement already satisfied: jinja2 in /home/ruben/anaconda3/envs/data_science/lib/python3.11/site-packages (from otter-grader) (3.1.2)\n",
      "Requirement already satisfied: nbformat in /home/ruben/anaconda3/envs/data_science/lib/python3.11/site-packages (from otter-grader) (5.8.0)\n",
      "Requirement already satisfied: pandas in /home/ruben/anaconda3/envs/data_science/lib/python3.11/site-packages (from otter-grader) (1.5.3)\n",
      "Requirement already satisfied: PyYAML in /home/ruben/anaconda3/envs/data_science/lib/python3.11/site-packages (from otter-grader) (6.0)\n",
      "Requirement already satisfied: python-on-whales in /home/ruben/anaconda3/envs/data_science/lib/python3.11/site-packages (from otter-grader) (0.60.0)\n",
      "Requirement already satisfied: requests in /home/ruben/anaconda3/envs/data_science/lib/python3.11/site-packages (from otter-grader) (2.28.1)\n",
      "Requirement already satisfied: wrapt in /home/ruben/anaconda3/envs/data_science/lib/python3.11/site-packages (from otter-grader) (1.15.0)\n",
      "Requirement already satisfied: jupytext in /home/ruben/anaconda3/envs/data_science/lib/python3.11/site-packages (from otter-grader) (1.14.5)\n",
      "Requirement already satisfied: click in /home/ruben/anaconda3/envs/data_science/lib/python3.11/site-packages (from otter-grader) (8.1.3)\n",
      "Requirement already satisfied: fica>=0.2.0 in /home/ruben/anaconda3/envs/data_science/lib/python3.11/site-packages (from otter-grader) (0.2.2)\n",
      "Requirement already satisfied: ipython in /home/ruben/anaconda3/envs/data_science/lib/python3.11/site-packages (from otter-grader) (8.12.0)\n",
      "Requirement already satisfied: google-api-python-client in /home/ruben/anaconda3/envs/data_science/lib/python3.11/site-packages (from otter-grader) (2.83.0)\n",
      "Requirement already satisfied: google-auth-oauthlib in /home/ruben/anaconda3/envs/data_science/lib/python3.11/site-packages (from otter-grader) (1.0.0)\n",
      "Requirement already satisfied: six in /home/ruben/anaconda3/envs/data_science/lib/python3.11/site-packages (from otter-grader) (1.16.0)\n",
      "Requirement already satisfied: docutils in /home/ruben/anaconda3/envs/data_science/lib/python3.11/site-packages (from fica>=0.2.0->otter-grader) (0.19)\n",
      "Requirement already satisfied: sphinx in /home/ruben/anaconda3/envs/data_science/lib/python3.11/site-packages (from fica>=0.2.0->otter-grader) (6.1.3)\n",
      "Requirement already satisfied: httplib2<1dev,>=0.15.0 in /home/ruben/anaconda3/envs/data_science/lib/python3.11/site-packages (from google-api-python-client->otter-grader) (0.22.0)\n",
      "Requirement already satisfied: google-auth<3.0.0dev,>=1.19.0 in /home/ruben/anaconda3/envs/data_science/lib/python3.11/site-packages (from google-api-python-client->otter-grader) (2.17.1)\n",
      "Requirement already satisfied: google-auth-httplib2>=0.1.0 in /home/ruben/anaconda3/envs/data_science/lib/python3.11/site-packages (from google-api-python-client->otter-grader) (0.1.0)\n",
      "Requirement already satisfied: google-api-core!=2.0.*,!=2.1.*,!=2.2.*,!=2.3.0,<3.0.0dev,>=1.31.5 in /home/ruben/anaconda3/envs/data_science/lib/python3.11/site-packages (from google-api-python-client->otter-grader) (2.11.0)\n",
      "Requirement already satisfied: uritemplate<5,>=3.0.1 in /home/ruben/anaconda3/envs/data_science/lib/python3.11/site-packages (from google-api-python-client->otter-grader) (4.1.1)\n",
      "Requirement already satisfied: requests-oauthlib>=0.7.0 in /home/ruben/anaconda3/envs/data_science/lib/python3.11/site-packages (from google-auth-oauthlib->otter-grader) (1.3.1)\n",
      "Requirement already satisfied: backcall in /home/ruben/anaconda3/envs/data_science/lib/python3.11/site-packages (from ipython->otter-grader) (0.2.0)\n",
      "Requirement already satisfied: decorator in /home/ruben/anaconda3/envs/data_science/lib/python3.11/site-packages (from ipython->otter-grader) (5.1.1)\n",
      "Requirement already satisfied: jedi>=0.16 in /home/ruben/anaconda3/envs/data_science/lib/python3.11/site-packages (from ipython->otter-grader) (0.18.2)\n",
      "Requirement already satisfied: matplotlib-inline in /home/ruben/anaconda3/envs/data_science/lib/python3.11/site-packages (from ipython->otter-grader) (0.1.6)\n",
      "Requirement already satisfied: pickleshare in /home/ruben/anaconda3/envs/data_science/lib/python3.11/site-packages (from ipython->otter-grader) (0.7.5)\n",
      "Requirement already satisfied: prompt-toolkit!=3.0.37,<3.1.0,>=3.0.30 in /home/ruben/anaconda3/envs/data_science/lib/python3.11/site-packages (from ipython->otter-grader) (3.0.38)\n",
      "Requirement already satisfied: pygments>=2.4.0 in /home/ruben/anaconda3/envs/data_science/lib/python3.11/site-packages (from ipython->otter-grader) (2.14.0)\n",
      "Requirement already satisfied: stack-data in /home/ruben/anaconda3/envs/data_science/lib/python3.11/site-packages (from ipython->otter-grader) (0.6.2)\n",
      "Requirement already satisfied: traitlets>=5 in /home/ruben/anaconda3/envs/data_science/lib/python3.11/site-packages (from ipython->otter-grader) (5.9.0)\n",
      "Requirement already satisfied: pexpect>4.3 in /home/ruben/anaconda3/envs/data_science/lib/python3.11/site-packages (from ipython->otter-grader) (4.8.0)\n",
      "Requirement already satisfied: MarkupSafe>=2.0 in /home/ruben/anaconda3/envs/data_science/lib/python3.11/site-packages (from jinja2->otter-grader) (2.1.2)\n",
      "Requirement already satisfied: toml in /home/ruben/anaconda3/envs/data_science/lib/python3.11/site-packages (from jupytext->otter-grader) (0.10.2)\n",
      "Requirement already satisfied: markdown-it-py<3.0.0,>=1.0.0 in /home/ruben/anaconda3/envs/data_science/lib/python3.11/site-packages (from jupytext->otter-grader) (2.2.0)\n",
      "Requirement already satisfied: mdit-py-plugins in /home/ruben/anaconda3/envs/data_science/lib/python3.11/site-packages (from jupytext->otter-grader) (0.3.5)\n",
      "Requirement already satisfied: fastjsonschema in /home/ruben/anaconda3/envs/data_science/lib/python3.11/site-packages (from nbformat->otter-grader) (2.16.3)\n",
      "Requirement already satisfied: jsonschema>=2.6 in /home/ruben/anaconda3/envs/data_science/lib/python3.11/site-packages (from nbformat->otter-grader) (4.17.3)\n",
      "Requirement already satisfied: jupyter-core in /home/ruben/anaconda3/envs/data_science/lib/python3.11/site-packages (from nbformat->otter-grader) (5.3.0)\n",
      "Requirement already satisfied: python-dateutil>=2.8.1 in /home/ruben/anaconda3/envs/data_science/lib/python3.11/site-packages (from pandas->otter-grader) (2.8.2)\n",
      "Requirement already satisfied: pytz>=2020.1 in /home/ruben/anaconda3/envs/data_science/lib/python3.11/site-packages (from pandas->otter-grader) (2022.7)\n",
      "Requirement already satisfied: numpy>=1.21.0 in /home/ruben/anaconda3/envs/data_science/lib/python3.11/site-packages (from pandas->otter-grader) (1.23.5)\n",
      "Requirement already satisfied: pydantic>=1.5 in /home/ruben/anaconda3/envs/data_science/lib/python3.11/site-packages (from python-on-whales->otter-grader) (1.10.7)\n",
      "Requirement already satisfied: tqdm in /home/ruben/anaconda3/envs/data_science/lib/python3.11/site-packages (from python-on-whales->otter-grader) (4.65.0)\n",
      "Requirement already satisfied: typer>=0.4.1 in /home/ruben/anaconda3/envs/data_science/lib/python3.11/site-packages (from python-on-whales->otter-grader) (0.7.0)\n",
      "Requirement already satisfied: typing-extensions in /home/ruben/anaconda3/envs/data_science/lib/python3.11/site-packages (from python-on-whales->otter-grader) (4.5.0)\n",
      "Requirement already satisfied: charset-normalizer<3,>=2 in /home/ruben/anaconda3/envs/data_science/lib/python3.11/site-packages (from requests->otter-grader) (2.0.4)\n",
      "Requirement already satisfied: idna<4,>=2.5 in /home/ruben/anaconda3/envs/data_science/lib/python3.11/site-packages (from requests->otter-grader) (3.4)\n",
      "Requirement already satisfied: urllib3<1.27,>=1.21.1 in /home/ruben/anaconda3/envs/data_science/lib/python3.11/site-packages (from requests->otter-grader) (1.26.15)\n",
      "Requirement already satisfied: certifi>=2017.4.17 in /home/ruben/anaconda3/envs/data_science/lib/python3.11/site-packages (from requests->otter-grader) (2022.12.7)\n",
      "Requirement already satisfied: googleapis-common-protos<2.0dev,>=1.56.2 in /home/ruben/anaconda3/envs/data_science/lib/python3.11/site-packages (from google-api-core!=2.0.*,!=2.1.*,!=2.2.*,!=2.3.0,<3.0.0dev,>=1.31.5->google-api-python-client->otter-grader) (1.59.0)\n",
      "Requirement already satisfied: protobuf!=3.20.0,!=3.20.1,!=4.21.0,!=4.21.1,!=4.21.2,!=4.21.3,!=4.21.4,!=4.21.5,<5.0.0dev,>=3.19.5 in /home/ruben/anaconda3/envs/data_science/lib/python3.11/site-packages (from google-api-core!=2.0.*,!=2.1.*,!=2.2.*,!=2.3.0,<3.0.0dev,>=1.31.5->google-api-python-client->otter-grader) (4.22.1)\n",
      "Requirement already satisfied: cachetools<6.0,>=2.0.0 in /home/ruben/anaconda3/envs/data_science/lib/python3.11/site-packages (from google-auth<3.0.0dev,>=1.19.0->google-api-python-client->otter-grader) (5.3.0)\n",
      "Requirement already satisfied: pyasn1-modules>=0.2.1 in /home/ruben/anaconda3/envs/data_science/lib/python3.11/site-packages (from google-auth<3.0.0dev,>=1.19.0->google-api-python-client->otter-grader) (0.2.8)\n",
      "Requirement already satisfied: rsa<5,>=3.1.4 in /home/ruben/anaconda3/envs/data_science/lib/python3.11/site-packages (from google-auth<3.0.0dev,>=1.19.0->google-api-python-client->otter-grader) (4.9)\n",
      "Requirement already satisfied: pyparsing!=3.0.0,!=3.0.1,!=3.0.2,!=3.0.3,<4,>=2.4.2 in /home/ruben/anaconda3/envs/data_science/lib/python3.11/site-packages (from httplib2<1dev,>=0.15.0->google-api-python-client->otter-grader) (3.0.9)\n",
      "Requirement already satisfied: parso<0.9.0,>=0.8.0 in /home/ruben/anaconda3/envs/data_science/lib/python3.11/site-packages (from jedi>=0.16->ipython->otter-grader) (0.8.3)\n",
      "Requirement already satisfied: attrs>=17.4.0 in /home/ruben/anaconda3/envs/data_science/lib/python3.11/site-packages (from jsonschema>=2.6->nbformat->otter-grader) (22.2.0)\n",
      "Requirement already satisfied: pyrsistent!=0.17.0,!=0.17.1,!=0.17.2,>=0.14.0 in /home/ruben/anaconda3/envs/data_science/lib/python3.11/site-packages (from jsonschema>=2.6->nbformat->otter-grader) (0.19.3)\n",
      "Requirement already satisfied: mdurl~=0.1 in /home/ruben/anaconda3/envs/data_science/lib/python3.11/site-packages (from markdown-it-py<3.0.0,>=1.0.0->jupytext->otter-grader) (0.1.2)\n",
      "Requirement already satisfied: ptyprocess>=0.5 in /home/ruben/anaconda3/envs/data_science/lib/python3.11/site-packages (from pexpect>4.3->ipython->otter-grader) (0.7.0)\n",
      "Requirement already satisfied: wcwidth in /home/ruben/anaconda3/envs/data_science/lib/python3.11/site-packages (from prompt-toolkit!=3.0.37,<3.1.0,>=3.0.30->ipython->otter-grader) (0.2.6)\n",
      "Requirement already satisfied: oauthlib>=3.0.0 in /home/ruben/anaconda3/envs/data_science/lib/python3.11/site-packages (from requests-oauthlib>=0.7.0->google-auth-oauthlib->otter-grader) (3.2.2)\n",
      "Requirement already satisfied: platformdirs>=2.5 in /home/ruben/anaconda3/envs/data_science/lib/python3.11/site-packages (from jupyter-core->nbformat->otter-grader) (3.2.0)\n",
      "Requirement already satisfied: sphinxcontrib-applehelp in /home/ruben/anaconda3/envs/data_science/lib/python3.11/site-packages (from sphinx->fica>=0.2.0->otter-grader) (1.0.4)\n",
      "Requirement already satisfied: sphinxcontrib-devhelp in /home/ruben/anaconda3/envs/data_science/lib/python3.11/site-packages (from sphinx->fica>=0.2.0->otter-grader) (1.0.2)\n",
      "Requirement already satisfied: sphinxcontrib-jsmath in /home/ruben/anaconda3/envs/data_science/lib/python3.11/site-packages (from sphinx->fica>=0.2.0->otter-grader) (1.0.1)\n",
      "Requirement already satisfied: sphinxcontrib-htmlhelp>=2.0.0 in /home/ruben/anaconda3/envs/data_science/lib/python3.11/site-packages (from sphinx->fica>=0.2.0->otter-grader) (2.0.1)\n",
      "Requirement already satisfied: sphinxcontrib-serializinghtml>=1.1.5 in /home/ruben/anaconda3/envs/data_science/lib/python3.11/site-packages (from sphinx->fica>=0.2.0->otter-grader) (1.1.5)\n",
      "Requirement already satisfied: sphinxcontrib-qthelp in /home/ruben/anaconda3/envs/data_science/lib/python3.11/site-packages (from sphinx->fica>=0.2.0->otter-grader) (1.0.3)\n",
      "Requirement already satisfied: snowballstemmer>=2.0 in /home/ruben/anaconda3/envs/data_science/lib/python3.11/site-packages (from sphinx->fica>=0.2.0->otter-grader) (2.2.0)\n",
      "Requirement already satisfied: babel>=2.9 in /home/ruben/anaconda3/envs/data_science/lib/python3.11/site-packages (from sphinx->fica>=0.2.0->otter-grader) (2.12.1)\n",
      "Requirement already satisfied: alabaster<0.8,>=0.7 in /home/ruben/anaconda3/envs/data_science/lib/python3.11/site-packages (from sphinx->fica>=0.2.0->otter-grader) (0.7.13)\n",
      "Requirement already satisfied: imagesize>=1.3 in /home/ruben/anaconda3/envs/data_science/lib/python3.11/site-packages (from sphinx->fica>=0.2.0->otter-grader) (1.4.1)\n",
      "Requirement already satisfied: packaging>=21.0 in /home/ruben/anaconda3/envs/data_science/lib/python3.11/site-packages (from sphinx->fica>=0.2.0->otter-grader) (23.0)\n",
      "Requirement already satisfied: executing>=1.2.0 in /home/ruben/anaconda3/envs/data_science/lib/python3.11/site-packages (from stack-data->ipython->otter-grader) (1.2.0)\n",
      "Requirement already satisfied: asttokens>=2.1.0 in /home/ruben/anaconda3/envs/data_science/lib/python3.11/site-packages (from stack-data->ipython->otter-grader) (2.2.1)\n",
      "Requirement already satisfied: pure-eval in /home/ruben/anaconda3/envs/data_science/lib/python3.11/site-packages (from stack-data->ipython->otter-grader) (0.2.2)\n",
      "Requirement already satisfied: pyasn1<0.5.0,>=0.4.6 in /home/ruben/anaconda3/envs/data_science/lib/python3.11/site-packages (from pyasn1-modules>=0.2.1->google-auth<3.0.0dev,>=1.19.0->google-api-python-client->otter-grader) (0.4.8)\n",
      "Requirement already satisfied: seaborn in /home/ruben/anaconda3/envs/data_science/lib/python3.11/site-packages (0.12.2)\n",
      "Requirement already satisfied: numpy!=1.24.0,>=1.17 in /home/ruben/anaconda3/envs/data_science/lib/python3.11/site-packages (from seaborn) (1.23.5)\n",
      "Requirement already satisfied: pandas>=0.25 in /home/ruben/anaconda3/envs/data_science/lib/python3.11/site-packages (from seaborn) (1.5.3)\n",
      "Requirement already satisfied: matplotlib!=3.6.1,>=3.1 in /home/ruben/anaconda3/envs/data_science/lib/python3.11/site-packages (from seaborn) (3.7.1)\n",
      "Requirement already satisfied: contourpy>=1.0.1 in /home/ruben/anaconda3/envs/data_science/lib/python3.11/site-packages (from matplotlib!=3.6.1,>=3.1->seaborn) (1.0.5)\n",
      "Requirement already satisfied: cycler>=0.10 in /home/ruben/anaconda3/envs/data_science/lib/python3.11/site-packages (from matplotlib!=3.6.1,>=3.1->seaborn) (0.11.0)\n",
      "Requirement already satisfied: fonttools>=4.22.0 in /home/ruben/anaconda3/envs/data_science/lib/python3.11/site-packages (from matplotlib!=3.6.1,>=3.1->seaborn) (4.25.0)\n",
      "Requirement already satisfied: kiwisolver>=1.0.1 in /home/ruben/anaconda3/envs/data_science/lib/python3.11/site-packages (from matplotlib!=3.6.1,>=3.1->seaborn) (1.4.4)\n",
      "Requirement already satisfied: packaging>=20.0 in /home/ruben/anaconda3/envs/data_science/lib/python3.11/site-packages (from matplotlib!=3.6.1,>=3.1->seaborn) (23.0)\n",
      "Requirement already satisfied: pillow>=6.2.0 in /home/ruben/anaconda3/envs/data_science/lib/python3.11/site-packages (from matplotlib!=3.6.1,>=3.1->seaborn) (9.4.0)\n",
      "Requirement already satisfied: pyparsing>=2.3.1 in /home/ruben/anaconda3/envs/data_science/lib/python3.11/site-packages (from matplotlib!=3.6.1,>=3.1->seaborn) (3.0.9)\n",
      "Requirement already satisfied: python-dateutil>=2.7 in /home/ruben/anaconda3/envs/data_science/lib/python3.11/site-packages (from matplotlib!=3.6.1,>=3.1->seaborn) (2.8.2)\n",
      "Requirement already satisfied: pytz>=2020.1 in /home/ruben/anaconda3/envs/data_science/lib/python3.11/site-packages (from pandas>=0.25->seaborn) (2022.7)\n",
      "Requirement already satisfied: six>=1.5 in /home/ruben/anaconda3/envs/data_science/lib/python3.11/site-packages (from python-dateutil>=2.7->matplotlib!=3.6.1,>=3.1->seaborn) (1.16.0)\n"
     ]
    }
   ],
   "source": [
    "import sys\n",
    "!{sys.executable} -m pip install nose\n",
    "!{sys.executable} -m pip install otter-grader\n",
    "!{sys.executable} -m pip install seaborn"
   ]
  },
  {
   "cell_type": "code",
   "execution_count": 2,
   "id": "fe9638ac",
   "metadata": {},
   "outputs": [],
   "source": [
    "# Initialize Otter\n",
    "import otter\n",
    "grader = otter.Notebook(\"06-exercise-pids2023.ipynb\")"
   ]
  },
  {
   "cell_type": "markdown",
   "id": "fda78361",
   "metadata": {},
   "source": [
    "# Exercise sheet 6\n",
    "**Hello everyone!**\n",
    "\n",
    "**Points: 15**\n",
    "\n",
    "Topics of this exercise sheet are:\n",
    "* Probabilities\n",
    "* Conditional Probabilities\n",
    "\n",
    "\n",
    "Please let us know if you have questions or problems! <br>\n",
    "Contact us during the exercise session, on [Piazza](https://piazza.com/class/leibdr4lk8n3w4), or [via email](https://sada.dmi.unibas.ch/en/teaching/pids23).\n",
    "\n",
    "Please submit this exercise sheet on **GRADESCOPE**.\n",
    "Naming conventions:\n",
    "* Name of notebook: \"06-exercise-pids2023.ipynb\"\n",
    "\n",
    "Your notebook will be automatically graded using gradescope. To get graded, you need to upload the file *06-exercise-pids2023.ipynb* to gradescope. If you are using JupyterHub, make sure you have saved the current notebook, then you can download this file by following: *File*->*Download* and save the file on you computer.\n",
    "\n",
    "The sheet is released before the exercise session on Tuesday. You have until the next exercise session on Tuesday to submit this sheet. Most of the questions of the exercise sheet can be handle during the session.\n",
    "\n",
    "**Handout date**: 04.04.2023 <br>\n",
    "**Submission date**: 18.04.2023 before 16:00 <br>\n",
    "\n",
    "\n",
    "### Please name the variables as suggested! Be careful with the type! Otherwise the grading system will fail you!"
   ]
  },
  {
   "cell_type": "code",
   "execution_count": 3,
   "id": "3cb955b2",
   "metadata": {},
   "outputs": [],
   "source": [
    "import pandas as pd\n",
    "import seaborn as sns\n",
    "import matplotlib.pyplot as plt\n",
    "import numpy as np\n",
    "from nose.tools import assert_is_instance, assert_equal, assert_almost_equal, assert_true"
   ]
  },
  {
   "cell_type": "markdown",
   "id": "628b4d45",
   "metadata": {},
   "source": [
    "## 1 (6 points)\n",
    "Let's start with some basic probability terms.\n",
    "\n",
    "### 1a (1 point)\n",
    "What is $\\Omega$ for 3 coin tosses? Use the Python 'set' data structure with tuples to describe each possible outcome. Check the slides for lecture 5 to see what $\\Omega$ is.\n",
    "Name the result 'omega_three_coin_tosses'. Use 0 for tails and 1 for heads."
   ]
  },
  {
   "cell_type": "code",
   "execution_count": 16,
   "id": "9d9fbf7a",
   "metadata": {
    "nbgrader": {
     "grade": false,
     "grade_id": "cell-85f0aa24377f6a04",
     "locked": false,
     "schema_version": 3,
     "solution": true,
     "task": false
    }
   },
   "outputs": [],
   "source": [
    "# omega_three_coin_tosses = set(...)\n",
    "omega_three_coin_tosses = {(0, 0, 0), (0, 0, 1), (0, 1, 0), (0, 1, 1),\n",
    "                           (1, 0, 0), (1, 0, 1), (1, 1, 0), (1, 1, 1)}"
   ]
  },
  {
   "cell_type": "code",
   "execution_count": 17,
   "id": "5e1e280d",
   "metadata": {
    "deletable": false,
    "editable": false
   },
   "outputs": [
    {
     "data": {
      "text/html": [
       "<p><strong><pre style='display: inline;'>Question 1a</pre></strong> passed! 🚀</p>"
      ],
      "text/plain": [
       "Question 1a results: All test cases passed!"
      ]
     },
     "execution_count": 17,
     "metadata": {},
     "output_type": "execute_result"
    }
   ],
   "source": [
    "grader.check(\"Question 1a\")"
   ]
  },
  {
   "cell_type": "markdown",
   "id": "39083529",
   "metadata": {},
   "source": [
    "### 1b (1 point)\n",
    "We roll two standard dice.\n",
    "What is $\\Omega$ for \"We roll the same number twice?\"\n",
    "\n",
    "Save your answer as a 'set' data structure under the name 'omega_same_number_twice'."
   ]
  },
  {
   "cell_type": "code",
   "execution_count": 18,
   "id": "f5cf5157",
   "metadata": {
    "nbgrader": {
     "grade": false,
     "grade_id": "cell-e14669da3b7636be",
     "locked": false,
     "schema_version": 3,
     "solution": true,
     "task": false
    }
   },
   "outputs": [],
   "source": [
    "omega_same_number_twice = {(1, 1), (2, 2), (3, 3), (4, 4), (5, 5), (6, 6)}"
   ]
  },
  {
   "cell_type": "code",
   "execution_count": 19,
   "id": "e49f6846",
   "metadata": {
    "deletable": false,
    "editable": false
   },
   "outputs": [
    {
     "data": {
      "text/html": [
       "<p><strong><pre style='display: inline;'>Question 1b</pre></strong> passed! 💯</p>"
      ],
      "text/plain": [
       "Question 1b results: All test cases passed!"
      ]
     },
     "execution_count": 19,
     "metadata": {},
     "output_type": "execute_result"
    }
   ],
   "source": [
    "grader.check(\"Question 1b\")"
   ]
  },
  {
   "attachments": {},
   "cell_type": "markdown",
   "id": "118f9dcd",
   "metadata": {},
   "source": [
    "### 1c (1 point)\n",
    "We roll two standard dice. What is the probability for the sum of the two dice being lower than 30?\n",
    "Put the result in a variable named 'probability_lower_30' and make sure to write the probability as a fraction.\n",
    "\n",
    "For instance, if the question was \"what is the probability having two tails while flipping consecutively two coins?\", your answer should be 1/4 and not 0.25, because there is one event in the set of all 4 possible events where that appears. We ask for this specific format to make sure that you understand how to compute it."
   ]
  },
  {
   "cell_type": "code",
   "execution_count": 26,
   "id": "dccac11e",
   "metadata": {
    "nbgrader": {
     "grade": false,
     "grade_id": "cell-726e66c3dbc5c1f4",
     "locked": false,
     "schema_version": 3,
     "solution": true,
     "task": false
    }
   },
   "outputs": [],
   "source": [
    "probability_lower_30 = 1 / 1"
   ]
  },
  {
   "cell_type": "code",
   "execution_count": 27,
   "id": "7972aa3e",
   "metadata": {
    "deletable": false,
    "editable": false
   },
   "outputs": [
    {
     "data": {
      "text/html": [
       "<p><strong><pre style='display: inline;'>Question 1c</pre></strong> passed! 🍀</p>"
      ],
      "text/plain": [
       "Question 1c results: All test cases passed!"
      ]
     },
     "execution_count": 27,
     "metadata": {},
     "output_type": "execute_result"
    }
   ],
   "source": [
    "grader.check(\"Question 1c\")"
   ]
  },
  {
   "attachments": {},
   "cell_type": "markdown",
   "id": "a3b37d6b",
   "metadata": {},
   "source": [
    "### 1d (1 point)\n",
    "We roll two standard dice. What is the probability for the sum of the two dice being lower or equal to 6?\n",
    "Put the result in a variable named 'probability_lower_6' and make sure to write the probability as a fraction."
   ]
  },
  {
   "cell_type": "code",
   "execution_count": 35,
   "id": "353f5f31",
   "metadata": {
    "nbgrader": {
     "grade": false,
     "grade_id": "cell-3f1a63a0f6475004",
     "locked": false,
     "schema_version": 3,
     "solution": true,
     "task": false
    }
   },
   "outputs": [
    {
     "data": {
      "text/plain": [
       "0.38095238095238093"
      ]
     },
     "execution_count": 35,
     "metadata": {},
     "output_type": "execute_result"
    }
   ],
   "source": [
    "probability_lower_6 = 8 / 21\n",
    "probability_lower_6"
   ]
  },
  {
   "cell_type": "code",
   "execution_count": 33,
   "id": "c879b87c",
   "metadata": {
    "nbgrader": {
     "grade": true,
     "grade_id": "cell-912ffb901cab2c66",
     "locked": true,
     "points": 1,
     "schema_version": 3,
     "solution": false,
     "task": false
    }
   },
   "outputs": [],
   "source": [
    "assert_is_instance(probability_lower_6, float)\n",
    "assert_almost_equal(probability_lower_6, 0.41666666667, places=1)"
   ]
  },
  {
   "cell_type": "markdown",
   "id": "bc4461cd",
   "metadata": {},
   "source": [
    "### 1e (2 point)\n",
    "We roll two standard dice. If the first die shows a \"6\", what is the probability of the sum of the two dice being equal or higher than 8?\n",
    "Put the result in a variable named 'probability_higher_8' and make sure to right the probability as a fraction."
   ]
  },
  {
   "cell_type": "code",
   "execution_count": null,
   "id": "f3cfc222",
   "metadata": {
    "nbgrader": {
     "grade": false,
     "grade_id": "cell-37bbbd825b890acb",
     "locked": false,
     "schema_version": 3,
     "solution": true,
     "task": false
    }
   },
   "outputs": [],
   "source": [
    "probability_higher_8 = ..."
   ]
  },
  {
   "cell_type": "code",
   "execution_count": null,
   "id": "6cfd9c67",
   "metadata": {
    "deletable": false,
    "editable": false
   },
   "outputs": [],
   "source": [
    "grader.check(\"Question 1e\")"
   ]
  },
  {
   "cell_type": "markdown",
   "id": "3c879af9",
   "metadata": {},
   "source": [
    "## 2 (5 points)\n",
    "We will work with a dataset about strokes (sourced from [Kaggle](https://www.kaggle.com/datasets/fedesoriano/stroke-prediction-dataset))."
   ]
  },
  {
   "cell_type": "code",
   "execution_count": null,
   "id": "aba45e7e",
   "metadata": {},
   "outputs": [],
   "source": [
    "stroke_df = pd.read_csv(\"healthcare-dataset-stroke-data.csv\")\n",
    "stroke_df"
   ]
  },
  {
   "cell_type": "markdown",
   "id": "26bcaf8e",
   "metadata": {},
   "source": [
    "### 2a (1 point)\n",
    "For a patient contained in this dataset, what is the probability that they had a stroke (P(stroke))?\n",
    "\n",
    "Make sure to save your answer in the variable 'probability_stroke' and that it is a float value"
   ]
  },
  {
   "cell_type": "code",
   "execution_count": null,
   "id": "4e4e511e",
   "metadata": {
    "nbgrader": {
     "grade": false,
     "grade_id": "cell-d705987e21fb4422",
     "locked": false,
     "schema_version": 3,
     "solution": true,
     "task": false
    }
   },
   "outputs": [],
   "source": [
    "probability_stroke = ...\n",
    "print(probability_stroke)"
   ]
  },
  {
   "cell_type": "code",
   "execution_count": null,
   "id": "a10edf5a",
   "metadata": {
    "deletable": false,
    "editable": false
   },
   "outputs": [],
   "source": [
    "grader.check(\"Question 2a\")"
   ]
  },
  {
   "cell_type": "markdown",
   "id": "36d8198e",
   "metadata": {},
   "source": [
    "### 2b (1 point)\n",
    "For a patient contained in this dataset who had heart disease (heart_disease = 1), what is the probability that they had a stroke (P(stroke|heart_disease))?\n",
    "\n",
    "Make sure to save your answer in the variable 'probability_stroke_heart_disease' and that it is a float value."
   ]
  },
  {
   "cell_type": "code",
   "execution_count": null,
   "id": "45ce19b9",
   "metadata": {
    "nbgrader": {
     "grade": false,
     "grade_id": "cell-5ee38af4cad7f998",
     "locked": false,
     "schema_version": 3,
     "solution": true,
     "task": false
    }
   },
   "outputs": [],
   "source": [
    "...\n",
    "probability_stroke_heart_disease = ...\n",
    "print(probability_stroke_heart_disease)"
   ]
  },
  {
   "cell_type": "code",
   "execution_count": null,
   "id": "525096e3",
   "metadata": {
    "deletable": false,
    "editable": false
   },
   "outputs": [],
   "source": [
    "grader.check(\"Question 2b\")"
   ]
  },
  {
   "cell_type": "markdown",
   "id": "1ad6abbe",
   "metadata": {},
   "source": [
    "### 2c (3 points)\n",
    "What is the probability of P(stroke|hypertension)?\n",
    "Make sure to save your answer in the variable 'probability_stroke_hypertension' and that it is a float value.\n",
    "\n",
    "Hint: Check the slides for a very similar example about breast cancer"
   ]
  },
  {
   "cell_type": "code",
   "execution_count": null,
   "id": "1efc4ec6",
   "metadata": {
    "nbgrader": {
     "grade": false,
     "grade_id": "cell-2871bba4629240f8",
     "locked": false,
     "schema_version": 3,
     "solution": true,
     "task": false
    }
   },
   "outputs": [],
   "source": [
    "...\n",
    "probability_stroke_hypertension = ...\n",
    "print(probability_stroke_hypertension)"
   ]
  },
  {
   "cell_type": "code",
   "execution_count": null,
   "id": "262f159d",
   "metadata": {
    "deletable": false,
    "editable": false
   },
   "outputs": [],
   "source": [
    "grader.check(\"Question 2c\")"
   ]
  },
  {
   "cell_type": "markdown",
   "id": "76a91df9",
   "metadata": {},
   "source": [
    "### 2d (4 points)\n",
    "According to the [Mayo Clinic](https://www.mayoclinic.org/diseases-conditions/diabetes/diagnosis-treatment/drc-20371451), a \"blood sugar level less than 140 mg/dL (7.8 mmol/L) is normal\".\n",
    "\n",
    "* Make a new column called \"high_glucose\" in the dataframe 'stroke_df' that has a 1 if the avg_glucose_level measurement was equal to or higher than 140, and a 0 otherwise."
   ]
  },
  {
   "cell_type": "code",
   "execution_count": null,
   "id": "090bdf93",
   "metadata": {
    "nbgrader": {
     "grade": false,
     "grade_id": "cell-b62c57fe4875d77a",
     "locked": false,
     "schema_version": 3,
     "solution": true,
     "task": false
    }
   },
   "outputs": [],
   "source": [
    "..."
   ]
  },
  {
   "cell_type": "code",
   "execution_count": null,
   "id": "2a803397",
   "metadata": {
    "deletable": false,
    "editable": false
   },
   "outputs": [],
   "source": [
    "grader.check(\"Question 2d -1\")"
   ]
  },
  {
   "cell_type": "markdown",
   "id": "870bfd6b",
   "metadata": {},
   "source": [
    "* Use this new column to calculate P(stroke|high_glucose).\n",
    "Make sure to save your answer in the variable 'probability_stroke_high_glucose' and that it is a float value."
   ]
  },
  {
   "cell_type": "code",
   "execution_count": null,
   "id": "cb8d1ce7",
   "metadata": {
    "nbgrader": {
     "grade": false,
     "grade_id": "cell-96a4ca2cec45e2e3",
     "locked": false,
     "schema_version": 3,
     "solution": true,
     "task": false
    }
   },
   "outputs": [],
   "source": [
    "...\n",
    "probability_stroke_high_glucose = ...\n",
    "print(probability_stroke_high_glucose)"
   ]
  },
  {
   "cell_type": "code",
   "execution_count": null,
   "id": "0098cced",
   "metadata": {
    "deletable": false,
    "editable": false
   },
   "outputs": [],
   "source": [
    "grader.check(\"Question 2d - 2\")"
   ]
  },
  {
   "cell_type": "markdown",
   "id": "6c9d1ef3",
   "metadata": {},
   "source": [
    "* Calculate P(high_glucose|stroke)\n",
    "Make sure to save your answer in the variable 'probability_high_glucose_stroke' and that it is a float value."
   ]
  },
  {
   "cell_type": "code",
   "execution_count": null,
   "id": "b5f0ef86",
   "metadata": {
    "nbgrader": {
     "grade": false,
     "grade_id": "cell-cc7cf764ecaa7013",
     "locked": false,
     "schema_version": 3,
     "solution": true,
     "task": false
    }
   },
   "outputs": [],
   "source": [
    "...\n",
    "probability_high_glucose_stroke = ...\n",
    "print(probability_high_glucose_stroke)"
   ]
  },
  {
   "cell_type": "code",
   "execution_count": null,
   "id": "0f601868",
   "metadata": {
    "deletable": false,
    "editable": false
   },
   "outputs": [],
   "source": [
    "grader.check(\"Question 2d - 3\")"
   ]
  },
  {
   "cell_type": "markdown",
   "id": "d5daccf5",
   "metadata": {
    "deletable": false,
    "editable": false
   },
   "source": [
    "---\n",
    "\n",
    "To double-check your work, the cell below will rerun all of the autograder tests."
   ]
  },
  {
   "cell_type": "code",
   "execution_count": null,
   "id": "ddd3f09e",
   "metadata": {
    "deletable": false,
    "editable": false
   },
   "outputs": [],
   "source": [
    "grader.check_all()"
   ]
  }
 ],
 "metadata": {
  "celltoolbar": "Create Assignment",
  "kernelspec": {
   "display_name": "Python 3 (ipykernel)",
   "language": "python",
   "name": "python3"
  },
  "language_info": {
   "codemirror_mode": {
    "name": "ipython",
    "version": 3
   },
   "file_extension": ".py",
   "mimetype": "text/x-python",
   "name": "python",
   "nbconvert_exporter": "python",
   "pygments_lexer": "ipython3",
   "version": "3.11.2"
  }
 },
 "nbformat": 4,
 "nbformat_minor": 5
}
