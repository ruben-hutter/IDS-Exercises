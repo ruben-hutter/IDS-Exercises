{
 "cells": [
  {
   "cell_type": "code",
   "execution_count": 4,
   "id": "e3b7d95e",
   "metadata": {},
   "outputs": [
    {
     "name": "stdout",
     "output_type": "stream",
     "text": [
      "Requirement already satisfied: nose in c:\\users\\hutte\\appdata\\local\\packages\\pythonsoftwarefoundation.python.3.10_qbz5n2kfra8p0\\localcache\\local-packages\\python310\\site-packages (1.3.7)\n",
      "Requirement already satisfied: otter-grader in c:\\users\\hutte\\appdata\\local\\packages\\pythonsoftwarefoundation.python.3.10_qbz5n2kfra8p0\\localcache\\local-packages\\python310\\site-packages (4.3.1)\n",
      "Requirement already satisfied: python-on-whales in c:\\users\\hutte\\appdata\\local\\packages\\pythonsoftwarefoundation.python.3.10_qbz5n2kfra8p0\\localcache\\local-packages\\python310\\site-packages (from otter-grader) (0.60.0)\n",
      "Requirement already satisfied: jinja2 in c:\\users\\hutte\\appdata\\local\\packages\\pythonsoftwarefoundation.python.3.10_qbz5n2kfra8p0\\localcache\\local-packages\\python310\\site-packages (from otter-grader) (3.1.2)\n",
      "Requirement already satisfied: PyYAML in c:\\users\\hutte\\appdata\\local\\packages\\pythonsoftwarefoundation.python.3.10_qbz5n2kfra8p0\\localcache\\local-packages\\python310\\site-packages (from otter-grader) (6.0)\n",
      "Requirement already satisfied: jupytext in c:\\users\\hutte\\appdata\\local\\packages\\pythonsoftwarefoundation.python.3.10_qbz5n2kfra8p0\\localcache\\local-packages\\python310\\site-packages (from otter-grader) (1.14.5)\n",
      "Requirement already satisfied: pandas in c:\\users\\hutte\\appdata\\local\\packages\\pythonsoftwarefoundation.python.3.10_qbz5n2kfra8p0\\localcache\\local-packages\\python310\\site-packages (from otter-grader) (1.5.3)\n",
      "Requirement already satisfied: requests in c:\\users\\hutte\\appdata\\local\\packages\\pythonsoftwarefoundation.python.3.10_qbz5n2kfra8p0\\localcache\\local-packages\\python310\\site-packages (from otter-grader) (2.28.2)\n",
      "Requirement already satisfied: fica>=0.2.0 in c:\\users\\hutte\\appdata\\local\\packages\\pythonsoftwarefoundation.python.3.10_qbz5n2kfra8p0\\localcache\\local-packages\\python310\\site-packages (from otter-grader) (0.2.2)\n",
      "Requirement already satisfied: google-api-python-client in c:\\users\\hutte\\appdata\\local\\packages\\pythonsoftwarefoundation.python.3.10_qbz5n2kfra8p0\\localcache\\local-packages\\python310\\site-packages (from otter-grader) (2.83.0)\n",
      "Requirement already satisfied: ipython in c:\\users\\hutte\\appdata\\local\\packages\\pythonsoftwarefoundation.python.3.10_qbz5n2kfra8p0\\localcache\\local-packages\\python310\\site-packages (from otter-grader) (8.12.0)\n",
      "Requirement already satisfied: six in c:\\users\\hutte\\appdata\\local\\packages\\pythonsoftwarefoundation.python.3.10_qbz5n2kfra8p0\\localcache\\local-packages\\python310\\site-packages (from otter-grader) (1.16.0)\n",
      "Requirement already satisfied: dill in c:\\users\\hutte\\appdata\\local\\packages\\pythonsoftwarefoundation.python.3.10_qbz5n2kfra8p0\\localcache\\local-packages\\python310\\site-packages (from otter-grader) (0.3.6)\n",
      "Requirement already satisfied: google-auth-oauthlib in c:\\users\\hutte\\appdata\\local\\packages\\pythonsoftwarefoundation.python.3.10_qbz5n2kfra8p0\\localcache\\local-packages\\python310\\site-packages (from otter-grader) (1.0.0)\n",
      "Requirement already satisfied: wrapt in c:\\users\\hutte\\appdata\\local\\packages\\pythonsoftwarefoundation.python.3.10_qbz5n2kfra8p0\\localcache\\local-packages\\python310\\site-packages (from otter-grader) (1.15.0)\n",
      "Requirement already satisfied: nbformat in c:\\users\\hutte\\appdata\\local\\packages\\pythonsoftwarefoundation.python.3.10_qbz5n2kfra8p0\\localcache\\local-packages\\python310\\site-packages (from otter-grader) (5.8.0)\n",
      "Requirement already satisfied: click in c:\\users\\hutte\\appdata\\local\\packages\\pythonsoftwarefoundation.python.3.10_qbz5n2kfra8p0\\localcache\\local-packages\\python310\\site-packages (from otter-grader) (8.1.3)\n",
      "Requirement already satisfied: docutils in c:\\users\\hutte\\appdata\\local\\packages\\pythonsoftwarefoundation.python.3.10_qbz5n2kfra8p0\\localcache\\local-packages\\python310\\site-packages (from fica>=0.2.0->otter-grader) (0.19)\n",
      "Requirement already satisfied: sphinx in c:\\users\\hutte\\appdata\\local\\packages\\pythonsoftwarefoundation.python.3.10_qbz5n2kfra8p0\\localcache\\local-packages\\python310\\site-packages (from fica>=0.2.0->otter-grader) (6.1.3)\n",
      "Requirement already satisfied: colorama in c:\\users\\hutte\\appdata\\local\\packages\\pythonsoftwarefoundation.python.3.10_qbz5n2kfra8p0\\localcache\\local-packages\\python310\\site-packages (from click->otter-grader) (0.4.6)\n",
      "Requirement already satisfied: google-auth<3.0.0dev,>=1.19.0 in c:\\users\\hutte\\appdata\\local\\packages\\pythonsoftwarefoundation.python.3.10_qbz5n2kfra8p0\\localcache\\local-packages\\python310\\site-packages (from google-api-python-client->otter-grader) (2.17.1)\n",
      "Requirement already satisfied: google-api-core!=2.0.*,!=2.1.*,!=2.2.*,!=2.3.0,<3.0.0dev,>=1.31.5 in c:\\users\\hutte\\appdata\\local\\packages\\pythonsoftwarefoundation.python.3.10_qbz5n2kfra8p0\\localcache\\local-packages\\python310\\site-packages (from google-api-python-client->otter-grader) (2.11.0)\n",
      "Requirement already satisfied: uritemplate<5,>=3.0.1 in c:\\users\\hutte\\appdata\\local\\packages\\pythonsoftwarefoundation.python.3.10_qbz5n2kfra8p0\\localcache\\local-packages\\python310\\site-packages (from google-api-python-client->otter-grader) (4.1.1)\n",
      "Requirement already satisfied: httplib2<1dev,>=0.15.0 in c:\\users\\hutte\\appdata\\local\\packages\\pythonsoftwarefoundation.python.3.10_qbz5n2kfra8p0\\localcache\\local-packages\\python310\\site-packages (from google-api-python-client->otter-grader) (0.22.0)\n",
      "Requirement already satisfied: google-auth-httplib2>=0.1.0 in c:\\users\\hutte\\appdata\\local\\packages\\pythonsoftwarefoundation.python.3.10_qbz5n2kfra8p0\\localcache\\local-packages\\python310\\site-packages (from google-api-python-client->otter-grader) (0.1.0)\n",
      "Requirement already satisfied: requests-oauthlib>=0.7.0 in c:\\users\\hutte\\appdata\\local\\packages\\pythonsoftwarefoundation.python.3.10_qbz5n2kfra8p0\\localcache\\local-packages\\python310\\site-packages (from google-auth-oauthlib->otter-grader) (1.3.1)\n",
      "Requirement already satisfied: jedi>=0.16 in c:\\users\\hutte\\appdata\\local\\packages\\pythonsoftwarefoundation.python.3.10_qbz5n2kfra8p0\\localcache\\local-packages\\python310\\site-packages (from ipython->otter-grader) (0.18.2)\n",
      "Requirement already satisfied: decorator in c:\\users\\hutte\\appdata\\local\\packages\\pythonsoftwarefoundation.python.3.10_qbz5n2kfra8p0\\localcache\\local-packages\\python310\\site-packages (from ipython->otter-grader) (5.1.1)\n",
      "Requirement already satisfied: pickleshare in c:\\users\\hutte\\appdata\\local\\packages\\pythonsoftwarefoundation.python.3.10_qbz5n2kfra8p0\\localcache\\local-packages\\python310\\site-packages (from ipython->otter-grader) (0.7.5)\n",
      "Requirement already satisfied: prompt-toolkit!=3.0.37,<3.1.0,>=3.0.30 in c:\\users\\hutte\\appdata\\local\\packages\\pythonsoftwarefoundation.python.3.10_qbz5n2kfra8p0\\localcache\\local-packages\\python310\\site-packages (from ipython->otter-grader) (3.0.38)\n",
      "Requirement already satisfied: pygments>=2.4.0 in c:\\users\\hutte\\appdata\\local\\packages\\pythonsoftwarefoundation.python.3.10_qbz5n2kfra8p0\\localcache\\local-packages\\python310\\site-packages (from ipython->otter-grader) (2.14.0)\n",
      "Requirement already satisfied: backcall in c:\\users\\hutte\\appdata\\local\\packages\\pythonsoftwarefoundation.python.3.10_qbz5n2kfra8p0\\localcache\\local-packages\\python310\\site-packages (from ipython->otter-grader) (0.2.0)\n",
      "Requirement already satisfied: traitlets>=5 in c:\\users\\hutte\\appdata\\local\\packages\\pythonsoftwarefoundation.python.3.10_qbz5n2kfra8p0\\localcache\\local-packages\\python310\\site-packages (from ipython->otter-grader) (5.9.0)\n",
      "Requirement already satisfied: stack-data in c:\\users\\hutte\\appdata\\local\\packages\\pythonsoftwarefoundation.python.3.10_qbz5n2kfra8p0\\localcache\\local-packages\\python310\\site-packages (from ipython->otter-grader) (0.6.2)\n",
      "Requirement already satisfied: matplotlib-inline in c:\\users\\hutte\\appdata\\local\\packages\\pythonsoftwarefoundation.python.3.10_qbz5n2kfra8p0\\localcache\\local-packages\\python310\\site-packages (from ipython->otter-grader) (0.1.6)\n",
      "Requirement already satisfied: MarkupSafe>=2.0 in c:\\users\\hutte\\appdata\\local\\packages\\pythonsoftwarefoundation.python.3.10_qbz5n2kfra8p0\\localcache\\local-packages\\python310\\site-packages (from jinja2->otter-grader) (2.1.2)\n",
      "Requirement already satisfied: mdit-py-plugins in c:\\users\\hutte\\appdata\\local\\packages\\pythonsoftwarefoundation.python.3.10_qbz5n2kfra8p0\\localcache\\local-packages\\python310\\site-packages (from jupytext->otter-grader) (0.3.5)\n",
      "Requirement already satisfied: markdown-it-py<3.0.0,>=1.0.0 in c:\\users\\hutte\\appdata\\local\\packages\\pythonsoftwarefoundation.python.3.10_qbz5n2kfra8p0\\localcache\\local-packages\\python310\\site-packages (from jupytext->otter-grader) (2.2.0)\n",
      "Requirement already satisfied: toml in c:\\users\\hutte\\appdata\\local\\packages\\pythonsoftwarefoundation.python.3.10_qbz5n2kfra8p0\\localcache\\local-packages\\python310\\site-packages (from jupytext->otter-grader) (0.10.2)\n",
      "Requirement already satisfied: jsonschema>=2.6 in c:\\users\\hutte\\appdata\\local\\packages\\pythonsoftwarefoundation.python.3.10_qbz5n2kfra8p0\\localcache\\local-packages\\python310\\site-packages (from nbformat->otter-grader) (4.17.3)\n",
      "Requirement already satisfied: jupyter-core in c:\\users\\hutte\\appdata\\local\\packages\\pythonsoftwarefoundation.python.3.10_qbz5n2kfra8p0\\localcache\\local-packages\\python310\\site-packages (from nbformat->otter-grader) (5.3.0)\n",
      "Requirement already satisfied: fastjsonschema in c:\\users\\hutte\\appdata\\local\\packages\\pythonsoftwarefoundation.python.3.10_qbz5n2kfra8p0\\localcache\\local-packages\\python310\\site-packages (from nbformat->otter-grader) (2.16.3)\n",
      "Requirement already satisfied: pytz>=2020.1 in c:\\users\\hutte\\appdata\\local\\packages\\pythonsoftwarefoundation.python.3.10_qbz5n2kfra8p0\\localcache\\local-packages\\python310\\site-packages (from pandas->otter-grader) (2023.3)\n",
      "Requirement already satisfied: python-dateutil>=2.8.1 in c:\\users\\hutte\\appdata\\local\\packages\\pythonsoftwarefoundation.python.3.10_qbz5n2kfra8p0\\localcache\\local-packages\\python310\\site-packages (from pandas->otter-grader) (2.8.2)\n",
      "Requirement already satisfied: numpy>=1.21.0 in c:\\users\\hutte\\appdata\\local\\packages\\pythonsoftwarefoundation.python.3.10_qbz5n2kfra8p0\\localcache\\local-packages\\python310\\site-packages (from pandas->otter-grader) (1.24.2)\n",
      "Requirement already satisfied: typer>=0.4.1 in c:\\users\\hutte\\appdata\\local\\packages\\pythonsoftwarefoundation.python.3.10_qbz5n2kfra8p0\\localcache\\local-packages\\python310\\site-packages (from python-on-whales->otter-grader) (0.7.0)\n",
      "Requirement already satisfied: typing-extensions in c:\\users\\hutte\\appdata\\local\\packages\\pythonsoftwarefoundation.python.3.10_qbz5n2kfra8p0\\localcache\\local-packages\\python310\\site-packages (from python-on-whales->otter-grader) (4.5.0)\n",
      "Requirement already satisfied: tqdm in c:\\users\\hutte\\appdata\\local\\packages\\pythonsoftwarefoundation.python.3.10_qbz5n2kfra8p0\\localcache\\local-packages\\python310\\site-packages (from python-on-whales->otter-grader) (4.65.0)\n",
      "Requirement already satisfied: pydantic>=1.5 in c:\\users\\hutte\\appdata\\local\\packages\\pythonsoftwarefoundation.python.3.10_qbz5n2kfra8p0\\localcache\\local-packages\\python310\\site-packages (from python-on-whales->otter-grader) (1.10.7)\n",
      "Requirement already satisfied: charset-normalizer<4,>=2 in c:\\users\\hutte\\appdata\\local\\packages\\pythonsoftwarefoundation.python.3.10_qbz5n2kfra8p0\\localcache\\local-packages\\python310\\site-packages (from requests->otter-grader) (3.1.0)\n",
      "Requirement already satisfied: idna<4,>=2.5 in c:\\users\\hutte\\appdata\\local\\packages\\pythonsoftwarefoundation.python.3.10_qbz5n2kfra8p0\\localcache\\local-packages\\python310\\site-packages (from requests->otter-grader) (3.4)\n",
      "Requirement already satisfied: certifi>=2017.4.17 in c:\\users\\hutte\\appdata\\local\\packages\\pythonsoftwarefoundation.python.3.10_qbz5n2kfra8p0\\localcache\\local-packages\\python310\\site-packages (from requests->otter-grader) (2022.12.7)\n",
      "Requirement already satisfied: urllib3<1.27,>=1.21.1 in c:\\users\\hutte\\appdata\\local\\packages\\pythonsoftwarefoundation.python.3.10_qbz5n2kfra8p0\\localcache\\local-packages\\python310\\site-packages (from requests->otter-grader) (1.26.15)\n",
      "Requirement already satisfied: googleapis-common-protos<2.0dev,>=1.56.2 in c:\\users\\hutte\\appdata\\local\\packages\\pythonsoftwarefoundation.python.3.10_qbz5n2kfra8p0\\localcache\\local-packages\\python310\\site-packages (from google-api-core!=2.0.*,!=2.1.*,!=2.2.*,!=2.3.0,<3.0.0dev,>=1.31.5->google-api-python-client->otter-grader) (1.59.0)\n",
      "Requirement already satisfied: protobuf!=3.20.0,!=3.20.1,!=4.21.0,!=4.21.1,!=4.21.2,!=4.21.3,!=4.21.4,!=4.21.5,<5.0.0dev,>=3.19.5 in c:\\users\\hutte\\appdata\\local\\packages\\pythonsoftwarefoundation.python.3.10_qbz5n2kfra8p0\\localcache\\local-packages\\python310\\site-packages (from google-api-core!=2.0.*,!=2.1.*,!=2.2.*,!=2.3.0,<3.0.0dev,>=1.31.5->google-api-python-client->otter-grader) (4.22.1)\n",
      "Requirement already satisfied: rsa<5,>=3.1.4 in c:\\users\\hutte\\appdata\\local\\packages\\pythonsoftwarefoundation.python.3.10_qbz5n2kfra8p0\\localcache\\local-packages\\python310\\site-packages (from google-auth<3.0.0dev,>=1.19.0->google-api-python-client->otter-grader) (4.9)\n",
      "Requirement already satisfied: cachetools<6.0,>=2.0.0 in c:\\users\\hutte\\appdata\\local\\packages\\pythonsoftwarefoundation.python.3.10_qbz5n2kfra8p0\\localcache\\local-packages\\python310\\site-packages (from google-auth<3.0.0dev,>=1.19.0->google-api-python-client->otter-grader) (5.3.0)\n",
      "Requirement already satisfied: pyasn1-modules>=0.2.1 in c:\\users\\hutte\\appdata\\local\\packages\\pythonsoftwarefoundation.python.3.10_qbz5n2kfra8p0\\localcache\\local-packages\\python310\\site-packages (from google-auth<3.0.0dev,>=1.19.0->google-api-python-client->otter-grader) (0.2.8)\n",
      "Requirement already satisfied: pyparsing!=3.0.0,!=3.0.1,!=3.0.2,!=3.0.3,<4,>=2.4.2 in c:\\users\\hutte\\appdata\\local\\packages\\pythonsoftwarefoundation.python.3.10_qbz5n2kfra8p0\\localcache\\local-packages\\python310\\site-packages (from httplib2<1dev,>=0.15.0->google-api-python-client->otter-grader) (3.0.9)\n",
      "Requirement already satisfied: parso<0.9.0,>=0.8.0 in c:\\users\\hutte\\appdata\\local\\packages\\pythonsoftwarefoundation.python.3.10_qbz5n2kfra8p0\\localcache\\local-packages\\python310\\site-packages (from jedi>=0.16->ipython->otter-grader) (0.8.3)\n",
      "Requirement already satisfied: attrs>=17.4.0 in c:\\users\\hutte\\appdata\\local\\packages\\pythonsoftwarefoundation.python.3.10_qbz5n2kfra8p0\\localcache\\local-packages\\python310\\site-packages (from jsonschema>=2.6->nbformat->otter-grader) (22.2.0)\n",
      "Requirement already satisfied: pyrsistent!=0.17.0,!=0.17.1,!=0.17.2,>=0.14.0 in c:\\users\\hutte\\appdata\\local\\packages\\pythonsoftwarefoundation.python.3.10_qbz5n2kfra8p0\\localcache\\local-packages\\python310\\site-packages (from jsonschema>=2.6->nbformat->otter-grader) (0.19.3)\n",
      "Requirement already satisfied: mdurl~=0.1 in c:\\users\\hutte\\appdata\\local\\packages\\pythonsoftwarefoundation.python.3.10_qbz5n2kfra8p0\\localcache\\local-packages\\python310\\site-packages (from markdown-it-py<3.0.0,>=1.0.0->jupytext->otter-grader) (0.1.2)\n",
      "Requirement already satisfied: wcwidth in c:\\users\\hutte\\appdata\\local\\packages\\pythonsoftwarefoundation.python.3.10_qbz5n2kfra8p0\\localcache\\local-packages\\python310\\site-packages (from prompt-toolkit!=3.0.37,<3.1.0,>=3.0.30->ipython->otter-grader) (0.2.6)\n",
      "Requirement already satisfied: oauthlib>=3.0.0 in c:\\users\\hutte\\appdata\\local\\packages\\pythonsoftwarefoundation.python.3.10_qbz5n2kfra8p0\\localcache\\local-packages\\python310\\site-packages (from requests-oauthlib>=0.7.0->google-auth-oauthlib->otter-grader) (3.2.2)\n",
      "Requirement already satisfied: platformdirs>=2.5 in c:\\users\\hutte\\appdata\\local\\packages\\pythonsoftwarefoundation.python.3.10_qbz5n2kfra8p0\\localcache\\local-packages\\python310\\site-packages (from jupyter-core->nbformat->otter-grader) (3.2.0)\n",
      "Requirement already satisfied: pywin32>=300 in c:\\users\\hutte\\appdata\\local\\packages\\pythonsoftwarefoundation.python.3.10_qbz5n2kfra8p0\\localcache\\local-packages\\python310\\site-packages (from jupyter-core->nbformat->otter-grader) (306)\n",
      "Requirement already satisfied: sphinxcontrib-qthelp in c:\\users\\hutte\\appdata\\local\\packages\\pythonsoftwarefoundation.python.3.10_qbz5n2kfra8p0\\localcache\\local-packages\\python310\\site-packages (from sphinx->fica>=0.2.0->otter-grader) (1.0.3)\n",
      "Requirement already satisfied: snowballstemmer>=2.0 in c:\\users\\hutte\\appdata\\local\\packages\\pythonsoftwarefoundation.python.3.10_qbz5n2kfra8p0\\localcache\\local-packages\\python310\\site-packages (from sphinx->fica>=0.2.0->otter-grader) (2.2.0)\n",
      "Requirement already satisfied: babel>=2.9 in c:\\users\\hutte\\appdata\\local\\packages\\pythonsoftwarefoundation.python.3.10_qbz5n2kfra8p0\\localcache\\local-packages\\python310\\site-packages (from sphinx->fica>=0.2.0->otter-grader) (2.12.1)\n",
      "Requirement already satisfied: sphinxcontrib-htmlhelp>=2.0.0 in c:\\users\\hutte\\appdata\\local\\packages\\pythonsoftwarefoundation.python.3.10_qbz5n2kfra8p0\\localcache\\local-packages\\python310\\site-packages (from sphinx->fica>=0.2.0->otter-grader) (2.0.1)\n",
      "Requirement already satisfied: imagesize>=1.3 in c:\\users\\hutte\\appdata\\local\\packages\\pythonsoftwarefoundation.python.3.10_qbz5n2kfra8p0\\localcache\\local-packages\\python310\\site-packages (from sphinx->fica>=0.2.0->otter-grader) (1.4.1)\n",
      "Requirement already satisfied: sphinxcontrib-devhelp in c:\\users\\hutte\\appdata\\local\\packages\\pythonsoftwarefoundation.python.3.10_qbz5n2kfra8p0\\localcache\\local-packages\\python310\\site-packages (from sphinx->fica>=0.2.0->otter-grader) (1.0.2)\n",
      "Requirement already satisfied: sphinxcontrib-serializinghtml>=1.1.5 in c:\\users\\hutte\\appdata\\local\\packages\\pythonsoftwarefoundation.python.3.10_qbz5n2kfra8p0\\localcache\\local-packages\\python310\\site-packages (from sphinx->fica>=0.2.0->otter-grader) (1.1.5)\n",
      "Requirement already satisfied: packaging>=21.0 in c:\\users\\hutte\\appdata\\local\\packages\\pythonsoftwarefoundation.python.3.10_qbz5n2kfra8p0\\localcache\\local-packages\\python310\\site-packages (from sphinx->fica>=0.2.0->otter-grader) (22.0)\n",
      "Requirement already satisfied: sphinxcontrib-applehelp in c:\\users\\hutte\\appdata\\local\\packages\\pythonsoftwarefoundation.python.3.10_qbz5n2kfra8p0\\localcache\\local-packages\\python310\\site-packages (from sphinx->fica>=0.2.0->otter-grader) (1.0.4)\n",
      "Requirement already satisfied: alabaster<0.8,>=0.7 in c:\\users\\hutte\\appdata\\local\\packages\\pythonsoftwarefoundation.python.3.10_qbz5n2kfra8p0\\localcache\\local-packages\\python310\\site-packages (from sphinx->fica>=0.2.0->otter-grader) (0.7.13)\n",
      "Requirement already satisfied: sphinxcontrib-jsmath in c:\\users\\hutte\\appdata\\local\\packages\\pythonsoftwarefoundation.python.3.10_qbz5n2kfra8p0\\localcache\\local-packages\\python310\\site-packages (from sphinx->fica>=0.2.0->otter-grader) (1.0.1)\n",
      "Requirement already satisfied: executing>=1.2.0 in c:\\users\\hutte\\appdata\\local\\packages\\pythonsoftwarefoundation.python.3.10_qbz5n2kfra8p0\\localcache\\local-packages\\python310\\site-packages (from stack-data->ipython->otter-grader) (1.2.0)\n",
      "Requirement already satisfied: asttokens>=2.1.0 in c:\\users\\hutte\\appdata\\local\\packages\\pythonsoftwarefoundation.python.3.10_qbz5n2kfra8p0\\localcache\\local-packages\\python310\\site-packages (from stack-data->ipython->otter-grader) (2.2.1)\n",
      "Requirement already satisfied: pure-eval in c:\\users\\hutte\\appdata\\local\\packages\\pythonsoftwarefoundation.python.3.10_qbz5n2kfra8p0\\localcache\\local-packages\\python310\\site-packages (from stack-data->ipython->otter-grader) (0.2.2)\n",
      "Requirement already satisfied: pyasn1<0.5.0,>=0.4.6 in c:\\users\\hutte\\appdata\\local\\packages\\pythonsoftwarefoundation.python.3.10_qbz5n2kfra8p0\\localcache\\local-packages\\python310\\site-packages (from pyasn1-modules>=0.2.1->google-auth<3.0.0dev,>=1.19.0->google-api-python-client->otter-grader) (0.4.8)\n",
      "Requirement already satisfied: seaborn in c:\\users\\hutte\\appdata\\local\\packages\\pythonsoftwarefoundation.python.3.10_qbz5n2kfra8p0\\localcache\\local-packages\\python310\\site-packages (0.12.2)\n",
      "Requirement already satisfied: pandas>=0.25 in c:\\users\\hutte\\appdata\\local\\packages\\pythonsoftwarefoundation.python.3.10_qbz5n2kfra8p0\\localcache\\local-packages\\python310\\site-packages (from seaborn) (1.5.3)\n",
      "Requirement already satisfied: matplotlib!=3.6.1,>=3.1 in c:\\users\\hutte\\appdata\\local\\packages\\pythonsoftwarefoundation.python.3.10_qbz5n2kfra8p0\\localcache\\local-packages\\python310\\site-packages (from seaborn) (3.6.2)\n",
      "Requirement already satisfied: numpy!=1.24.0,>=1.17 in c:\\users\\hutte\\appdata\\local\\packages\\pythonsoftwarefoundation.python.3.10_qbz5n2kfra8p0\\localcache\\local-packages\\python310\\site-packages (from seaborn) (1.24.2)\n",
      "Requirement already satisfied: kiwisolver>=1.0.1 in c:\\users\\hutte\\appdata\\local\\packages\\pythonsoftwarefoundation.python.3.10_qbz5n2kfra8p0\\localcache\\local-packages\\python310\\site-packages (from matplotlib!=3.6.1,>=3.1->seaborn) (1.4.4)\n",
      "Requirement already satisfied: pillow>=6.2.0 in c:\\users\\hutte\\appdata\\local\\packages\\pythonsoftwarefoundation.python.3.10_qbz5n2kfra8p0\\localcache\\local-packages\\python310\\site-packages (from matplotlib!=3.6.1,>=3.1->seaborn) (9.3.0)\n",
      "Requirement already satisfied: cycler>=0.10 in c:\\users\\hutte\\appdata\\local\\packages\\pythonsoftwarefoundation.python.3.10_qbz5n2kfra8p0\\localcache\\local-packages\\python310\\site-packages (from matplotlib!=3.6.1,>=3.1->seaborn) (0.11.0)\n",
      "Requirement already satisfied: python-dateutil>=2.7 in c:\\users\\hutte\\appdata\\local\\packages\\pythonsoftwarefoundation.python.3.10_qbz5n2kfra8p0\\localcache\\local-packages\\python310\\site-packages (from matplotlib!=3.6.1,>=3.1->seaborn) (2.8.2)\n",
      "Requirement already satisfied: pyparsing>=2.2.1 in c:\\users\\hutte\\appdata\\local\\packages\\pythonsoftwarefoundation.python.3.10_qbz5n2kfra8p0\\localcache\\local-packages\\python310\\site-packages (from matplotlib!=3.6.1,>=3.1->seaborn) (3.0.9)\n",
      "Requirement already satisfied: contourpy>=1.0.1 in c:\\users\\hutte\\appdata\\local\\packages\\pythonsoftwarefoundation.python.3.10_qbz5n2kfra8p0\\localcache\\local-packages\\python310\\site-packages (from matplotlib!=3.6.1,>=3.1->seaborn) (1.0.6)\n",
      "Requirement already satisfied: packaging>=20.0 in c:\\users\\hutte\\appdata\\local\\packages\\pythonsoftwarefoundation.python.3.10_qbz5n2kfra8p0\\localcache\\local-packages\\python310\\site-packages (from matplotlib!=3.6.1,>=3.1->seaborn) (22.0)\n",
      "Requirement already satisfied: fonttools>=4.22.0 in c:\\users\\hutte\\appdata\\local\\packages\\pythonsoftwarefoundation.python.3.10_qbz5n2kfra8p0\\localcache\\local-packages\\python310\\site-packages (from matplotlib!=3.6.1,>=3.1->seaborn) (4.38.0)\n",
      "Requirement already satisfied: pytz>=2020.1 in c:\\users\\hutte\\appdata\\local\\packages\\pythonsoftwarefoundation.python.3.10_qbz5n2kfra8p0\\localcache\\local-packages\\python310\\site-packages (from pandas>=0.25->seaborn) (2023.3)\n",
      "Requirement already satisfied: six>=1.5 in c:\\users\\hutte\\appdata\\local\\packages\\pythonsoftwarefoundation.python.3.10_qbz5n2kfra8p0\\localcache\\local-packages\\python310\\site-packages (from python-dateutil>=2.7->matplotlib!=3.6.1,>=3.1->seaborn) (1.16.0)\n"
     ]
    }
   ],
   "source": [
    "import sys\n",
    "!{sys.executable} -m pip install nose\n",
    "!{sys.executable} -m pip install otter-grader\n",
    "!{sys.executable} -m pip install seaborn"
   ]
  },
  {
   "cell_type": "code",
   "execution_count": 5,
   "id": "05bb5d66",
   "metadata": {},
   "outputs": [],
   "source": [
    "# Initialize Otter\n",
    "import otter\n",
    "grader = otter.Notebook(\"05-exercise-pids2023.ipynb\")"
   ]
  },
  {
   "cell_type": "markdown",
   "id": "79cd794f",
   "metadata": {
    "nbgrader": {
     "grade": false,
     "grade_id": "cell-1229f81499f5ebea",
     "locked": true,
     "schema_version": 3,
     "solution": false,
     "task": false
    }
   },
   "source": [
    "# Exercise sheet 5\n",
    "**Hello everyone!**\n",
    "\n",
    "# Points: 15 (+2 bonus)\n",
    "\n",
    "Topics of this exercise sheet are:\n",
    "* Working with probability distributions\n",
    "\n",
    "Please let us know if you have questions or problems! <br>\n",
    "Contact us during the exercise session, on [Piazza](https://piazza.com/class/leibdr4lk8n3w4), or [via email](https://sada.dmi.unibas.ch/en/teaching/pids23).\n",
    "\n",
    "Please submit this exercise sheet on **GRADESCOPE**.\n",
    "Naming conventions:\n",
    "* Name of notebook: \"05-exercise-pids2023.ipynb\"\n",
    "\n",
    "Your notebook will be automatically graded using gradescope. To get graded, you need to upload the file *05-exercise-pids2023.ipynb* to gradescope. If you are using JupyterHub, make sure you have saved the current notebook, then you can download this file by following: *File*->*Download* and save the file on you computer.\n",
    "\n",
    "The sheet is released before the exercise session on Tuesday. You have until the next exercise session on Tuesday to submit this sheet. Most of the questions of the exercise sheet can be handle during the session.\n",
    "\n",
    "**Handout date**: 28.03.2023 <br>\n",
    "**Submission date**: 04.04.2023 before 16:00 <br>\n",
    "\n",
    "\n",
    "### Please name the variables as suggested! Be careful with the type! Otherwise the grading system will fail you!"
   ]
  },
  {
   "cell_type": "markdown",
   "id": "0b167c89",
   "metadata": {},
   "source": [
    "## Introduction:\n",
    "This exercise is designed to help you become familiar with the fundamental concepts of probability and statistics. To ensure that you have a strong grasp of these concepts, we recommend reading this article:\n",
    "https://towardsdatascience.com/an-in-depth-crash-course-on-random-variables-a3905d03e322"
   ]
  },
  {
   "cell_type": "code",
   "execution_count": 6,
   "id": "15f3c6d2",
   "metadata": {
    "nbgrader": {
     "grade": false,
     "grade_id": "cell-87e8c3397dfc076e",
     "locked": true,
     "schema_version": 3,
     "solution": false,
     "task": false
    }
   },
   "outputs": [],
   "source": [
    "import pandas as pd\n",
    "import seaborn as sns\n",
    "import matplotlib.pyplot as plt\n",
    "import numpy as np\n",
    "from scipy import stats\n",
    "from nose.tools import assert_is_instance, assert_equal, assert_almost_equal, assert_true"
   ]
  },
  {
   "cell_type": "markdown",
   "id": "89822cb1",
   "metadata": {
    "nbgrader": {
     "grade": false,
     "grade_id": "cell-7ee686f735cd4d6c",
     "locked": true,
     "schema_version": 3,
     "solution": false,
     "task": false
    }
   },
   "source": [
    "## Question 1 (6 points + 1 bonus)\n",
    "\n",
    "### Binomial distribution:\n",
    "The binomial distribution with parameters $n$ and $p$ is a class of the discrete probability distributions of <b> the number of successes in a sequence of $n$ independent experiments, </b> each asking a yes–no question, and each with its own Boolean-valued outcome: success (with probability $p$) or failure (with probability $1 − p$). Let $X$ denote a random variable with binomial distribution. The probability of having $x$ times a success in $n$ trials, is:\n",
    "$$\n",
    "    p(x) = \\binom{n}{x}p^x (1-p)^{n-x} \n",
    "$$"
   ]
  },
  {
   "cell_type": "code",
   "execution_count": 7,
   "id": "efbae2ad",
   "metadata": {
    "nbgrader": {
     "grade": false,
     "grade_id": "cell-cae8e70374ab5e6d",
     "locked": true,
     "schema_version": 3,
     "solution": false,
     "task": false
    }
   },
   "outputs": [],
   "source": [
    "n = 20 # The total number of trials\n",
    "p = 0.5 # The probability of success in each trial\n",
    "X = stats.binom(n, p)\n",
    "# Please check this page for more information: \n",
    "# https://docs.scipy.org/doc/scipy-0.13.0/reference/generated/scipy.stats.binom.html#scipy.stats.binom"
   ]
  },
  {
   "cell_type": "markdown",
   "id": "97eca12a",
   "metadata": {
    "nbgrader": {
     "grade": false,
     "grade_id": "cell-f30ccb790dff9fe2",
     "locked": true,
     "schema_version": 3,
     "solution": false,
     "task": false
    }
   },
   "source": [
    "### 1a) (2 points)\n",
    "Make a visual representation of the binomial distribution.\n",
    "To do that, generate 10,000 independent realizations of the random variable $X$. These 10,000 samples will be distributed as a binomial distribution with parameters $p=0.5$ and $n=20$. \n",
    "**Save the samples in a variable named 'x'**.\n",
    "\n",
    "In other words, this is equivalent to reproduce 10,000 independent experiments, where each experiment consists of flipping 20 coins and counting the number of times it hit 'tails' or 'heads'.\n",
    "\n",
    "Plot a histogram of the generated samples.\n",
    "\n",
    "Hint: You can use \"X.rvs(...)\" to generate independent samples from the random variable $X$."
   ]
  },
  {
   "cell_type": "code",
   "execution_count": 8,
   "id": "31b89226",
   "metadata": {
    "nbgrader": {
     "grade": false,
     "grade_id": "cell-67e48526cb3d882c",
     "locked": false,
     "schema_version": 3,
     "solution": true,
     "task": false
    }
   },
   "outputs": [
    {
     "data": {
      "text/plain": [
       "array([10, 11, 11, ..., 12,  6, 12], dtype=int64)"
      ]
     },
     "execution_count": 8,
     "metadata": {},
     "output_type": "execute_result"
    }
   ],
   "source": [
    "n_samples = 10_000\n",
    "np.random.seed(0)\n",
    "\n",
    "x = X.rvs(n_samples)\n",
    "x"
   ]
  },
  {
   "cell_type": "code",
   "execution_count": 9,
   "id": "7616f959",
   "metadata": {
    "deletable": false,
    "editable": false
   },
   "outputs": [
    {
     "data": {
      "text/html": [
       "<p><strong><pre style='display: inline;'>Question 1a</pre></strong> passed! 🌟</p>"
      ],
      "text/plain": [
       "Question 1a results: All test cases passed!"
      ]
     },
     "execution_count": 9,
     "metadata": {},
     "output_type": "execute_result"
    }
   ],
   "source": [
    "grader.check(\"Question 1a\")"
   ]
  },
  {
   "cell_type": "markdown",
   "id": "5c3b3f61",
   "metadata": {
    "nbgrader": {
     "grade": false,
     "grade_id": "cell-3d9402382f967adc",
     "locked": true,
     "schema_version": 3,
     "solution": false,
     "task": false
    }
   },
   "source": [
    "### 1b (1 point)\n",
    "Calculate the probabilities $\\text{P}(X = 8)$, $\\text{P}(X = 10)$ and $\\text{P}(X = 12)$ and store them in the variables 'p8', 'p10', and 'p12', respectively.\n",
    "\n",
    "Hint: Use X.pmf()"
   ]
  },
  {
   "cell_type": "code",
   "execution_count": 10,
   "id": "06526955",
   "metadata": {
    "nbgrader": {
     "grade": false,
     "grade_id": "cell-8c8767ce075ccffb",
     "locked": false,
     "schema_version": 3,
     "solution": true,
     "task": false
    }
   },
   "outputs": [
    {
     "name": "stdout",
     "output_type": "stream",
     "text": [
      "P(X=8)=0.1201 \n",
      "P(X=10)=0.1762 \n",
      "P(X=12)=0.1201\n"
     ]
    }
   ],
   "source": [
    "p8 = X.pmf(8)\n",
    "p10 = X.pmf(10)\n",
    "p12 = X.pmf(12)\n",
    "print('P(X=8)={:.4f} \\nP(X=10)={:.4f} \\nP(X=12)={:.4f}'.format(p8, p10, p12))"
   ]
  },
  {
   "cell_type": "code",
   "execution_count": 11,
   "id": "04351b5b",
   "metadata": {
    "deletable": false,
    "editable": false
   },
   "outputs": [
    {
     "data": {
      "text/html": [
       "<p><strong><pre style='display: inline;'>Question 1b</pre></strong> passed! ✨</p>"
      ],
      "text/plain": [
       "Question 1b results: All test cases passed!"
      ]
     },
     "execution_count": 11,
     "metadata": {},
     "output_type": "execute_result"
    }
   ],
   "source": [
    "grader.check(\"Question 1b\")"
   ]
  },
  {
   "cell_type": "markdown",
   "id": "4c6e4039",
   "metadata": {},
   "source": [
    "Which point has the highest probability? Why?"
   ]
  },
  {
   "attachments": {},
   "cell_type": "markdown",
   "id": "b18b0163",
   "metadata": {},
   "source": [
    "P(X=10) because the binomial coeficient is the biggest when k is n/2 (for an even n)."
   ]
  },
  {
   "cell_type": "markdown",
   "id": "4510e020",
   "metadata": {
    "nbgrader": {
     "grade": false,
     "grade_id": "cell-535e41a827712440",
     "locked": true,
     "schema_version": 3,
     "solution": false,
     "task": false
    }
   },
   "source": [
    "### 1c (1 point bonus)\n",
    "Calculate the probabilities $\\text{P}(X \\leq 8)$, $\\text{P}(X \\leq 10)$, $\\text{P}(X \\leq 12)$ and $\\text{P}(X \\leq 20)$ and store them in the variables 'p_le8', 'p_le10', 'p_le12' and 'p_le20' respectively.\n",
    "\n",
    "Hint: Use X.cdf()"
   ]
  },
  {
   "cell_type": "code",
   "execution_count": 12,
   "id": "04483383",
   "metadata": {
    "nbgrader": {
     "grade": false,
     "grade_id": "cell-73833e6a3bef14f2",
     "locked": false,
     "schema_version": 3,
     "solution": true,
     "task": false
    }
   },
   "outputs": [
    {
     "name": "stdout",
     "output_type": "stream",
     "text": [
      "P(X<=8)=0.2517\n",
      "P(X<=10)=0.5881\n",
      "P(X<=12)=0.8684\n",
      "P(X<=20)=1.0000\n"
     ]
    }
   ],
   "source": [
    "p_le8 = X.cdf(8)\n",
    "p_le10 = X.cdf(10)\n",
    "p_le12 = X.cdf(12)\n",
    "p_le20 = X.cdf(20)\n",
    "\n",
    "print('P(X<=8)={:.4f}\\nP(X<=10)={:.4f}\\nP(X<=12)={:.4f}\\nP(X<=20)={:.4f}'.format(p_le8, p_le10, p_le12,p_le20))"
   ]
  },
  {
   "cell_type": "code",
   "execution_count": 13,
   "id": "1f30beb3",
   "metadata": {
    "deletable": false,
    "editable": false
   },
   "outputs": [
    {
     "data": {
      "text/html": [
       "<p><strong><pre style='display: inline;'>Question 1c</pre></strong> passed! ✨</p>"
      ],
      "text/plain": [
       "Question 1c results: All test cases passed!"
      ]
     },
     "execution_count": 13,
     "metadata": {},
     "output_type": "execute_result"
    }
   ],
   "source": [
    "grader.check(\"Question 1c\")"
   ]
  },
  {
   "cell_type": "markdown",
   "id": "85d4ebef",
   "metadata": {},
   "source": [
    "Is there an increasing trend apparent in calculated probabilities? Also, can you explain why $\\text{P}(X \\leq 20)$ has the highest value of 1? "
   ]
  },
  {
   "attachments": {},
   "cell_type": "markdown",
   "id": "5653fe6e",
   "metadata": {},
   "source": [
    "Yes the probability increases with increasing x value. $P(X \\le 20)$ is 1.0 because it's the probability that our random variable $X$ is smaller or equal to $n$ (=20), which is always true."
   ]
  },
  {
   "cell_type": "markdown",
   "id": "22d7d2b8",
   "metadata": {
    "nbgrader": {
     "grade": false,
     "grade_id": "cell-631f01b5f3a50947",
     "locked": true,
     "schema_version": 3,
     "solution": false,
     "task": false
    }
   },
   "source": [
    "### 1d) (2 points)\n",
    "Calculate the mean, standard deviation, and median of the samples generated in the variable 'x' (question 1,a) and store them in the variables 'mean', 'std' and 'median' respectively.\n",
    "\n",
    "Hint: use numpy package!"
   ]
  },
  {
   "cell_type": "code",
   "execution_count": 14,
   "id": "ed33d4e0",
   "metadata": {
    "nbgrader": {
     "grade": false,
     "grade_id": "cell-36f40a02cef87b84",
     "locked": false,
     "schema_version": 3,
     "solution": true,
     "task": false
    }
   },
   "outputs": [
    {
     "name": "stdout",
     "output_type": "stream",
     "text": [
      "Mean=9.9682 \n",
      "Std=2.2495 \n",
      "Median=10.0000\n"
     ]
    }
   ],
   "source": [
    "mean = np.mean(x)\n",
    "std = np.std(x)\n",
    "median = np.median(x)\n",
    "\n",
    "print('Mean={:.4f} \\nStd={:.4f} \\nMedian={:.4f}'.format(mean, std, median))"
   ]
  },
  {
   "cell_type": "code",
   "execution_count": 15,
   "id": "3bbce354",
   "metadata": {
    "deletable": false,
    "editable": false
   },
   "outputs": [
    {
     "data": {
      "text/html": [
       "<p><strong><pre style='display: inline;'>Question 1d</pre></strong> passed! 🌟</p>"
      ],
      "text/plain": [
       "Question 1d results: All test cases passed!"
      ]
     },
     "execution_count": 15,
     "metadata": {},
     "output_type": "execute_result"
    }
   ],
   "source": [
    "grader.check(\"Question 1d\")"
   ]
  },
  {
   "cell_type": "markdown",
   "id": "28efb8bd",
   "metadata": {},
   "source": [
    "Does the mean value appear to be close to $n \\times p$? Can you explain why we would expect this?"
   ]
  },
  {
   "attachments": {},
   "cell_type": "markdown",
   "id": "34bf957c",
   "metadata": {},
   "source": [
    "Yes, the mean is almost $np$ (=10). The mean and the expected value are almost the same because they are mathematically equivalent concepts, and in large sample sizes and normally distributed data, the mean converges to the expected value. ($np$ is the expected value of a $X$~$Bin(n,p)$)"
   ]
  },
  {
   "cell_type": "markdown",
   "id": "8635ca35",
   "metadata": {
    "nbgrader": {
     "grade": false,
     "grade_id": "cell-74aa8649cf06473d",
     "locked": true,
     "schema_version": 3,
     "solution": false,
     "task": false
    }
   },
   "source": [
    "## Question 2 (6 points)\n",
    "### Multimodal distributions:\n",
    "We will now consider samples from two different binomial distributions with distinct values of $p$.\n",
    "\n",
    "Let $X_1$ denote a random variable with binomial distribution with parameters $p1=0.2$ and $n=20$.\n",
    "Let $X_2$ denote a random variable with binomial distribution with parameters $p2=0.82$ and $n=20$."
   ]
  },
  {
   "cell_type": "code",
   "execution_count": 16,
   "id": "fb92fb74",
   "metadata": {},
   "outputs": [],
   "source": [
    "n = 20\n",
    "p1 = 0.2\n",
    "p2 = 0.8\n",
    "X1 = stats.binom(n, p1)\n",
    "X2 = stats.binom(n, p2)"
   ]
  },
  {
   "cell_type": "markdown",
   "id": "bc390b67",
   "metadata": {},
   "source": [
    "### 2a) (2 points)\n",
    "\n",
    "Generate 5000 random samples from each of the two binomial distributions and store them in the variables 'x1' and 'x2', respectively. Concatenate the samples to create a unified vector 'x12', and plot a histogram of the concatenated samples."
   ]
  },
  {
   "cell_type": "code",
   "execution_count": 17,
   "id": "8bece4c6",
   "metadata": {},
   "outputs": [
    {
     "data": {
      "text/plain": [
       "(array([ 351., 1745., 1933.,  822.,  140.,   55.,  373., 1400., 2099.,\n",
       "        1082.]),\n",
       " array([ 0.,  2.,  4.,  6.,  8., 10., 12., 14., 16., 18., 20.]),\n",
       " <BarContainer object of 10 artists>)"
      ]
     },
     "execution_count": 17,
     "metadata": {},
     "output_type": "execute_result"
    },
    {
     "data": {
      "image/png": "[encoded data removed]",
      "text/plain": [
       "<Figure size 640x480 with 1 Axes>"
      ]
     },
     "metadata": {},
     "output_type": "display_data"
    }
   ],
   "source": [
    "n_samples=5_000\n",
    "np.random.seed(0)\n",
    "\n",
    "\n",
    "x1 = X1.rvs(n_samples)\n",
    "x2 = X2.rvs(n_samples)\n",
    "x12 = np.concatenate((x1, x2))\n",
    "\n",
    "plt.hist(x12)"
   ]
  },
  {
   "cell_type": "code",
   "execution_count": 18,
   "id": "3218f44c",
   "metadata": {
    "deletable": false,
    "editable": false
   },
   "outputs": [
    {
     "data": {
      "text/html": [
       "<p><strong><pre style='display: inline;'>Question 2a</pre></strong> passed! 🌟</p>"
      ],
      "text/plain": [
       "Question 2a results: All test cases passed!"
      ]
     },
     "execution_count": 18,
     "metadata": {},
     "output_type": "execute_result"
    }
   ],
   "source": [
    "grader.check(\"Question 2a\")"
   ]
  },
  {
   "cell_type": "markdown",
   "id": "720b0bc7",
   "metadata": {},
   "source": [
    "### 2b) (4 points)\n",
    "\n",
    "Calculate the mean, median, and the first two modes of the concatenated samples in 'x', and store them in the variables 'mean', 'median', 'mode1', and 'mode2', respectively.\n",
    "\n",
    "Hint: You can use np.unique and np.argsort to find the first and the second modes"
   ]
  },
  {
   "cell_type": "code",
   "execution_count": 19,
   "id": "d30ff278",
   "metadata": {},
   "outputs": [
    {
     "name": "stdout",
     "output_type": "stream",
     "text": [
      "Mean: 10.01 \n",
      "Median: 10.00 \n",
      "First mode: 16.00\n",
      "Second mode: 4.00\n"
     ]
    }
   ],
   "source": [
    "mean = np.mean(x12)\n",
    "median = np.median(x12)\n",
    "\n",
    "values, counts = np.unique(x12, return_counts=True)\n",
    "idx_counts = np.argsort(counts)\n",
    "\n",
    "mode1 = values[idx_counts[-1]]\n",
    "mode2 = values[idx_counts[-2]]\n",
    "\n",
    "\n",
    "print('Mean: {:.2f} \\nMedian: {:.2f} \\nFirst mode: {:.2f}\\nSecond mode: {:.2f}'.format(mean, median, mode1, mode2))"
   ]
  },
  {
   "cell_type": "code",
   "execution_count": 20,
   "id": "b9f6f66a",
   "metadata": {
    "deletable": false,
    "editable": false
   },
   "outputs": [
    {
     "data": {
      "text/html": [
       "<p><strong><pre style='display: inline;'>Question 2b</pre></strong> passed! 🌈</p>"
      ],
      "text/plain": [
       "Question 2b results: All test cases passed!"
      ]
     },
     "execution_count": 20,
     "metadata": {},
     "output_type": "execute_result"
    }
   ],
   "source": [
    "grader.check(\"Question 2b\")"
   ]
  },
  {
   "cell_type": "markdown",
   "id": "c4f52bff",
   "metadata": {},
   "source": [
    "Which of these estimates (mean, median and modes) is more suitable to better represent this particular type of data? Why?"
   ]
  },
  {
   "attachments": {},
   "cell_type": "markdown",
   "id": "569c22f1",
   "metadata": {},
   "source": [
    "The best estimate for bimodal distributions are modes. You have in this case (bimodal) 2 local maxima, and so the 2 modes describe exactly that; and being binomial distributions the local maxima corresponds aproximatly to the 2 expected values."
   ]
  },
  {
   "cell_type": "markdown",
   "id": "69c40e54",
   "metadata": {
    "nbgrader": {
     "grade": false,
     "grade_id": "cell-6cb3f5a1cf371788",
     "locked": true,
     "schema_version": 3,
     "solution": false,
     "task": false
    }
   },
   "source": [
    "## Question 3 (3 points + 1 bonus)\n",
    "\n",
    "### Normal distribution:\n",
    "A normal (Gaussian) distribution is a type of continuous probability distribution characterized by a bell-shaped curve and defined by its mean $\\mu$ and standard deviation $\\sigma$:\n",
    "$$\n",
    "    p(y) = \\frac{1}{\\sqrt{2\\pi\\sigma^2}} e^{-\\frac{(y - \\mu)^2}{2\\sigma^2}}\n",
    "$$\n",
    "We let $Y$ denote a random variable following this distribution."
   ]
  },
  {
   "cell_type": "code",
   "execution_count": 21,
   "id": "2bc6f62e",
   "metadata": {},
   "outputs": [],
   "source": [
    "mu = 3.0\n",
    "sigma = 2.0\n",
    "Y = stats.norm(loc=mu, scale=sigma)\n",
    "\n",
    "# Please check this page for more information: \n",
    "# https://docs.scipy.org/doc/scipy/reference/generated/scipy.stats.norm.html"
   ]
  },
  {
   "cell_type": "markdown",
   "id": "3dca964c",
   "metadata": {},
   "source": [
    "### 3a) (1 point)\n",
    "Generate 10,000 independent samples in a variable named 'y'.\n",
    "\n",
    "Visualize the distribution of the data plot using an histogram. Add a smooth curve obtained using a kernel density estimate (KDE) to the histogram.\n",
    "\n",
    "Hint: you can use sns.histplot."
   ]
  },
  {
   "cell_type": "code",
   "execution_count": 22,
   "id": "e0247cc7",
   "metadata": {
    "nbgrader": {
     "grade": true,
     "grade_id": "cell-b705817b0aa8fe76",
     "locked": false,
     "points": 0,
     "schema_version": 3,
     "solution": true,
     "task": false
    }
   },
   "outputs": [
    {
     "data": {
      "text/plain": [
       "<AxesSubplot: ylabel='Count'>"
      ]
     },
     "execution_count": 22,
     "metadata": {},
     "output_type": "execute_result"
    },
    {
     "data": {
      "image/png": "[encoded data removed]",
      "text/plain": [
       "<Figure size 640x480 with 1 Axes>"
      ]
     },
     "metadata": {},
     "output_type": "display_data"
    }
   ],
   "source": [
    "n_samples=10_000\n",
    "np.random.seed(0)\n",
    "\n",
    "y = Y.rvs(n_samples)\n",
    "\n",
    "sns.histplot(y, kde=True)"
   ]
  },
  {
   "cell_type": "code",
   "execution_count": 23,
   "id": "557e9547",
   "metadata": {
    "deletable": false,
    "editable": false
   },
   "outputs": [
    {
     "data": {
      "text/html": [
       "<p><strong><pre style='display: inline;'>Question 3a</pre></strong> passed! 🎉</p>"
      ],
      "text/plain": [
       "Question 3a results: All test cases passed!"
      ]
     },
     "execution_count": 23,
     "metadata": {},
     "output_type": "execute_result"
    }
   ],
   "source": [
    "grader.check(\"Question 3a\")"
   ]
  },
  {
   "cell_type": "markdown",
   "id": "0d708488",
   "metadata": {},
   "source": [
    "### 3b) (1 point, bonus)\n",
    "Calculate the probabilities $\\text{P}(Y = 2)$, $\\text{P}(Y = 3)$ and $\\text{P}(Y = 4)$ and store them in the variables 'p2', 'p3', and 'p4', respectively.\n"
   ]
  },
  {
   "cell_type": "code",
   "execution_count": 24,
   "id": "d5914d1c",
   "metadata": {},
   "outputs": [
    {
     "name": "stdout",
     "output_type": "stream",
     "text": [
      "P(Y=2)=0.0000 \n",
      "P(Y=3)=0.0000 \n",
      "P(Y=4)=0.0000\n"
     ]
    }
   ],
   "source": [
    "p2 = 0\n",
    "p3 = 0\n",
    "p4 = 0\n",
    "\n",
    "print('P(Y=2)={:.4f} \\nP(Y=3)={:.4f} \\nP(Y=4)={:.4f}'.format(p2, p3, p4))"
   ]
  },
  {
   "cell_type": "code",
   "execution_count": 25,
   "id": "2aaa8a3d",
   "metadata": {
    "deletable": false,
    "editable": false
   },
   "outputs": [
    {
     "data": {
      "text/html": [
       "<p><strong><pre style='display: inline;'>Question 3b</pre></strong> passed! ✨</p>"
      ],
      "text/plain": [
       "Question 3b results: All test cases passed!"
      ]
     },
     "execution_count": 25,
     "metadata": {},
     "output_type": "execute_result"
    }
   ],
   "source": [
    "grader.check(\"Question 3b\")"
   ]
  },
  {
   "cell_type": "markdown",
   "id": "c80c3d08",
   "metadata": {},
   "source": [
    "### 3c) (1 point)\n",
    "Calculate the probabilities $\\text{P}(Y \\leq 2)$, $\\text{P}(2 < Y \\leq 3)$ and $\\text{P}(Y \\geq 4)$ and store them in the variables 'p_le2', 'p_gr2_le3', and 'p_gr4', respectively.\n"
   ]
  },
  {
   "cell_type": "code",
   "execution_count": 26,
   "id": "815ea3bc",
   "metadata": {},
   "outputs": [
    {
     "name": "stdout",
     "output_type": "stream",
     "text": [
      "P(Y<=2)=0.3085\n",
      "P(2<Y<=3)=0.1915\n",
      "P(Y>=4)=0.3085\n"
     ]
    }
   ],
   "source": [
    "p_le2 = Y.cdf(2)\n",
    "p_gr2_le3 = Y.cdf(3) - p_le2\n",
    "p_gr4 = 1 - Y.cdf(4)\n",
    "\n",
    "print('P(Y<=2)={:.4f}\\nP(2<Y<=3)={:.4f}\\nP(Y>=4)={:.4f}'.format(p_le2, p_gr2_le3, p_gr4))"
   ]
  },
  {
   "cell_type": "code",
   "execution_count": 27,
   "id": "5a00572f",
   "metadata": {
    "deletable": false,
    "editable": false
   },
   "outputs": [
    {
     "data": {
      "text/html": [
       "<p><strong><pre style='display: inline;'>Question 3c</pre></strong> passed! ✨</p>"
      ],
      "text/plain": [
       "Question 3c results: All test cases passed!"
      ]
     },
     "execution_count": 27,
     "metadata": {},
     "output_type": "execute_result"
    }
   ],
   "source": [
    "grader.check(\"Question 3c\")"
   ]
  },
  {
   "cell_type": "markdown",
   "id": "335a8539",
   "metadata": {},
   "source": [
    "Do the probabilities $\\text{P}(Y \\leq 2)$ and $\\text{P}(X \\geq 4)$ have the same value? What is the reason for your answer?"
   ]
  },
  {
   "attachments": {},
   "cell_type": "markdown",
   "id": "c64a1a79",
   "metadata": {},
   "source": [
    "Yes, this is because $E[X]$ for $X$~$N(\\mu,\\sigma^2)$ is exactly $\\mu$ (=3) and, since the distance 2-3 and 3-4 are the same, the surface under the density function on one side and the other is also the same."
   ]
  },
  {
   "cell_type": "markdown",
   "id": "e17dcc74",
   "metadata": {},
   "source": [
    "### 3d) (1 point)\n",
    "\n",
    "Calculate the mean, standard deviation, and median of the samples generated in the variable 'y' and store them in the variables 'mean', 'std' and 'median' respectively."
   ]
  },
  {
   "cell_type": "code",
   "execution_count": 28,
   "id": "ecb9fec3",
   "metadata": {},
   "outputs": [
    {
     "name": "stdout",
     "output_type": "stream",
     "text": [
      "Mean=2.9631 \n",
      "Std=1.9751 \n",
      "Median=2.9459\n"
     ]
    }
   ],
   "source": [
    "mean = np.mean(y)\n",
    "std = np.std(y)\n",
    "median = np.median(y)\n",
    "\n",
    "print('Mean={:.4f} \\nStd={:.4f} \\nMedian={:.4f}'.format(mean, std, median))"
   ]
  },
  {
   "cell_type": "code",
   "execution_count": 29,
   "id": "a527de2f",
   "metadata": {
    "deletable": false,
    "editable": false
   },
   "outputs": [
    {
     "data": {
      "text/html": [
       "<p><strong><pre style='display: inline;'>Question 3d</pre></strong> passed! 🌈</p>"
      ],
      "text/plain": [
       "Question 3d results: All test cases passed!"
      ]
     },
     "execution_count": 29,
     "metadata": {},
     "output_type": "execute_result"
    }
   ],
   "source": [
    "grader.check(\"Question 3d\")"
   ]
  },
  {
   "cell_type": "markdown",
   "id": "0de87bf5",
   "metadata": {},
   "source": [
    "Are the mean and the standard deviation close to the $\\mu$ and $\\sigma$? How about the median? Why?"
   ]
  },
  {
   "attachments": {},
   "cell_type": "markdown",
   "id": "49aff0c2",
   "metadata": {},
   "source": [
    "Yes, the mean is almost equal to $\\mu$ and the standard deviation to $\\sigma$. In a normal distribution, the median is equal to the mean of the distribution. This is because a normal distribution is symmetric around its mean, and so the middle value (or median) is located at the same point as the mean."
   ]
  },
  {
   "cell_type": "markdown",
   "id": "e895eb39",
   "metadata": {
    "deletable": false,
    "editable": false
   },
   "source": [
    "---\n",
    "\n",
    "To double-check your work, the cell below will rerun all of the autograder tests."
   ]
  },
  {
   "cell_type": "code",
   "execution_count": 30,
   "id": "cdddc552",
   "metadata": {
    "deletable": false,
    "editable": false
   },
   "outputs": [
    {
     "data": {
      "text/plain": [
       "Question 1a results: All test cases passed!\n",
       "\n",
       "Question 1b results: All test cases passed!\n",
       "\n",
       "Question 1c results: All test cases passed!\n",
       "\n",
       "Question 1d results:\n",
       "    Question 1d - 1 result:\n",
       "        ❌ Test case failed\n",
       "        Trying:\n",
       "            assert_almost_equal((mean - std)/median, 0.771 , places=2)\n",
       "        Expecting nothing\n",
       "        **********************************************************************\n",
       "        Line 1, in Question 1d 0\n",
       "        Failed example:\n",
       "            assert_almost_equal((mean - std)/median, 0.771 , places=2)\n",
       "        Exception raised:\n",
       "            Traceback (most recent call last):\n",
       "              File \"C:\\Program Files\\WindowsApps\\PythonSoftwareFoundation.Python.3.10_3.10.2544.0_x64__qbz5n2kfra8p0\\lib\\doctest.py\", line 1350, in __run\n",
       "                exec(compile(example.source, filename, \"single\",\n",
       "              File \"<doctest Question 1d 0[0]>\", line 1, in <module>\n",
       "                assert_almost_equal((mean - std)/median, 0.771 , places=2)\n",
       "              File \"C:\\Program Files\\WindowsApps\\PythonSoftwareFoundation.Python.3.10_3.10.2544.0_x64__qbz5n2kfra8p0\\lib\\unittest\\case.py\", line 899, in assertAlmostEqual\n",
       "                raise self.failureException(msg)\n",
       "            AssertionError: 0.3353931166664757 != 0.771 within 2 places (0.4356068833335243 difference)\n",
       "        Trying:\n",
       "            assert_almost_equal((mean ** std)+ median, 186.349 , places=2)\n",
       "        Expecting nothing\n",
       "        **********************************************************************\n",
       "        Line 2, in Question 1d 0\n",
       "        Failed example:\n",
       "            assert_almost_equal((mean ** std)+ median, 186.349 , places=2)\n",
       "        Exception raised:\n",
       "            Traceback (most recent call last):\n",
       "              File \"C:\\Program Files\\WindowsApps\\PythonSoftwareFoundation.Python.3.10_3.10.2544.0_x64__qbz5n2kfra8p0\\lib\\doctest.py\", line 1350, in __run\n",
       "                exec(compile(example.source, filename, \"single\",\n",
       "              File \"<doctest Question 1d 0[1]>\", line 1, in <module>\n",
       "                assert_almost_equal((mean ** std)+ median, 186.349 , places=2)\n",
       "              File \"C:\\Program Files\\WindowsApps\\PythonSoftwareFoundation.Python.3.10_3.10.2544.0_x64__qbz5n2kfra8p0\\lib\\unittest\\case.py\", line 899, in assertAlmostEqual\n",
       "                raise self.failureException(msg)\n",
       "            AssertionError: 11.491832527031372 != 186.349 within 2 places (174.85716747296863 difference)\n",
       "\n",
       "Question 2a results: All test cases passed!\n",
       "\n",
       "Question 2b results:\n",
       "    Question 2b - 1 result:\n",
       "        ✅ Test case passed\n",
       "\n",
       "    Question 2b - 2 result:\n",
       "        ❌ Test case failed\n",
       "        Trying:\n",
       "            assert_almost_equal((mode1 - mode2)/ mean, 1.198 , places=2)\n",
       "        Expecting nothing\n",
       "        **********************************************************************\n",
       "        Line 1, in Question 2b 1\n",
       "        Failed example:\n",
       "            assert_almost_equal((mode1 - mode2)/ mean, 1.198 , places=2)\n",
       "        Exception raised:\n",
       "            Traceback (most recent call last):\n",
       "              File \"C:\\Program Files\\WindowsApps\\PythonSoftwareFoundation.Python.3.10_3.10.2544.0_x64__qbz5n2kfra8p0\\lib\\doctest.py\", line 1350, in __run\n",
       "                exec(compile(example.source, filename, \"single\",\n",
       "              File \"<doctest Question 2b 1[0]>\", line 1, in <module>\n",
       "                assert_almost_equal((mode1 - mode2)/ mean, 1.198 , places=2)\n",
       "              File \"C:\\Program Files\\WindowsApps\\PythonSoftwareFoundation.Python.3.10_3.10.2544.0_x64__qbz5n2kfra8p0\\lib\\unittest\\case.py\", line 899, in assertAlmostEqual\n",
       "                raise self.failureException(msg)\n",
       "            AssertionError: 4.049768195750877 != 1.198 within 2 places (2.851768195750877 difference)\n",
       "\n",
       "Question 3a results: All test cases passed!\n",
       "\n",
       "Question 3b results: All test cases passed!\n",
       "\n",
       "Question 3c results: All test cases passed!\n",
       "\n",
       "Question 3d results: All test cases passed!"
      ]
     },
     "execution_count": 30,
     "metadata": {},
     "output_type": "execute_result"
    }
   ],
   "source": [
    "grader.check_all()"
   ]
  },
  {
   "cell_type": "code",
   "execution_count": null,
   "id": "c4624ec1",
   "metadata": {},
   "outputs": [],
   "source": []
  }
 ],
 "metadata": {
  "celltoolbar": "Create Assignment",
  "kernelspec": {
   "display_name": "Python 3",
   "language": "python",
   "name": "python3"
  },
  "language_info": {
   "codemirror_mode": {
    "name": "ipython",
    "version": 3
   },
   "file_extension": ".py",
   "mimetype": "text/x-python",
   "name": "python",
   "nbconvert_exporter": "python",
   "pygments_lexer": "ipython3",
   "version": "3.10.9"
  },
  "vscode": {
   "interpreter": {
    "hash": "35caae85628933d48d7cb6bdf74fde406ea2b5a95fce64457d0a40c24946b591"
   }
  }
 },
 "nbformat": 4,
 "nbformat_minor": 5
}
